{
  "nbformat": 4,
  "nbformat_minor": 0,
  "metadata": {
    "colab": {
      "name": "mybch.ipynb",
      "provenance": [],
      "authorship_tag": "ABX9TyPbogXstlTekjSe+ovMuU/+",
      "include_colab_link": true
    },
    "kernelspec": {
      "name": "python3",
      "display_name": "Python 3"
    }
  },
  "cells": [
    {
      "cell_type": "markdown",
      "metadata": {
        "id": "view-in-github",
        "colab_type": "text"
      },
      "source": [
        "<a href=\"https://colab.research.google.com/github/jumbokh/class1091/blob/master/ML/notebooks/mybch.ipynb\" target=\"_parent\"><img src=\"https://colab.research.google.com/assets/colab-badge.svg\" alt=\"Open In Colab\"/></a>"
      ]
    },
    {
      "cell_type": "code",
      "metadata": {
        "id": "A6_X8n70XY9m",
        "outputId": "b8eb5df3-31b8-49d7-fa51-5a28651372da",
        "colab": {
          "base_uri": "https://localhost:8080/",
          "height": 89
        }
      },
      "source": [
        "!pip3 install --user sympy\n",
        "!pip3 install --user numpy\n",
        "!pip3 install --user docopt"
      ],
      "execution_count": 12,
      "outputs": [
        {
          "output_type": "stream",
          "text": [
            "Requirement already satisfied: sympy in /usr/local/lib/python3.6/dist-packages (1.1.1)\n",
            "Requirement already satisfied: mpmath>=0.19 in /usr/local/lib/python3.6/dist-packages (from sympy) (1.1.0)\n",
            "Requirement already satisfied: numpy in /usr/local/lib/python3.6/dist-packages (1.18.5)\n",
            "Requirement already satisfied: docopt in /usr/local/lib/python3.6/dist-packages (0.6.2)\n"
          ],
          "name": "stdout"
        }
      ]
    },
    {
      "cell_type": "code",
      "metadata": {
        "id": "PXrk4fjkXgiJ",
        "outputId": "45899bce-8d64-40f8-ff49-66c2d6bf81c4",
        "colab": {
          "base_uri": "https://localhost:8080/",
          "height": 35
        }
      },
      "source": [
        "!git clone https://github.com/jkrauze/bch.git\n",
        "import bch"
      ],
      "execution_count": 13,
      "outputs": [
        {
          "output_type": "stream",
          "text": [
            "fatal: destination path 'bch' already exists and is not an empty directory.\n"
          ],
          "name": "stdout"
        }
      ]
    },
    {
      "cell_type": "code",
      "metadata": {
        "id": "NEZCqwm3YGWZ",
        "outputId": "0d148377-463e-41f1-cc42-30a86d297bd1",
        "colab": {
          "base_uri": "https://localhost:8080/",
          "height": 125
        }
      },
      "source": [
        "!python bch/bch.py -v"
      ],
      "execution_count": 14,
      "outputs": [
        {
          "output_type": "stream",
          "text": [
            "Usage:\n",
            "  bch.py [options] enc CODE_FILE [FILE]\n",
            "  bch.py [options] dec CODE_FILE [FILE]\n",
            "  bch.py [options] gen N B D CODE_FILE\n",
            "  bch.py (-h | --help)\n",
            "  bch.py --version\n"
          ],
          "name": "stdout"
        }
      ]
    },
    {
      "cell_type": "code",
      "metadata": {
        "id": "RsGWt-PtYa8e",
        "outputId": "59321882-d510-4b86-9913-2ecb12180893",
        "colab": {
          "base_uri": "https://localhost:8080/",
          "height": 35
        }
      },
      "source": [
        "!python bch/bch.py --version"
      ],
      "execution_count": 15,
      "outputs": [
        {
          "output_type": "stream",
          "text": [
            "BCH v0.1\n"
          ],
          "name": "stdout"
        }
      ]
    },
    {
      "cell_type": "markdown",
      "metadata": {
        "id": "zR6jKTgdY5Uy"
      },
      "source": [
        "### https://github.com/jkent/python-bchlib.git"
      ]
    },
    {
      "cell_type": "code",
      "metadata": {
        "id": "DoYGgB21YgDY",
        "outputId": "85a83b19-ab16-4ebe-e161-3387c8e7e980",
        "colab": {
          "base_uri": "https://localhost:8080/",
          "height": 35
        }
      },
      "source": [
        "! pip install bchlib"
      ],
      "execution_count": 16,
      "outputs": [
        {
          "output_type": "stream",
          "text": [
            "Requirement already satisfied: bchlib in /usr/local/lib/python3.6/dist-packages (0.14.0)\n"
          ],
          "name": "stdout"
        }
      ]
    },
    {
      "cell_type": "code",
      "metadata": {
        "id": "pKpxK0KGZCKB"
      },
      "source": [
        "import bchlib\n",
        "import hashlib\n",
        "import os\n",
        "import random"
      ],
      "execution_count": 17,
      "outputs": []
    },
    {
      "cell_type": "code",
      "metadata": {
        "id": "oi80HO-tZK1w",
        "outputId": "1faaac96-9af4-451c-b33e-5fad2dd871f4",
        "colab": {
          "base_uri": "https://localhost:8080/",
          "height": 107
        }
      },
      "source": [
        "# create a bch object\n",
        "BCH_POLYNOMIAL = 8219\n",
        "BCH_BITS = 16\n",
        "bch = bchlib.BCH(BCH_POLYNOMIAL, BCH_BITS)\n",
        "\n",
        "# random data\n",
        "data = bytearray(os.urandom(512))\n",
        "\n",
        "# encode and make a \"packet\"\n",
        "ecc = bch.encode(data)\n",
        "packet = data + ecc\n",
        "\n",
        "# print hash of packet\n",
        "sha1_initial = hashlib.sha1(packet)\n",
        "print('sha1: %s' % (sha1_initial.hexdigest(),))\n",
        "\n",
        "def bitflip(packet):\n",
        "    byte_num = random.randint(0, len(packet) - 1)\n",
        "    bit_num = random.randint(0, 7)\n",
        "    packet[byte_num] ^= (1 << bit_num)\n",
        "\n",
        "# make BCH_BITS errors\n",
        "for _ in range(BCH_BITS):\n",
        "    bitflip(packet)\n",
        "\n",
        "# print hash of packet\n",
        "sha1_corrupt = hashlib.sha1(packet)\n",
        "print('sha1: %s' % (sha1_corrupt.hexdigest(),))\n",
        "\n",
        "# de-packetize\n",
        "data, ecc = packet[:-bch.ecc_bytes], packet[-bch.ecc_bytes:]\n",
        "\n",
        "# correct\n",
        "bitflips = bch.decode_inplace(data, ecc)\n",
        "print('bitflips: %d' % (bitflips))\n",
        "\n",
        "# packetize\n",
        "packet = data + ecc\n",
        "\n",
        "# print hash of packet\n",
        "sha1_corrected = hashlib.sha1(packet)\n",
        "print('sha1: %s' % (sha1_corrected.hexdigest(),))\n",
        "\n",
        "if sha1_initial.digest() == sha1_corrected.digest():\n",
        "    print('Corrected!')\n",
        "else:\n",
        "    print('Failed')"
      ],
      "execution_count": 18,
      "outputs": [
        {
          "output_type": "stream",
          "text": [
            "sha1: 8a146c32746cbd86e6ac175d511e6e85d56ef043\n",
            "sha1: 6959d972901c42d2ad2abd27fc5bb2f46c296577\n",
            "bitflips: 16\n",
            "sha1: 8a146c32746cbd86e6ac175d511e6e85d56ef043\n",
            "Corrected!\n"
          ],
          "name": "stdout"
        }
      ]
    },
    {
      "cell_type": "markdown",
      "metadata": {
        "id": "jawPKiwraBmm"
      },
      "source": [
        "### https://stackoverflow.com/questions/61458438/difference-between-bch-code-in-matlab-and-python"
      ]
    },
    {
      "cell_type": "code",
      "metadata": {
        "id": "Iwl_BJWJZQUo",
        "outputId": "bf705736-4414-428c-91b0-b366f5e65abe",
        "colab": {
          "base_uri": "https://localhost:8080/",
          "height": 89
        }
      },
      "source": [
        "import bchlib\n",
        "import hashlib\n",
        "import os\n",
        "import random\n",
        "\n",
        "# create a bch object\n",
        "BCH_POLYNOMIAL = 8219\n",
        "BCH_BITS = 72\n",
        "bch = bchlib.BCH(BCH_POLYNOMIAL, BCH_BITS)\n",
        "\n",
        "# random data\n",
        "data = bytearray(os.urandom(127))\n",
        "\n",
        "# encode and make a \"packet\"\n",
        "ecc = bch.encode(data)\n",
        "packet = data + ecc\n",
        "# print length of ecc, data, and packet\n",
        "print('data size: %d' % (len(data)))\n",
        "print('ecc size: %d' % (len(ecc)))\n",
        "print('packet size: %d' % (len(packet)))\n",
        "\n",
        "# print hash of packet\n",
        "sha1_initial = hashlib.sha1(packet)\n",
        "print('sha1: %s' % (sha1_initial.hexdigest(),))\n",
        "\n",
        "def bitflip(packet):\n",
        "    byte_num = random.randint(0, len(packet) - 1)\n",
        "    bit_num = random.randint(0, 7)\n",
        "    packet[byte_num] ^= (1 << bit_num)"
      ],
      "execution_count": 19,
      "outputs": [
        {
          "output_type": "stream",
          "text": [
            "data size: 127\n",
            "ecc size: 117\n",
            "packet size: 244\n",
            "sha1: b53122bb26aeea0e0d10655cac589417152835b8\n"
          ],
          "name": "stdout"
        }
      ]
    },
    {
      "cell_type": "code",
      "metadata": {
        "id": "lViD6KOdZbX4",
        "outputId": "498b00a5-6dc6-4ada-8b9e-5101413dd204",
        "colab": {
          "base_uri": "https://localhost:8080/",
          "height": 89
        }
      },
      "source": [
        "# make BCH_BITS errors\n",
        "for _ in range(BCH_BITS):\n",
        "    bitflip(packet)\n",
        "\n",
        "# print hash of packet\n",
        "sha1_corrupt = hashlib.sha1(packet)\n",
        "print('sha1: %s' % (sha1_corrupt.hexdigest(),))\n",
        "\n",
        "# de-packetize\n",
        "data, ecc = packet[:-bch.ecc_bytes], packet[-bch.ecc_bytes:]\n",
        "\n",
        "# correct\n",
        "bitflips = bch.decode_inplace(data, ecc)\n",
        "print('bitflips: %d' % (bitflips))\n",
        "\n",
        "# packetize\n",
        "packet = data + ecc\n",
        "\n",
        "# print hash of packet\n",
        "sha1_corrected = hashlib.sha1(packet)\n",
        "print('sha1: %s' % (sha1_corrected.hexdigest(),))\n",
        "\n",
        "if sha1_initial.digest() == sha1_corrected.digest():\n",
        "    print('Corrected!')\n",
        "else:\n",
        "    print('Failed')"
      ],
      "execution_count": 20,
      "outputs": [
        {
          "output_type": "stream",
          "text": [
            "sha1: bfb7011fea51dd83ee66b7a93b9bc084d8e63712\n",
            "bitflips: 70\n",
            "sha1: b53122bb26aeea0e0d10655cac589417152835b8\n",
            "Corrected!\n"
          ],
          "name": "stdout"
        }
      ]
    },
    {
      "cell_type": "code",
      "metadata": {
        "id": "bH7ac95eZgxK"
      },
      "source": [
        ""
      ],
      "execution_count": 20,
      "outputs": []
    }
  ]
}