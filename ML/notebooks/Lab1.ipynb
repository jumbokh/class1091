{
  "nbformat": 4,
  "nbformat_minor": 0,
  "metadata": {
    "kernelspec": {
      "display_name": "Python 3",
      "language": "python",
      "name": "python3"
    },
    "language_info": {
      "codemirror_mode": {
        "name": "ipython",
        "version": 3
      },
      "file_extension": ".py",
      "mimetype": "text/x-python",
      "name": "python",
      "nbconvert_exporter": "python",
      "pygments_lexer": "ipython3",
      "version": "3.8.2-final"
    },
    "colab": {
      "name": "Lab1.ipynb",
      "provenance": []
    }
  },
  "cells": [
    {
      "cell_type": "markdown",
      "metadata": {
        "id": "5SgYQ-hsxwPG"
      },
      "source": [
        "# TensorFlow 2.0 介紹"
      ]
    },
    {
      "cell_type": "code",
      "metadata": {
        "id": "sfnEdOr8xwPJ"
      },
      "source": [
        "import tensorflow as tf"
      ],
      "execution_count": 1,
      "outputs": []
    },
    {
      "cell_type": "code",
      "metadata": {
        "id": "z4vEkztjyxsx",
        "outputId": "e06d3eaf-8a65-41af-f7e7-60139a6b613f",
        "colab": {
          "base_uri": "https://localhost:8080/",
          "height": 35
        }
      },
      "source": [
        "tf.__version__"
      ],
      "execution_count": 2,
      "outputs": [
        {
          "output_type": "execute_result",
          "data": {
            "application/vnd.google.colaboratory.intrinsic+json": {
              "type": "string"
            },
            "text/plain": [
              "'2.3.0'"
            ]
          },
          "metadata": {
            "tags": []
          },
          "execution_count": 2
        }
      ]
    },
    {
      "cell_type": "markdown",
      "metadata": {
        "id": "L6WvqZg9xwPX"
      },
      "source": [
        "TensorFlow 的基本型態："
      ]
    },
    {
      "cell_type": "code",
      "metadata": {
        "scrolled": true,
        "tags": [],
        "id": "xk9f4L_1xwPY",
        "outputId": "2822dcab-5a73-44dd-b235-ed831fea7e81",
        "colab": {
          "base_uri": "https://localhost:8080/"
        }
      },
      "source": [
        "# 產生一個常數\n",
        "c = tf.constant(1)\n",
        "# 產生一個變數\n",
        "v = tf.Variable(1)\n",
        "print(c)\n",
        "print(v)"
      ],
      "execution_count": 3,
      "outputs": [
        {
          "output_type": "stream",
          "text": [
            "tf.Tensor(1, shape=(), dtype=int32)\n",
            "<tf.Variable 'Variable:0' shape=() dtype=int32, numpy=1>\n"
          ],
          "name": "stdout"
        }
      ]
    },
    {
      "cell_type": "markdown",
      "metadata": {
        "id": "mT62EZRbxwPl"
      },
      "source": [
        "零階張量稱為標量。"
      ]
    },
    {
      "cell_type": "code",
      "metadata": {
        "tags": [],
        "id": "K_-O9aJwxwPn",
        "outputId": "4cbf4d6e-5efa-4756-bba0-14a8b357899e",
        "colab": {
          "base_uri": "https://localhost:8080/"
        }
      },
      "source": [
        "import tensorflow as tf\n",
        "x = tf.constant(4)\n",
        "print(x)  # 顯示Tensor 常數資訊，Shape=()表示標量，dtype=int32 表示整數\n",
        "print(\"{} 階Tensor\".format(x.ndim))  # 顯示Tensor 的維度"
      ],
      "execution_count": 4,
      "outputs": [
        {
          "output_type": "stream",
          "text": [
            "tf.Tensor(4, shape=(), dtype=int32)\n",
            "0 階Tensor\n"
          ],
          "name": "stdout"
        }
      ]
    },
    {
      "cell_type": "markdown",
      "metadata": {
        "id": "pb0d7c7VxwPw"
      },
      "source": [
        "一階張量稱為向量。"
      ]
    },
    {
      "cell_type": "code",
      "metadata": {
        "tags": [],
        "id": "_jvBaLuExwPy",
        "outputId": "b9910837-3054-4384-8318-5590ee5a97cb"
      },
      "source": [
        "x = tf.constant([1, 2, 3, 4, 5, 6]) \n",
        "print(\"{}階Tensor \".format(x.ndim))    # 顯示Tensor的維度"
      ],
      "execution_count": null,
      "outputs": [
        {
          "output_type": "stream",
          "text": [
            "1階Tensor \n"
          ],
          "name": "stdout"
        }
      ]
    },
    {
      "cell_type": "markdown",
      "metadata": {
        "id": "iocRJnmVxwP-"
      },
      "source": [
        "二階張量稱為矩陣。"
      ]
    },
    {
      "cell_type": "code",
      "metadata": {
        "tags": [],
        "id": "QLb1SQ-QxwQB",
        "outputId": "760ad0df-95d3-490e-992d-d86d554d3179"
      },
      "source": [
        "x = tf.constant([[1, 2, 3], [4, 5, 6]])\n",
        "print(\"{}階Tensor \".format(x.ndim))    # 顯示Tensor的維度"
      ],
      "execution_count": null,
      "outputs": [
        {
          "output_type": "stream",
          "text": [
            "2階Tensor \n"
          ],
          "name": "stdout"
        }
      ]
    },
    {
      "cell_type": "markdown",
      "metadata": {
        "id": "gC60Qma3xwQK"
      },
      "source": [
        "---\n",
        "## Eager Execution\n",
        "\n",
        "\n",
        "TensorFlow 引入了「Eager Execution」動態圖模式，這個模式在TensorFlow2.0為預設模式，不同與以往的靜態圖模式需要建立計算圖才能執行，Eager Execution模式一旦執行就會返回數值。這使TensorFlow 更容易入門，也使研發更直觀。\n",
        "\n",
        "**Eager Execution 的優點如下：**\n",
        "\n",
        "- 立即返回數值，方便除錯。\n",
        "- 無需 Session.run() 就可以把它們的值返回到 Python。\n",
        "- 為自定義和高階梯度提供強大支援。\n",
        "- 幾乎所有 TensorFlow 運算都適用。\n",
        "\n",
        "\n",
        "**TensorFlow 1.x 和 TensorFlow2.0比較：**\n",
        "```\n",
        "TensorFlow 1.x code:\n",
        ">>> a = tf.constant(1)\n",
        ">>> print(a)\n",
        "Tensor(\"Const_5:0\", shape=(), dtype=int32)\n",
        "\n",
        ">>> sess = tf.Session()\n",
        ">>> print(\"a = {}\".format(sess.run(a)))\n",
        "a = 1\n",
        "\n",
        "\n",
        "TensorFlow 2.0 code:\n",
        ">>> a = tf.constant(1)\n",
        ">>> print(a)\n",
        "tf.Tensor(1, shape=(), dtype=int32)\n",
        "```"
      ]
    },
    {
      "cell_type": "markdown",
      "metadata": {
        "id": "IJgbMWymxwQL"
      },
      "source": [
        "**TensorFlow 基本運算：**\n",
        "\n",
        "Import 必要套件"
      ]
    },
    {
      "cell_type": "code",
      "metadata": {
        "id": "ekOIjUQZxwQN",
        "outputId": "821b76a9-30db-4d12-a005-7121c1d9c5d0",
        "colab": {
          "base_uri": "https://localhost:8080/"
        }
      },
      "source": [
        "import numpy as np\n",
        "import tensorflow as tf\n",
        "\n",
        "print(\"Eager Execution 是否啟動: {}\".format(tf.executing_eagerly()))"
      ],
      "execution_count": 5,
      "outputs": [
        {
          "output_type": "stream",
          "text": [
            "Eager Execution 是否啟動: True\n"
          ],
          "name": "stdout"
        }
      ]
    },
    {
      "cell_type": "markdown",
      "metadata": {
        "id": "YXig4w04xwQZ"
      },
      "source": [
        "定義常數 Tensor"
      ]
    },
    {
      "cell_type": "code",
      "metadata": {
        "id": "PMMh7uIYxwQc",
        "outputId": "9fc918dd-fb51-4355-84cd-5ebf6484ceea",
        "colab": {
          "base_uri": "https://localhost:8080/"
        }
      },
      "source": [
        "a = tf.constant(3)\n",
        "b = tf.constant(4)\n",
        "print(\"a = {}\".format(a))\n",
        "print(\"b = {}\".format(b))"
      ],
      "execution_count": 6,
      "outputs": [
        {
          "output_type": "stream",
          "text": [
            "a = 3\n",
            "b = 4\n"
          ],
          "name": "stdout"
        }
      ]
    },
    {
      "cell_type": "code",
      "metadata": {
        "id": "uJlMcK4U5OiS",
        "outputId": "43d2fd39-1148-4d86-ec3b-7cd0a278e64a",
        "colab": {
          "base_uri": "https://localhost:8080/"
        }
      },
      "source": [
        "print(a)"
      ],
      "execution_count": 7,
      "outputs": [
        {
          "output_type": "stream",
          "text": [
            "tf.Tensor(3, shape=(), dtype=int32)\n"
          ],
          "name": "stdout"
        }
      ]
    },
    {
      "cell_type": "markdown",
      "metadata": {
        "id": "FrHqU8eyxwQj"
      },
      "source": [
        "檢查資料型態"
      ]
    },
    {
      "cell_type": "code",
      "metadata": {
        "id": "HbyRjP9VxwQk",
        "outputId": "8c95c12b-b92f-4a34-83d0-e90e6e6c3d6c",
        "colab": {
          "base_uri": "https://localhost:8080/"
        }
      },
      "source": [
        "print(a)\n",
        "print(b)"
      ],
      "execution_count": 8,
      "outputs": [
        {
          "output_type": "stream",
          "text": [
            "tf.Tensor(3, shape=(), dtype=int32)\n",
            "tf.Tensor(4, shape=(), dtype=int32)\n"
          ],
          "name": "stdout"
        }
      ]
    },
    {
      "cell_type": "markdown",
      "metadata": {
        "id": "z7wQfA3zxwQu"
      },
      "source": [
        "基本的運算"
      ]
    },
    {
      "cell_type": "code",
      "metadata": {
        "id": "sH6ZviC6xwQv",
        "outputId": "a2ca4bfa-4ba8-4b70-ee5d-c83ebc50af9c",
        "colab": {
          "base_uri": "https://localhost:8080/"
        }
      },
      "source": [
        "c = a + b\n",
        "print(\"a + b = {}\".format(c))\n",
        "d = a * b\n",
        "print(\"a * b = {}\".format(d))"
      ],
      "execution_count": 9,
      "outputs": [
        {
          "output_type": "stream",
          "text": [
            "a + b = 7\n",
            "a * b = 12\n"
          ],
          "name": "stdout"
        }
      ]
    },
    {
      "cell_type": "markdown",
      "metadata": {
        "id": "iaBGbpoRxwQ6"
      },
      "source": [
        "2D Tensor 的運算，在Eager Execution模式下可以混和 Tensor 和 Numpy 做運算"
      ]
    },
    {
      "cell_type": "code",
      "metadata": {
        "id": "7lwTCXCwxwQ7",
        "outputId": "bb01ab20-8255-430e-a172-f26ca77a273c",
        "colab": {
          "base_uri": "https://localhost:8080/"
        }
      },
      "source": [
        "a = tf.constant([[1., 2.], [3., 4.]], dtype=tf.float32)\n",
        "b = np.array([[1., 0.], [2., 3.]], dtype=np.float32)\n",
        "print(\"a constant: {}D Tensor\".format(a.ndim))\n",
        "\n",
        "c = a + b\n",
        "print(\"a + b = \\n{}\".format(c))\n",
        "d = tf.matmul(a, b)\n",
        "print(\"a * b = \\n{}\".format(d))"
      ],
      "execution_count": 10,
      "outputs": [
        {
          "output_type": "stream",
          "text": [
            "a constant: 2D Tensor\n",
            "a + b = \n",
            "[[2. 2.]\n",
            " [5. 7.]]\n",
            "a * b = \n",
            "[[ 5.  6.]\n",
            " [11. 12.]]\n"
          ],
          "name": "stdout"
        }
      ]
    },
    {
      "cell_type": "markdown",
      "metadata": {
        "id": "m9332hIHxwRG"
      },
      "source": [
        "輸出的結果為 Tensor 格式，我們可以將它轉為 Numpy 格式"
      ]
    },
    {
      "cell_type": "code",
      "metadata": {
        "id": "vxtWo1VRxwRJ",
        "outputId": "c602874e-9e80-4f26-ebc1-920b65c07b68",
        "colab": {
          "base_uri": "https://localhost:8080/"
        }
      },
      "source": [
        "print(c)\n",
        "print(\"NumpyArray:\\n {}\".format(c.numpy()))"
      ],
      "execution_count": 11,
      "outputs": [
        {
          "output_type": "stream",
          "text": [
            "tf.Tensor(\n",
            "[[2. 2.]\n",
            " [5. 7.]], shape=(2, 2), dtype=float32)\n",
            "NumpyArray:\n",
            " [[2. 2.]\n",
            " [5. 7.]]\n"
          ],
          "name": "stdout"
        }
      ]
    },
    {
      "cell_type": "markdown",
      "metadata": {
        "id": "HUCrqaeuxwRR"
      },
      "source": [
        "計算梯度"
      ]
    },
    {
      "cell_type": "code",
      "metadata": {
        "id": "-kMXOKtTxwRV",
        "outputId": "42dc1076-31f1-48b3-f291-c5c009903402"
      },
      "source": [
        "w = tf.Variable([[1.0]])\n",
        "with tf.GradientTape() as tape:\n",
        "    loss = w * w\n",
        "\n",
        "grad = tape.gradient(loss, w)\n",
        "print(grad)"
      ],
      "execution_count": null,
      "outputs": [
        {
          "output_type": "stream",
          "text": [
            "tf.Tensor([[2.]], shape=(1, 1), dtype=float32)\n"
          ],
          "name": "stdout"
        }
      ]
    },
    {
      "cell_type": "markdown",
      "metadata": {
        "id": "J6woOM3jxwRf"
      },
      "source": [
        "---\n",
        "## Keras\n",
        "\n",
        "TensorFlow2.0將Keras納為內建高階API，因此不必再而外安裝keras套件，直接透過`tf.keras`指令使用。相較於`tf.keras`和`keras`的差別，`tf.keras`更能全面支援tensorflow的指令與模式，例如支援Eager Exection, tf.data, TPU訓練等等。\n",
        "\n",
        "下面將會介紹兩種最常使用的網路搭建方法：\n",
        "- Sequential Model (序列模型)\n",
        "- Function API (函數式模型)"
      ]
    },
    {
      "cell_type": "markdown",
      "metadata": {
        "id": "SsDlZfG3xwRg"
      },
      "source": [
        "### Import 必要套件"
      ]
    },
    {
      "cell_type": "code",
      "metadata": {
        "id": "ASvydUCqxwRi"
      },
      "source": [
        "import tensorflow as tf\n",
        "from tensorflow import keras\n",
        "from tensorflow.keras import layers\n",
        "from tensorflow.keras.utils import plot_model\n",
        "from IPython.display import Image"
      ],
      "execution_count": 12,
      "outputs": []
    },
    {
      "cell_type": "markdown",
      "metadata": {
        "id": "dFLTMiqzxwRt"
      },
      "source": [
        "### Sequential Model\n",
        "\n",
        "Sequential Model有兩種方法搭建，下面為分類問題範例：輸入為28x28 (拉平為784的一維向量)的影像，輸出為10 (分為十個類別)。\n",
        "\n",
        "**Ex1：**"
      ]
    },
    {
      "cell_type": "code",
      "metadata": {
        "id": "cHAONDmhxwRu"
      },
      "source": [
        "model = keras.Sequential(name='Sequential')\n",
        "model.add(layers.Dense(64, activation='relu', input_shape=(784,)))\n",
        "model.add(layers.Dense(64, activation='relu'))\n",
        "model.add(layers.Dense(10, activation='softmax'))"
      ],
      "execution_count": 13,
      "outputs": []
    },
    {
      "cell_type": "markdown",
      "metadata": {
        "id": "3ahGtmqTxwR2"
      },
      "source": [
        "**Ex2：**"
      ]
    },
    {
      "cell_type": "code",
      "metadata": {
        "id": "_Hgx_ny-xwR4"
      },
      "source": [
        "model = tf.keras.Sequential([layers.Dense(64, activation='relu', input_shape=(784,)),\n",
        "                             layers.Dense(64, activation='relu'), \n",
        "                             layers.Dense(10, activation='softmax')])"
      ],
      "execution_count": null,
      "outputs": []
    },
    {
      "cell_type": "markdown",
      "metadata": {
        "id": "f6AuOr79xwSA"
      },
      "source": [
        "顯示出剛剛搭建的網路"
      ]
    },
    {
      "cell_type": "code",
      "metadata": {
        "id": "ZnDOGrDRxwSB",
        "outputId": "a9ceb692-ce4e-43ca-9230-54744181fc4d",
        "colab": {
          "base_uri": "https://localhost:8080/",
          "height": 369
        }
      },
      "source": [
        "# 產生網絡拓撲圖\n",
        "plot_model(model, to_file='Sequential_Model.png')\n",
        "\n",
        "# 秀出網絡拓撲圖\n",
        "Image('Sequential_Model.png')"
      ],
      "execution_count": 14,
      "outputs": [
        {
          "output_type": "execute_result",
          "data": {
            "image/png": "[encoded data removed]",
            "text/plain": [
              "<IPython.core.display.Image object>"
            ]
          },
          "metadata": {
            "tags": []
          },
          "execution_count": 14
        }
      ]
    },
    {
      "cell_type": "markdown",
      "metadata": {
        "id": "acZPkiSDxwSQ"
      },
      "source": [
        "### Functional API\n",
        "**1. Sample Network：**使用Functional API 一樣可以快速幾行代碼完成和上面Sequential Model 相同的架構。"
      ]
    },
    {
      "cell_type": "code",
      "metadata": {
        "id": "hHi1oRugxwSR",
        "outputId": "366e0fbd-e077-473a-ed77-68b89faf95f5",
        "colab": {
          "base_uri": "https://localhost:8080/",
          "height": 369
        }
      },
      "source": [
        "inputs = keras.Input(shape=(784,), name='Input')\n",
        "hidden1 = layers.Dense(64, activation='relu', name='hidden1')(inputs)\n",
        "hidden2 = layers.Dense(64, activation='relu', name='hidden2')(hidden1)\n",
        "outputs = layers.Dense(10, activation='softmax', name='Output')(hidden2)\n",
        "\n",
        "model = keras.Model(inputs=inputs, outputs=outputs)\n",
        "\n",
        "# 產生網絡拓撲圖\n",
        "plot_model(model, to_file='Functional_API_Sample_Model.png')\n",
        "\n",
        "# 秀出網絡拓撲圖\n",
        "Image('Functional_API_Sample_Model.png')"
      ],
      "execution_count": 15,
      "outputs": [
        {
          "output_type": "execute_result",
          "data": {
            "image/png": "[encoded data removed]",
            "text/plain": [
              "<IPython.core.display.Image object>"
            ]
          },
          "metadata": {
            "tags": []
          },
          "execution_count": 15
        }
      ]
    },
    {
      "cell_type": "markdown",
      "metadata": {
        "id": "fJ4SuRE1xwSY"
      },
      "source": [
        "**Multi Input Model：**多輸入單輸出模型，下面的範例為商品價格預測，要預測商品價格，我們需要商品照片、品牌、使用狀況等等。而商品圖片和品牌我們可以經過不同層輸入並做不同的處理，網路架構如下。"
      ]
    },
    {
      "cell_type": "code",
      "metadata": {
        "id": "Uygc06cyxwSb",
        "outputId": "b18d6847-a202-4a30-8243-1cd1251c06a8"
      },
      "source": [
        "img_input = keras.Input(shape=(28, 28, 1), name='Image_Input')\n",
        "info_input = keras.Input(shape=(1, ), name='Information_Input')\n",
        "\n",
        "hidden1_1 = layers.Conv2D(64, kernel_size=5, strides=2, activation='relu', name='hidden1_1')(img_input)\n",
        "hidden1_2 = layers.Conv2D(32, kernel_size=5, strides=2, activation='relu', name='hidden1_2')(hidden1_1)\n",
        "hidden1_2_ft= layers.Flatten()(hidden1_2)\n",
        "hidden1_3 = layers.Dense(64, activation='relu', name='hidden1_3')(info_input)\n",
        "concat = layers.Concatenate()([hidden1_2_ft, hidden1_3])\n",
        "hidden2 = layers.Dense(64, activation='relu', name='hidden2')(concat)\n",
        "outputs = layers.Dense(1, name='Output')(hidden2)\n",
        "\n",
        "model = keras.Model(inputs=[img_input, info_input], outputs=outputs)\n",
        "\n",
        "# 產生網絡拓撲圖\n",
        "plot_model(model, to_file='Functional_API_Multi_Input_Model.png')\n",
        "\n",
        "# 秀出網絡拓撲圖\n",
        "Image('Functional_API_Multi_Input_Model.png')"
      ],
      "execution_count": null,
      "outputs": [
        {
          "output_type": "execute_result",
          "data": {
            "image/png": "[encoded data removed]",
            "text/plain": [
              "<IPython.core.display.Image object>"
            ]
          },
          "metadata": {
            "tags": []
          },
          "execution_count": 6
        }
      ]
    },
    {
      "cell_type": "markdown",
      "metadata": {
        "id": "oQSs_65qxwSh"
      },
      "source": [
        "**Multi Output Network：**單輸入多輸出模型，這種類型的架構在影響處理的領域很長看到，下面舉幾個常見多輸出模型應用例子。\n",
        "\n",
        "- 物件偵測：輸入一張圖像，預測物件位置與物件類別等。\n",
        "- 人像識別：輸入一張圖像，預測圖片中人的性別、年齡等。"
      ]
    },
    {
      "cell_type": "code",
      "metadata": {
        "id": "VsPUn08txwSi",
        "outputId": "d51ae2d0-d65d-49f6-88ba-20da469f3d81"
      },
      "source": [
        "inputs = keras.Input(shape=(28, 28, 1), name='Input')\n",
        "\n",
        "hidden1 = layers.Conv2D(64, kernel_size=3, activation='relu', name='hidden1')(inputs)\n",
        "hidden2 = layers.Conv2D(64, kernel_size=3, strides=2, activation='relu', name='hidden2')(hidden1)\n",
        "hidden3 = layers.Conv2D(64, kernel_size=3, strides=2, activation='relu', name='hidden3')(hidden2)\n",
        "flatten = layers.Flatten()(hidden3)\n",
        "\n",
        "age_output = layers.Dense(1, name='Age_Output')(flatten)\n",
        "gender_output = layers.Dense(1, name='Gender_Output')(flatten)\n",
        "\n",
        "model = keras.Model(inputs=inputs, outputs=[age_output, gender_output])\n",
        "\n",
        "# 產生網絡拓撲圖\n",
        "plot_model(model, to_file='Functional_API_Multi_Output_Model.png')\n",
        "\n",
        "# 秀出網絡拓撲圖\n",
        "Image('Functional_API_Multi_Output_Model.png')"
      ],
      "execution_count": null,
      "outputs": [
        {
          "output_type": "execute_result",
          "data": {
            "image/png": "[encoded data removed]",
            "text/plain": [
              "<IPython.core.display.Image object>"
            ]
          },
          "metadata": {
            "tags": []
          },
          "execution_count": 7
        }
      ]
    },
    {
      "cell_type": "markdown",
      "metadata": {
        "id": "eguveDzWxwSp"
      },
      "source": [
        "**Multi Input and Multi Output Network：**多輸入多輸出模型，例如天氣預測，輸入可能為當前的天氣資訊和衛星雲圖，而輸出就是降雨機率、溫度和濕度等。"
      ]
    },
    {
      "cell_type": "code",
      "metadata": {
        "id": "y4-VOjPdxwSs",
        "outputId": "778081e8-0c48-4780-a3a4-ed746d1a02ef"
      },
      "source": [
        "image_inputs = keras.Input(shape=(28, 28, 1), name='Image_Input')\n",
        "hidden1 = layers.Conv2D(64, kernel_size=3, activation='relu', name='hidden1')(image_inputs)\n",
        "hidden2 = layers.Conv2D(64, kernel_size=3, strides=2, activation='relu', name='hidden2')(hidden1)\n",
        "hidden3 = layers.Conv2D(64, kernel_size=3, strides=2, activation='relu', name='hidden3')(hidden2)\n",
        "flatten = layers.Flatten()(hidden3)\n",
        "\n",
        "info_inputs = keras.Input(shape=(10, ), name='Info_Input')\n",
        "hidden4 = layers.Dense(64)(info_inputs)\n",
        "\n",
        "concat = layers.Concatenate()([flatten, hidden4])\n",
        "\n",
        "weather_outputs = layers.Dense(1, name='Output1')(concat)\n",
        "temp_outputs = layers.Dense(1, name='Output2')(concat)\n",
        "humidity_outputs = layers.Dense(1, name='Output3')(concat)\n",
        "\n",
        "model = keras.Model(inputs=[image_inputs, info_inputs], \n",
        "                    outputs=[weather_outputs, temp_outputs, humidity_outputs])\n",
        "\n",
        "# 產生網絡拓撲圖\n",
        "plot_model(model, to_file='Functional_API_Multi_Input_Multi_Output_Model.png')\n",
        "\n",
        "# 秀出網絡拓撲圖\n",
        "Image('Functional_API_Multi_Input_Multi_Output_Model.png')"
      ],
      "execution_count": null,
      "outputs": [
        {
          "output_type": "execute_result",
          "data": {
            "image/png": "[encoded data removed]",
            "text/plain": [
              "<IPython.core.display.Image object>"
            ]
          },
          "metadata": {
            "tags": []
          },
          "execution_count": 8
        }
      ]
    },
    {
      "cell_type": "markdown",
      "metadata": {
        "id": "VyXBti0fxwSz"
      },
      "source": [
        "---\n",
        "## tf.data"
      ]
    },
    {
      "cell_type": "markdown",
      "metadata": {
        "id": "SOvXxo3OxwS1"
      },
      "source": [
        "### 基本操作"
      ]
    },
    {
      "cell_type": "markdown",
      "metadata": {
        "id": "P_dj1qP4xwS2"
      },
      "source": [
        "1. `tf.data.Dataset.from_tensors`"
      ]
    },
    {
      "cell_type": "code",
      "metadata": {
        "id": "dWnyd_87xwS6",
        "outputId": "2667eeb7-b080-4c1f-8fbc-7c52a1b161b3"
      },
      "source": [
        "dataset = tf.data.Dataset.from_tensors(tf.constant([1, 2, 3, 4, 5, 6, 7, 8, 9, 10], shape=(10, )))\n",
        "print(dataset)"
      ],
      "execution_count": null,
      "outputs": [
        {
          "output_type": "stream",
          "text": [
            "<TensorDataset shapes: (10,), types: tf.int32>\n"
          ],
          "name": "stdout"
        }
      ]
    },
    {
      "cell_type": "markdown",
      "metadata": {
        "id": "UROjIM1IxwTJ"
      },
      "source": [
        "2. `tf.data.Dataset.from_tensor_slices`"
      ]
    },
    {
      "cell_type": "code",
      "metadata": {
        "id": "2Mup2LwGxwTL",
        "outputId": "b09cd96a-87db-475f-df77-47a5c18e1adb"
      },
      "source": [
        "x_data = tf.data.Dataset.from_tensor_slices(tf.constant([0, 1, 2, 3, 4, 5, 6, 7, 8, 9], shape=(10, )))\n",
        "print(x_data)\n",
        "\n",
        "y_data = tf.data.Dataset.from_tensor_slices(tf.constant([0, 2, 4, 6, 8, 10, 12, 14, 16, 18], shape=(10, )))\n",
        "print(y_data)"
      ],
      "execution_count": null,
      "outputs": [
        {
          "output_type": "stream",
          "text": [
            "<TensorSliceDataset shapes: (), types: tf.int32>\n",
            "<TensorSliceDataset shapes: (), types: tf.int32>\n"
          ],
          "name": "stdout"
        }
      ]
    },
    {
      "cell_type": "markdown",
      "metadata": {
        "id": "xnx1IJX-xwTU"
      },
      "source": [
        "3. `for loop`讀取數據："
      ]
    },
    {
      "cell_type": "code",
      "metadata": {
        "id": "He_RQKOYxwTV",
        "outputId": "e523ee63-c198-4cf1-87bc-17217778cdfd"
      },
      "source": [
        "for data in dataset:\n",
        "    print(data)"
      ],
      "execution_count": null,
      "outputs": [
        {
          "output_type": "stream",
          "text": [
            "tf.Tensor([ 1  2  3  4  5  6  7  8  9 10], shape=(10,), dtype=int32)\n"
          ],
          "name": "stdout"
        }
      ]
    },
    {
      "cell_type": "code",
      "metadata": {
        "id": "Uf0y4QalxwTg",
        "outputId": "71176c53-0816-41d7-f1be-4f447e6ef63e"
      },
      "source": [
        "for data1, data2 in zip(x_data, y_data):\n",
        "    print('x: {}, y: {}'.format(data1, data2))"
      ],
      "execution_count": null,
      "outputs": [
        {
          "output_type": "stream",
          "text": [
            "x: 0, y: 0\n",
            "x: 1, y: 2\n",
            "x: 2, y: 4\n",
            "x: 3, y: 6\n",
            "x: 4, y: 8\n",
            "x: 5, y: 10\n",
            "x: 6, y: 12\n",
            "x: 7, y: 14\n",
            "x: 8, y: 16\n",
            "x: 9, y: 18\n"
          ],
          "name": "stdout"
        }
      ]
    },
    {
      "cell_type": "markdown",
      "metadata": {
        "id": "jV4zjGdbxwTq"
      },
      "source": [
        "3. `take`：讀取資料"
      ]
    },
    {
      "cell_type": "code",
      "metadata": {
        "id": "FI5Rf4Z4xwTr",
        "outputId": "99c2af45-46af-43a4-9094-21abc770e87c"
      },
      "source": [
        "for data in dataset:\n",
        "    print(data)"
      ],
      "execution_count": null,
      "outputs": [
        {
          "output_type": "stream",
          "text": [
            "tf.Tensor([ 1  2  3  4  5  6  7  8  9 10], shape=(10,), dtype=int32)\n"
          ],
          "name": "stdout"
        }
      ]
    },
    {
      "cell_type": "code",
      "metadata": {
        "id": "cgYpdomHxwT3",
        "outputId": "c3268928-cc0c-4d63-a419-e6ee4bc86e60"
      },
      "source": [
        "for data1, data2 in zip(x_data.take(5), y_data.take(5)):\n",
        "    print('x: {}, y: {}'.format(data1, data2))"
      ],
      "execution_count": null,
      "outputs": [
        {
          "output_type": "stream",
          "text": [
            "x: 0, y: 0\n",
            "x: 1, y: 2\n",
            "x: 2, y: 4\n",
            "x: 3, y: 6\n",
            "x: 4, y: 8\n"
          ],
          "name": "stdout"
        }
      ]
    },
    {
      "cell_type": "code",
      "metadata": {
        "id": "0B0fcmznxwUA"
      },
      "source": [
        "x_data = x_data."
      ],
      "execution_count": null,
      "outputs": []
    },
    {
      "cell_type": "code",
      "metadata": {
        "id": "ffX4x2bvxwUF",
        "outputId": "0bf29976-f930-479e-97d4-80781d02c489"
      },
      "source": [
        "\n",
        "a, = x_data.take(1)\n",
        "print(a)"
      ],
      "execution_count": null,
      "outputs": [
        {
          "output_type": "stream",
          "text": [
            "tf.Tensor(3, shape=(), dtype=int32)\n"
          ],
          "name": "stdout"
        }
      ]
    },
    {
      "cell_type": "code",
      "metadata": {
        "id": "jOn2AZLqxwUL",
        "outputId": "6d3b204a-bbfd-403a-dd5d-d7beda43b342"
      },
      "source": [
        "for data1, data2 in zip(x_data.take(12), y_data.take(12)):\n",
        "    print('x: {}, y: {}'.format(data1, data2))"
      ],
      "execution_count": null,
      "outputs": [
        {
          "output_type": "stream",
          "text": [
            "x: 0, y: 0\n",
            "x: 1, y: 2\n",
            "x: 2, y: 4\n",
            "x: 3, y: 6\n",
            "x: 4, y: 8\n",
            "x: 5, y: 10\n",
            "x: 6, y: 12\n",
            "x: 7, y: 14\n",
            "x: 8, y: 16\n",
            "x: 9, y: 18\n"
          ],
          "name": "stdout"
        }
      ]
    },
    {
      "cell_type": "markdown",
      "metadata": {
        "id": "Kj2VcB0YxwUT"
      },
      "source": [
        "3. `tf.data.Dataset.zip`"
      ]
    },
    {
      "cell_type": "code",
      "metadata": {
        "id": "lZlX_iS5xwUU",
        "outputId": "b5090a58-14ae-4c27-be33-bcb032eb4d61"
      },
      "source": [
        "dataset = tf.data.Dataset.zip((x_data, y_data))\n",
        "print(dataset)"
      ],
      "execution_count": null,
      "outputs": [
        {
          "output_type": "stream",
          "text": [
            "<ZipDataset shapes: ((), ()), types: (tf.int32, tf.int32)>\n"
          ],
          "name": "stdout"
        }
      ]
    },
    {
      "cell_type": "markdown",
      "metadata": {
        "id": "GeWsVR6JxwUb"
      },
      "source": [
        "4. `map`：可以使用map來轉換數據"
      ]
    },
    {
      "cell_type": "code",
      "metadata": {
        "id": "ZQV9s3CExwUh",
        "outputId": "27028b23-2d41-4e84-9b02-9353c5f0821a"
      },
      "source": [
        "tf.data.Dataset.range(10).map(lambda x: x*2)"
      ],
      "execution_count": null,
      "outputs": [
        {
          "output_type": "execute_result",
          "data": {
            "text/plain": [
              "<MapDataset shapes: (), types: tf.int64>"
            ]
          },
          "metadata": {
            "tags": []
          },
          "execution_count": 19
        }
      ]
    },
    {
      "cell_type": "markdown",
      "metadata": {
        "id": "34P4zdy1xwUn"
      },
      "source": [
        "5. 命名：可以字典方式為elements的組件命名"
      ]
    },
    {
      "cell_type": "code",
      "metadata": {
        "id": "KF2BZrDtxwUo",
        "outputId": "a06d51d8-2124-407e-da81-9844515021d6"
      },
      "source": [
        "dataset = tf.data.Dataset.zip(\n",
        "   {\"x\": tf.data.Dataset.range(10),\n",
        "    \"y\": tf.data.Dataset.range(10).map(lambda x: x*2)})\n",
        "print(dataset)"
      ],
      "execution_count": null,
      "outputs": [
        {
          "output_type": "stream",
          "text": [
            "<ZipDataset shapes: {x: (), y: ()}, types: {x: tf.int64, y: tf.int64}>\n"
          ],
          "name": "stdout"
        }
      ]
    },
    {
      "cell_type": "markdown",
      "metadata": {
        "id": "opNeCbFWxwUu"
      },
      "source": [
        "6. `take`：讀取資料"
      ]
    },
    {
      "cell_type": "code",
      "metadata": {
        "id": "3muZolznxwUv",
        "outputId": "ed7a689c-0099-4b0e-ae38-a4bba23906d9"
      },
      "source": [
        "for data in dataset.take(10):\n",
        "    print('x: {}, y: {}'.format(data['x'], data['y']))"
      ],
      "execution_count": null,
      "outputs": [
        {
          "output_type": "stream",
          "text": [
            "x: 0, y: 0\n",
            "x: 1, y: 2\n",
            "x: 2, y: 4\n",
            "x: 3, y: 6\n",
            "x: 4, y: 8\n",
            "x: 5, y: 10\n",
            "x: 6, y: 12\n",
            "x: 7, y: 14\n",
            "x: 8, y: 16\n",
            "x: 9, y: 18\n"
          ],
          "name": "stdout"
        }
      ]
    },
    {
      "cell_type": "markdown",
      "metadata": {
        "id": "a4G1bQ6CxwU0"
      },
      "source": [
        "7. 設定每batch讀取的數量"
      ]
    },
    {
      "cell_type": "code",
      "metadata": {
        "id": "HhD6jEjwxwU1",
        "outputId": "a1013d50-4683-4acc-ea71-002430f0dbf8"
      },
      "source": [
        "dataset = tf.data.Dataset.zip(\n",
        "   {\"x\": tf.data.Dataset.range(10),\n",
        "    \"y\": tf.data.Dataset.range(10).map(lambda x: x*2)}).batch(2)\n",
        "\n",
        "for data in dataset.take(5):\n",
        "    print('x: {}, y: {}'.format(data['x'], data['y']))"
      ],
      "execution_count": null,
      "outputs": [
        {
          "output_type": "stream",
          "text": [
            "x: [0 1], y: [0 2]\n",
            "x: [2 3], y: [4 6]\n",
            "x: [4 5], y: [ 8 10]\n",
            "x: [6 7], y: [12 14]\n",
            "x: [8 9], y: [16 18]\n"
          ],
          "name": "stdout"
        }
      ]
    },
    {
      "cell_type": "markdown",
      "metadata": {
        "id": "7sj_uv6UxwU-"
      },
      "source": [
        "8. `shuffle`：dataset資料 會被載入buffer中，並從buffer中隨機選取資料出來，取出資料產生的空位會從新的數據替補。而`buffer_size`是設定buffer大小，最好的設定是**大於**或**等於**整個dataset資料個個數。"
      ]
    },
    {
      "cell_type": "code",
      "metadata": {
        "id": "GIQ_h8cIxwU_",
        "outputId": "8f3266f4-7fbf-4b41-e07c-3da79a59c97e"
      },
      "source": [
        "dataset = dataset.shuffle(10)\n",
        "for data in dataset.take(5):\n",
        "    print('x: {}, y: {}'.format(data['x'], data['y']))"
      ],
      "execution_count": null,
      "outputs": [
        {
          "output_type": "stream",
          "text": [
            "x: [6 7], y: [12 14]\n",
            "x: [8 9], y: [16 18]\n",
            "x: [2 3], y: [4 6]\n",
            "x: [0 1], y: [0 2]\n",
            "x: [4 5], y: [ 8 10]\n"
          ],
          "name": "stdout"
        }
      ]
    },
    {
      "cell_type": "markdown",
      "metadata": {
        "id": "fmW5ufq8xwVV"
      },
      "source": [
        "9. `repeat`：當dataset的資料讀取完後就讀會取不到資料，透過設定`repeat(n)`可以重複讀取dataset n次。"
      ]
    },
    {
      "cell_type": "code",
      "metadata": {
        "id": "IZkncQhgxwVX",
        "outputId": "edcd1831-40fe-4058-9814-75fad0e5c2da"
      },
      "source": [
        "for data in dataset.take(10):\n",
        "    print('x: {}, y: {}'.format(data['x'], data['y']))\n",
        "\n",
        "    \n",
        "print('-' * 50)\n",
        "dataset = dataset.repeat(2)\n",
        "for data in dataset.take(10):\n",
        "    print('x: {}, y: {}'.format(data['x'], data['y']))"
      ],
      "execution_count": null,
      "outputs": [
        {
          "output_type": "stream",
          "text": [
            "x: [6 7], y: [12 14]\n",
            "x: [8 9], y: [16 18]\n",
            "x: [2 3], y: [4 6]\n",
            "x: [0 1], y: [0 2]\n",
            "x: [4 5], y: [ 8 10]\n",
            "--------------------------------------------------\n",
            "x: [0 1], y: [0 2]\n",
            "x: [2 3], y: [4 6]\n",
            "x: [6 7], y: [12 14]\n",
            "x: [4 5], y: [ 8 10]\n",
            "x: [8 9], y: [16 18]\n",
            "x: [4 5], y: [ 8 10]\n",
            "x: [2 3], y: [4 6]\n",
            "x: [0 1], y: [0 2]\n",
            "x: [6 7], y: [12 14]\n",
            "x: [8 9], y: [16 18]\n"
          ],
          "name": "stdout"
        }
      ]
    }
  ]
}