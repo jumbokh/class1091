{
  "nbformat": 4,
  "nbformat_minor": 0,
  "metadata": {
    "_change_revision": 0,
    "_is_fork": false,
    "kernelspec": {
      "name": "python3",
      "display_name": "Python 3",
      "language": "python"
    },
    "language_info": {
      "name": "python",
      "version": "3.7.6",
      "mimetype": "text/x-python",
      "codemirror_mode": {
        "name": "ipython",
        "version": 3
      },
      "pygments_lexer": "ipython3",
      "nbconvert_exporter": "python",
      "file_extension": ".py"
    },
    "colab": {
      "name": "simple-one-feature-linear-regression.ipynb",
      "provenance": [],
      "include_colab_link": true
    }
  },
  "cells": [
    {
      "cell_type": "markdown",
      "metadata": {
        "id": "view-in-github",
        "colab_type": "text"
      },
      "source": [
        "<a href=\"https://colab.research.google.com/github/jumbokh/class1091/blob/master/ML/notebooks/simple_one_feature_linear_regression.ipynb\" target=\"_parent\"><img src=\"https://colab.research.google.com/assets/colab-badge.svg\" alt=\"Open In Colab\"/></a>"
      ]
    },
    {
      "cell_type": "markdown",
      "metadata": {
        "_cell_guid": "6a3d53e8-ee9e-83ab-cf32-782361dcfe92",
        "id": "O0IJWRPrh3lC"
      },
      "source": [
        "This is a sandpit to play around with panda, numpy, scipy and sklearn on a very simple linear regression. Having such a simple dataset  to play with (it's only got one feature) means I can concentrate on using the commands rather than being overly concerned about the data. I am following a process of:\n",
        "\n",
        "1. Load data\n",
        "2. Clean data\n",
        "3. Train model with training dataset\n",
        "4. Have a look at the statistics\n",
        "5. Test the trained model with provided test dataset\n",
        "\n",
        "It would be great if someone could verify the statistical assumptions and use of the formulas below. It's the first time I have used them, so there could be mistakes!!"
      ]
    },
    {
      "cell_type": "code",
      "metadata": {
        "_cell_guid": "74853f7f-9f7e-6976-2e94-d2c0bbcde92a",
        "trusted": true,
        "id": "5O6y9Hcoh3lI",
        "outputId": "a141917a-e895-4c80-e9ec-9bb08698229e"
      },
      "source": [
        "# Import the required libraries\n",
        "from sklearn import linear_model\n",
        "import pandas as pd\n",
        "import matplotlib.pyplot as plt\n",
        "import numpy as np\n",
        "import math   # yep! going to a bit of maths later!!\n",
        "from scipy import stats as st # and some stats\n",
        "\n",
        "# Load up the files \n",
        "dirty_training_set = pd.read_csv('../input/train.csv')\n",
        "dirty_test_set = pd.read_csv('../input/test.csv')\n",
        "\n",
        "#...but clean the data by dropping an dodgy data\n",
        "training_set = dirty_training_set.dropna() \n",
        "test_set = dirty_test_set.dropna() \n",
        "\n",
        "#... and see the effect of this\n",
        "print (\"Rows before clean: \", dirty_training_set.size, \"\\n\")\n",
        "print (\"Rows after clean: \", training_set.size, \"\\n\")\n",
        "\n",
        "# Let's print some of the training data - just to get used to using panda\n",
        "print (training_set.loc[0:5]['y'])\n",
        "print (training_set.loc[0:5]['x'])"
      ],
      "execution_count": null,
      "outputs": [
        {
          "output_type": "stream",
          "text": [
            "Rows before clean:  1400 \n",
            "\n",
            "Rows after clean:  1398 \n",
            "\n",
            "0    21.549452\n",
            "1    47.464463\n",
            "2    17.218656\n",
            "3    36.586398\n",
            "4    87.288984\n",
            "5    32.463875\n",
            "Name: y, dtype: float64\n",
            "0    24.0\n",
            "1    50.0\n",
            "2    15.0\n",
            "3    38.0\n",
            "4    87.0\n",
            "5    36.0\n",
            "Name: x, dtype: float64\n"
          ],
          "name": "stdout"
        }
      ]
    },
    {
      "cell_type": "code",
      "metadata": {
        "_cell_guid": "0fd72211-2dfb-b1c5-57f6-356358803d6c",
        "trusted": true,
        "id": "lZ2S_P4yh3lQ",
        "outputId": "31424a92-f92f-490c-877c-37e13f3b8e2c"
      },
      "source": [
        "#x_training_set = training_set.as_matrix(['x'])\n",
        "#y_training_set = training_set.as_matrix(['y'])\n",
        "x_training_set = training_set['x'].values\n",
        "y_training_set = training_set['y'].values\n",
        "#x_test_set = test_set.as_matrix(['x'])\n",
        "#y_test_set = test_set.as_matrix(['y'])\n",
        "x_test_set = test_set['x'].values\n",
        "y_test_set = test_set['y'].values\n",
        "# Review some of the statistics to check whether the data is skewed\n",
        "print (\"Mean of X Training set: \", np.mean(x_training_set), \"\\n\")\n",
        "print (\"Median of X Training set: \", np.median(x_training_set), \"\\n\")\n",
        "print (\"Mean of Y Training set: \", np.mean(y_training_set), \"\\n\")\n",
        "print (\"Median of Y Training set: \", np.median(y_training_set), \"\\n\")\n",
        "print (\"Std Dev of X Training set: \", np.std(x_training_set), \"\\n\")\n",
        "print (\"Std Dev of Y Training set: \", np.std(y_training_set), \"\\n\")"
      ],
      "execution_count": null,
      "outputs": [
        {
          "output_type": "stream",
          "text": [
            "Mean of X Training set:  50.01430615164521 \n",
            "\n",
            "Median of X Training set:  49.0 \n",
            "\n",
            "Mean of Y Training set:  49.939869170457804 \n",
            "\n",
            "Median of Y Training set:  48.97302037 \n",
            "\n",
            "Std Dev of X Training set:  28.933841385275375 \n",
            "\n",
            "Std Dev of Y Training set:  29.08838760426971 \n",
            "\n"
          ],
          "name": "stdout"
        }
      ]
    },
    {
      "cell_type": "markdown",
      "metadata": {
        "_cell_guid": "72a2c30a-e8f6-caf1-f805-f469fc224e98",
        "id": "LOFbBkNkh3lU"
      },
      "source": [
        "Median and mean are similar so the training set isn't skewed by any outliers that might cause leverage when doing the linear regression"
      ]
    },
    {
      "cell_type": "code",
      "metadata": {
        "_cell_guid": "95911182-22c8-22dc-0c0a-4bc90c1c354e",
        "trusted": true,
        "id": "VjcHJmaoh3lV",
        "outputId": "fa300a89-ec88-463a-958d-abef6ff137f6"
      },
      "source": [
        "\n",
        "# So let's plot some of the data \n",
        "# - this gives some core routines to experiment with different parameters\n",
        "plt.title('Relationship between X and Y')\n",
        "plt.scatter(x_training_set, y_training_set,  color='black')\n",
        "plt.show()\n",
        "\n",
        "# Use subplot to have graphs side by side\n",
        "plt.subplot(1, 2, 1)\n",
        "plt.title('X training set')\n",
        "plt.hist(x_training_set)\n",
        "\n",
        "plt.subplot(1, 2, 2)\n",
        "plt.title('Y training set')\n",
        "plt.hist(y_training_set)\n",
        "plt.show()\n",
        "\n",
        "plt.subplot(1, 2, 1)\n",
        "plt.title('X training set')\n",
        "plt.boxplot(x_training_set)\n",
        "\n",
        "plt.subplot(1, 2, 2)\n",
        "plt.title('Y training set')\n",
        "plt.boxplot(y_training_set)\n",
        "plt.show()"
      ],
      "execution_count": null,
      "outputs": [
        {
          "output_type": "display_data",
          "data": {
            "text/plain": [
              "<Figure size 432x288 with 1 Axes>"
            ],
            "image/png": "[encoded data removed]"
          },
          "metadata": {
            "tags": [],
            "needs_background": "light"
          }
        },
        {
          "output_type": "display_data",
          "data": {
            "text/plain": [
              "<Figure size 432x288 with 2 Axes>"
            ],
            "image/png": "[encoded data removed]"
          },
          "metadata": {
            "tags": [],
            "needs_background": "light"
          }
        },
        {
          "output_type": "display_data",
          "data": {
            "text/plain": [
              "<Figure size 432x288 with 2 Axes>"
            ],
            "image/png": "[encoded data removed]"
          },
          "metadata": {
            "tags": [],
            "needs_background": "light"
          }
        }
      ]
    },
    {
      "cell_type": "markdown",
      "metadata": {
        "_cell_guid": "6870e81e-93f4-5836-0343-d7f5f376f7db",
        "id": "gVRKhcj2h3lZ"
      },
      "source": [
        "Does really show very much but we are not really here for the data.  The data isn't normal and there doesn't seem to be any outliers to worry about."
      ]
    },
    {
      "cell_type": "code",
      "metadata": {
        "_cell_guid": "629e6ada-fcda-d7a2-7e26-346fdee737df",
        "trusted": true,
        "id": "7xRW6O2Nh3la",
        "outputId": "370e31b3-821d-4ae7-aeeb-a771d14d85ef"
      },
      "source": [
        "# Now to set up the linear regression model\n",
        "# Create linear regression object\n",
        "lm = linear_model.LinearRegression()\n",
        "# ... then fir it\n",
        "x_training_set = x_training_set.reshape(-1,1).astype(np.float)\n",
        "y_training_set = y_training_set.reshape(-1,1).astype(np.float)\n",
        "lm.fit(x_training_set,y_training_set)\n",
        "\n",
        "# Have a look at R sq to give an idea of the fit \n",
        "print('R sq: ',lm.score(x_training_set,y_training_set))\n",
        "\n",
        "# and so the correlation is..\n",
        "print('Correlation: ', math.sqrt(lm.score(x_training_set,y_training_set)))\n"
      ],
      "execution_count": null,
      "outputs": [
        {
          "output_type": "stream",
          "text": [
            "R sq:  0.9907015319025518\n",
            "Correlation:  0.9953399077212527\n"
          ],
          "name": "stdout"
        }
      ]
    },
    {
      "cell_type": "markdown",
      "metadata": {
        "_cell_guid": "b4182047-7f58-90b1-5ab7-49e4ac6df9e4",
        "id": "11x19gZxh3le"
      },
      "source": [
        "Now that's what I call a good R sq and correlation!!! The positive correlation shows that as Y increases\n",
        "so does X."
      ]
    },
    {
      "cell_type": "code",
      "metadata": {
        "_cell_guid": "c4cad080-fbd2-9ea8-da55-214f275defcf",
        "trusted": true,
        "id": "en1YrOCmh3lf",
        "outputId": "2a75ef6b-7150-416e-c763-6324b3da5e34"
      },
      "source": [
        "#from scipy.stats import pearsonr \n",
        "# This the coefficient for the single feature\n",
        "print(\"Coefficient for X \", lm.coef_)\n",
        "\n",
        "# Get the standard error\n",
        "print (\"Standard Error: \",st.sem(x_training_set))\n",
        "# Our hypothesis test for this is that there is no difference between the coefficient and the true value\n",
        "# that the coefficient should be\n",
        "ttest = lm.coef_/st.sem(x_training_set)\n",
        "print (\"The t-statistic:\",ttest)\n",
        "\n",
        "# but we need the p-value to help determine the probablity that we have a correct t-statistic\n",
        "print (\"Two tailed p-values: \")\n",
        "\n",
        "#st.pearsonr(x_training_set, y_training_set)\n"
      ],
      "execution_count": null,
      "outputs": [
        {
          "output_type": "stream",
          "text": [
            "Coefficient for X  [[1.00065638]]\n",
            "Standard Error:  [1.09516205]\n",
            "The t-statistic: [[0.91370623]]\n",
            "Two tailed p-values: \n"
          ],
          "name": "stdout"
        },
        {
          "output_type": "error",
          "ename": "TypeError",
          "evalue": "No loop matching the specified signature and casting was found for ufunc add",
          "traceback": [
            "\u001b[0;31m---------------------------------------------------------------------------\u001b[0m",
            "\u001b[0;31mTypeError\u001b[0m                                 Traceback (most recent call last)",
            "\u001b[0;32m<ipython-input-17-cc970df8ef02>\u001b[0m in \u001b[0;36m<module>\u001b[0;34m\u001b[0m\n\u001b[1;32m     13\u001b[0m \u001b[0mprint\u001b[0m \u001b[0;34m(\u001b[0m\u001b[0;34m\"Two tailed p-values: \"\u001b[0m\u001b[0;34m)\u001b[0m\u001b[0;34m\u001b[0m\u001b[0;34m\u001b[0m\u001b[0m\n\u001b[1;32m     14\u001b[0m \u001b[0;34m\u001b[0m\u001b[0m\n\u001b[0;32m---> 15\u001b[0;31m \u001b[0mpearsonr\u001b[0m\u001b[0;34m(\u001b[0m\u001b[0mx_training_set\u001b[0m\u001b[0;34m,\u001b[0m \u001b[0my_training_set\u001b[0m\u001b[0;34m)\u001b[0m\u001b[0;34m\u001b[0m\u001b[0;34m\u001b[0m\u001b[0m\n\u001b[0m",
            "\u001b[0;32m/opt/conda/lib/python3.7/site-packages/scipy/stats/stats.py\u001b[0m in \u001b[0;36mpearsonr\u001b[0;34m(x, y)\u001b[0m\n\u001b[1;32m   3517\u001b[0m         \u001b[0;32mreturn\u001b[0m \u001b[0mdtype\u001b[0m\u001b[0;34m(\u001b[0m\u001b[0mnp\u001b[0m\u001b[0;34m.\u001b[0m\u001b[0msign\u001b[0m\u001b[0;34m(\u001b[0m\u001b[0mx\u001b[0m\u001b[0;34m[\u001b[0m\u001b[0;36m1\u001b[0m\u001b[0;34m]\u001b[0m \u001b[0;34m-\u001b[0m \u001b[0mx\u001b[0m\u001b[0;34m[\u001b[0m\u001b[0;36m0\u001b[0m\u001b[0;34m]\u001b[0m\u001b[0;34m)\u001b[0m\u001b[0;34m*\u001b[0m\u001b[0mnp\u001b[0m\u001b[0;34m.\u001b[0m\u001b[0msign\u001b[0m\u001b[0;34m(\u001b[0m\u001b[0my\u001b[0m\u001b[0;34m[\u001b[0m\u001b[0;36m1\u001b[0m\u001b[0;34m]\u001b[0m \u001b[0;34m-\u001b[0m \u001b[0my\u001b[0m\u001b[0;34m[\u001b[0m\u001b[0;36m0\u001b[0m\u001b[0;34m]\u001b[0m\u001b[0;34m)\u001b[0m\u001b[0;34m)\u001b[0m\u001b[0;34m,\u001b[0m \u001b[0;36m1.0\u001b[0m\u001b[0;34m\u001b[0m\u001b[0;34m\u001b[0m\u001b[0m\n\u001b[1;32m   3518\u001b[0m \u001b[0;34m\u001b[0m\u001b[0m\n\u001b[0;32m-> 3519\u001b[0;31m     \u001b[0mxmean\u001b[0m \u001b[0;34m=\u001b[0m \u001b[0mx\u001b[0m\u001b[0;34m.\u001b[0m\u001b[0mmean\u001b[0m\u001b[0;34m(\u001b[0m\u001b[0mdtype\u001b[0m\u001b[0;34m=\u001b[0m\u001b[0mdtype\u001b[0m\u001b[0;34m)\u001b[0m\u001b[0;34m\u001b[0m\u001b[0;34m\u001b[0m\u001b[0m\n\u001b[0m\u001b[1;32m   3520\u001b[0m     \u001b[0mymean\u001b[0m \u001b[0;34m=\u001b[0m \u001b[0my\u001b[0m\u001b[0;34m.\u001b[0m\u001b[0mmean\u001b[0m\u001b[0;34m(\u001b[0m\u001b[0mdtype\u001b[0m\u001b[0;34m=\u001b[0m\u001b[0mdtype\u001b[0m\u001b[0;34m)\u001b[0m\u001b[0;34m\u001b[0m\u001b[0;34m\u001b[0m\u001b[0m\n\u001b[1;32m   3521\u001b[0m \u001b[0;34m\u001b[0m\u001b[0m\n",
            "\u001b[0;32m/opt/conda/lib/python3.7/site-packages/numpy/core/_methods.py\u001b[0m in \u001b[0;36m_mean\u001b[0;34m(a, axis, dtype, out, keepdims)\u001b[0m\n\u001b[1;32m    149\u001b[0m             \u001b[0mis_float16_result\u001b[0m \u001b[0;34m=\u001b[0m \u001b[0;32mTrue\u001b[0m\u001b[0;34m\u001b[0m\u001b[0;34m\u001b[0m\u001b[0m\n\u001b[1;32m    150\u001b[0m \u001b[0;34m\u001b[0m\u001b[0m\n\u001b[0;32m--> 151\u001b[0;31m     \u001b[0mret\u001b[0m \u001b[0;34m=\u001b[0m \u001b[0mumr_sum\u001b[0m\u001b[0;34m(\u001b[0m\u001b[0marr\u001b[0m\u001b[0;34m,\u001b[0m \u001b[0maxis\u001b[0m\u001b[0;34m,\u001b[0m \u001b[0mdtype\u001b[0m\u001b[0;34m,\u001b[0m \u001b[0mout\u001b[0m\u001b[0;34m,\u001b[0m \u001b[0mkeepdims\u001b[0m\u001b[0;34m)\u001b[0m\u001b[0;34m\u001b[0m\u001b[0;34m\u001b[0m\u001b[0m\n\u001b[0m\u001b[1;32m    152\u001b[0m     \u001b[0;32mif\u001b[0m \u001b[0misinstance\u001b[0m\u001b[0;34m(\u001b[0m\u001b[0mret\u001b[0m\u001b[0;34m,\u001b[0m \u001b[0mmu\u001b[0m\u001b[0;34m.\u001b[0m\u001b[0mndarray\u001b[0m\u001b[0;34m)\u001b[0m\u001b[0;34m:\u001b[0m\u001b[0;34m\u001b[0m\u001b[0;34m\u001b[0m\u001b[0m\n\u001b[1;32m    153\u001b[0m         ret = um.true_divide(\n",
            "\u001b[0;31mTypeError\u001b[0m: No loop matching the specified signature and casting was found for ufunc add"
          ]
        }
      ]
    },
    {
      "cell_type": "markdown",
      "metadata": {
        "_cell_guid": "a36e3c89-5523-c394-e439-dcc0a1675519",
        "id": "DuI6K0vNh3lj"
      },
      "source": [
        "Although we haven't a normal distribution I have done these calculations - just because."
      ]
    },
    {
      "cell_type": "code",
      "metadata": {
        "_cell_guid": "07e2ef93-2696-2827-e066-37354431c8cd",
        "trusted": true,
        "id": "CHI7e5jlh3lj",
        "outputId": "a108e27a-9f72-426a-b259-2de0f81c23df"
      },
      "source": [
        "# This the F-statistic that shows whether there is a relationship between the response and the predictors\n",
        "# I couldn't find a function for this so I have done the calcs by hand\n",
        "# First get the total sum of the squares.\n",
        "TSS = y_training_set\n",
        "TSS = [i**2 for i in TSS]   # Using list comprehension to square each element\n",
        "TSS = np.sum(TSS)\n",
        "\n",
        "# This calculates the residual sum of the squares\n",
        "y_predicted = lm.predict(x_training_set)   # These are predicted values of Y\n",
        "y_variance = y_training_set - y_predicted # These are the residuals bewteen actual values of Y and the predcitions\n",
        "y_variance = [i**2 for i in y_variance]   # Using list comprehension to square each element\n",
        "RSS = np.sum(y_variance)\n",
        "\n",
        "# As we only have one feature the f-statistic formula = ((TSS -RSS)/p)/(RSS/(n - p -1)) becomes\n",
        "#(TSS - RSS)/(RSS/ (n - 2) )\n",
        "Fstatistic = (TSS - RSS) / (RSS/(np.size(y_predicted) - 2))\n",
        "print (\"The F-statistic is:  \", Fstatistic)\n",
        "\n",
        "\n",
        "\n"
      ],
      "execution_count": null,
      "outputs": [
        {
          "output_type": "stream",
          "text": [
            "The F-statistic is:   295202.86908682744\n"
          ],
          "name": "stdout"
        }
      ]
    },
    {
      "cell_type": "markdown",
      "metadata": {
        "_cell_guid": "d9c18bb3-2a9f-8b36-cfe5-a3a7757f48cd",
        "id": "FTZpYoJGh3lo"
      },
      "source": [
        "Which is pretty huge so I think we can safely say there is a relationship. As we've got a pretty good\n",
        "model let's run it against the test set."
      ]
    },
    {
      "cell_type": "code",
      "metadata": {
        "_cell_guid": "a52a815f-0649-a9fb-ed88-15c5d5959d54",
        "trusted": true,
        "id": "i9zbPz0mh3lo",
        "outputId": "5abe967b-5892-4600-c5aa-9f20427f5630"
      },
      "source": [
        "x_test_set = x_test_set.reshape(-1,1).astype(np.float)\n",
        "# So let's run the model against the test data\n",
        "y_predicted = lm.predict(x_test_set)\n",
        "\n",
        "plt.title('Comparison of Y values in test and the Predicted values')\n",
        "plt.ylabel('Test Set')\n",
        "plt.xlabel('Predicted values')\n",
        "plt.scatter(y_predicted, y_test_set,  color='black')\n",
        "plt.show()"
      ],
      "execution_count": null,
      "outputs": [
        {
          "output_type": "display_data",
          "data": {
            "text/plain": [
              "<Figure size 432x288 with 1 Axes>"
            ],
            "image/png": "[encoded data removed]"
          },
          "metadata": {
            "tags": [],
            "needs_background": "light"
          }
        }
      ]
    },
    {
      "cell_type": "markdown",
      "metadata": {
        "_cell_guid": "a6f2ceda-31f8-42ef-c0f2-40ee6afb99d1",
        "id": "rMUcwGHXh3lu"
      },
      "source": [
        "As we expected it's a really good fit!!"
      ]
    }
  ]
}