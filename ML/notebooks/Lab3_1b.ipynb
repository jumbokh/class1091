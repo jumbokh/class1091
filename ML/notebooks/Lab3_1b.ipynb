{
  "nbformat": 4,
  "nbformat_minor": 0,
  "metadata": {
    "kernelspec": {
      "display_name": "Python 3",
      "language": "python",
      "name": "python3"
    },
    "language_info": {
      "codemirror_mode": {
        "name": "ipython",
        "version": 3
      },
      "file_extension": ".py",
      "mimetype": "text/x-python",
      "name": "python",
      "nbconvert_exporter": "python",
      "pygments_lexer": "ipython3",
      "version": "3.6.8"
    },
    "colab": {
      "name": "Lab3-1b.ipynb",
      "provenance": [],
      "collapsed_sections": [],
      "include_colab_link": true
    },
    "accelerator": "GPU"
  },
  "cells": [
    {
      "cell_type": "markdown",
      "metadata": {
        "id": "view-in-github",
        "colab_type": "text"
      },
      "source": [
        "<a href=\"https://colab.research.google.com/github/jumbokh/class1091/blob/master/ML/notebooks/Lab3_1b.ipynb\" target=\"_parent\"><img src=\"https://colab.research.google.com/assets/colab-badge.svg\" alt=\"Open In Colab\"/></a>"
      ]
    },
    {
      "cell_type": "markdown",
      "metadata": {
        "id": "2X4e18xOZSXT"
      },
      "source": [
        "# Lab 3 Pokemon classification\n",
        "https://www.kaggle.com/terminus7/pokemon-challenge\n",
        "\n",
        "- Name：寶可夢名子\n",
        "- Type 1：寶可夢的屬性\n",
        "- Type 2：寶可夢的屬性(寶可夢可能擁有兩種屬性)\n",
        "- HP：生命直\n",
        "- Attack：攻擊力\n",
        "- Defense：守備力\n",
        "- Sp. Atk：特殊攻擊力\n",
        "- Sp. Def：特殊防禦力\n",
        "- Speed：速度\n",
        "- Generation：進化階段\n",
        "- Legendary：神獸 (1=神獸, 0=一般)"
      ]
    },
    {
      "cell_type": "code",
      "metadata": {
        "id": "PgvNqSajbEc_",
        "outputId": "6165d3c4-fef9-4fa3-f86d-9542a0f1e854",
        "colab": {
          "base_uri": "https://localhost:8080/",
          "height": 35
        }
      },
      "source": [
        "from google.colab import drive\n",
        "drive.mount('/content/gdrive') # 點擊網址，選擇 Google 帳號登入，然後將授權碼貼回輸入框中"
      ],
      "execution_count": 1,
      "outputs": [
        {
          "output_type": "stream",
          "text": [
            "Mounted at /content/gdrive\n"
          ],
          "name": "stdout"
        }
      ]
    },
    {
      "cell_type": "code",
      "metadata": {
        "id": "jyjR0VB6baCZ"
      },
      "source": [
        "!ln -fs /content/gdrive/My\\ Drive/Tensorflow2/MMSLAB-TF2/ /app  #執行一次就可，否則會有錯誤訊息"
      ],
      "execution_count": 2,
      "outputs": []
    },
    {
      "cell_type": "code",
      "metadata": {
        "id": "NMhxnFMnbfLK",
        "outputId": "aba4eb44-db1a-424c-a98d-265fb98ec89d",
        "colab": {
          "base_uri": "https://localhost:8080/",
          "height": 35
        }
      },
      "source": [
        "%cd /app"
      ],
      "execution_count": 3,
      "outputs": [
        {
          "output_type": "stream",
          "text": [
            "/content/gdrive/My Drive/Tensorflow2/MMSLAB-TF2\n"
          ],
          "name": "stdout"
        }
      ]
    },
    {
      "cell_type": "code",
      "metadata": {
        "id": "jAJ1iXBZbvbK",
        "outputId": "a99cabd0-da1d-4373-9fe3-6e84dfedb66d",
        "colab": {
          "base_uri": "https://localhost:8080/",
          "height": 35
        }
      },
      "source": [
        "!ls /app/pokemon-dataset"
      ],
      "execution_count": 4,
      "outputs": [
        {
          "output_type": "stream",
          "text": [
            "archive.zip  combats.csv  pokemon.csv  tests.csv\n"
          ],
          "name": "stdout"
        }
      ]
    },
    {
      "cell_type": "code",
      "metadata": {
        "id": "aoiCxaR4hGOd",
        "outputId": "c2b858b3-ed42-4e7c-f2d8-b9dfd548a22f",
        "colab": {
          "base_uri": "https://localhost:8080/",
          "height": 251
        }
      },
      "source": [
        "!tar -xzvf /app/cuDNN/cudnn-10.0-linux-x64-v7.5.0.56.tgz -C /usr/local/\n",
        "!chmod a+r /usr/local/cuda/include/cudnn.h\n",
        "\n",
        "# 檢查是否安裝成功\n",
        "!cat /usr/local/cuda/include/cudnn.h | grep CUDNN_MAJOR -A 2"
      ],
      "execution_count": 5,
      "outputs": [
        {
          "output_type": "stream",
          "text": [
            "cuda/include/cudnn.h\n",
            "cuda/NVIDIA_SLA_cuDNN_Support.txt\n",
            "cuda/lib64/libcudnn.so\n",
            "cuda/lib64/libcudnn.so.7\n",
            "cuda/lib64/libcudnn.so.7.5.0\n",
            "cuda/lib64/libcudnn_static.a\n",
            "#define CUDNN_MAJOR 7\n",
            "#define CUDNN_MINOR 5\n",
            "#define CUDNN_PATCHLEVEL 0\n",
            "--\n",
            "#define CUDNN_VERSION (CUDNN_MAJOR * 1000 + CUDNN_MINOR * 100 + CUDNN_PATCHLEVEL)\n",
            "\n",
            "#include \"driver_types.h\"\n"
          ],
          "name": "stdout"
        }
      ]
    },
    {
      "cell_type": "markdown",
      "metadata": {
        "id": "kq67pf7NZSXW"
      },
      "source": [
        "### Import"
      ]
    },
    {
      "cell_type": "code",
      "metadata": {
        "id": "fndqUtq6ZSXY"
      },
      "source": [
        "import os\n",
        "import numpy as np\n",
        "import pandas as pd\n",
        "import tensorflow as tf\n",
        "import matplotlib.pyplot as plt\n",
        "\n",
        "from tensorflow import keras\n",
        "from tensorflow.keras import layers"
      ],
      "execution_count": 6,
      "outputs": []
    },
    {
      "cell_type": "markdown",
      "metadata": {
        "id": "_qYzNW8WZSXh"
      },
      "source": [
        "### 讀取數據並分析"
      ]
    },
    {
      "cell_type": "markdown",
      "metadata": {
        "id": "vRprGGShZSXj"
      },
      "source": [
        "讀取800隻寶可夢數據："
      ]
    },
    {
      "cell_type": "code",
      "metadata": {
        "scrolled": true,
        "id": "jMSV8XepZSXk",
        "outputId": "8dba97b5-1300-4091-8cbe-7800f506db2e",
        "colab": {
          "base_uri": "https://localhost:8080/",
          "height": 204
        }
      },
      "source": [
        "pokemon_df = pd.read_csv('/app/pokemon-dataset/pokemon.csv')  # 讀取寶可夢數據\n",
        "pokemon_df.head()  # 顯示頭5比資料"
      ],
      "execution_count": 7,
      "outputs": [
        {
          "output_type": "execute_result",
          "data": {
            "text/html": [
              "<div>\n",
              "<style scoped>\n",
              "    .dataframe tbody tr th:only-of-type {\n",
              "        vertical-align: middle;\n",
              "    }\n",
              "\n",
              "    .dataframe tbody tr th {\n",
              "        vertical-align: top;\n",
              "    }\n",
              "\n",
              "    .dataframe thead th {\n",
              "        text-align: right;\n",
              "    }\n",
              "</style>\n",
              "<table border=\"1\" class=\"dataframe\">\n",
              "  <thead>\n",
              "    <tr style=\"text-align: right;\">\n",
              "      <th></th>\n",
              "      <th>#</th>\n",
              "      <th>Name</th>\n",
              "      <th>Type 1</th>\n",
              "      <th>Type 2</th>\n",
              "      <th>HP</th>\n",
              "      <th>Attack</th>\n",
              "      <th>Defense</th>\n",
              "      <th>Sp. Atk</th>\n",
              "      <th>Sp. Def</th>\n",
              "      <th>Speed</th>\n",
              "      <th>Generation</th>\n",
              "      <th>Legendary</th>\n",
              "    </tr>\n",
              "  </thead>\n",
              "  <tbody>\n",
              "    <tr>\n",
              "      <th>0</th>\n",
              "      <td>1</td>\n",
              "      <td>Bulbasaur</td>\n",
              "      <td>Grass</td>\n",
              "      <td>Poison</td>\n",
              "      <td>45</td>\n",
              "      <td>49</td>\n",
              "      <td>49</td>\n",
              "      <td>65</td>\n",
              "      <td>65</td>\n",
              "      <td>45</td>\n",
              "      <td>1</td>\n",
              "      <td>False</td>\n",
              "    </tr>\n",
              "    <tr>\n",
              "      <th>1</th>\n",
              "      <td>2</td>\n",
              "      <td>Ivysaur</td>\n",
              "      <td>Grass</td>\n",
              "      <td>Poison</td>\n",
              "      <td>60</td>\n",
              "      <td>62</td>\n",
              "      <td>63</td>\n",
              "      <td>80</td>\n",
              "      <td>80</td>\n",
              "      <td>60</td>\n",
              "      <td>1</td>\n",
              "      <td>False</td>\n",
              "    </tr>\n",
              "    <tr>\n",
              "      <th>2</th>\n",
              "      <td>3</td>\n",
              "      <td>Venusaur</td>\n",
              "      <td>Grass</td>\n",
              "      <td>Poison</td>\n",
              "      <td>80</td>\n",
              "      <td>82</td>\n",
              "      <td>83</td>\n",
              "      <td>100</td>\n",
              "      <td>100</td>\n",
              "      <td>80</td>\n",
              "      <td>1</td>\n",
              "      <td>False</td>\n",
              "    </tr>\n",
              "    <tr>\n",
              "      <th>3</th>\n",
              "      <td>4</td>\n",
              "      <td>Mega Venusaur</td>\n",
              "      <td>Grass</td>\n",
              "      <td>Poison</td>\n",
              "      <td>80</td>\n",
              "      <td>100</td>\n",
              "      <td>123</td>\n",
              "      <td>122</td>\n",
              "      <td>120</td>\n",
              "      <td>80</td>\n",
              "      <td>1</td>\n",
              "      <td>False</td>\n",
              "    </tr>\n",
              "    <tr>\n",
              "      <th>4</th>\n",
              "      <td>5</td>\n",
              "      <td>Charmander</td>\n",
              "      <td>Fire</td>\n",
              "      <td>NaN</td>\n",
              "      <td>39</td>\n",
              "      <td>52</td>\n",
              "      <td>43</td>\n",
              "      <td>60</td>\n",
              "      <td>50</td>\n",
              "      <td>65</td>\n",
              "      <td>1</td>\n",
              "      <td>False</td>\n",
              "    </tr>\n",
              "  </tbody>\n",
              "</table>\n",
              "</div>"
            ],
            "text/plain": [
              "   #           Name Type 1  Type 2  ...  Sp. Def  Speed  Generation  Legendary\n",
              "0  1      Bulbasaur  Grass  Poison  ...       65     45           1      False\n",
              "1  2        Ivysaur  Grass  Poison  ...       80     60           1      False\n",
              "2  3       Venusaur  Grass  Poison  ...      100     80           1      False\n",
              "3  4  Mega Venusaur  Grass  Poison  ...      120     80           1      False\n",
              "4  5     Charmander   Fire     NaN  ...       50     65           1      False\n",
              "\n",
              "[5 rows x 12 columns]"
            ]
          },
          "metadata": {
            "tags": []
          },
          "execution_count": 7
        }
      ]
    },
    {
      "cell_type": "markdown",
      "metadata": {
        "id": "mg6ZkmAVZSXu"
      },
      "source": [
        "將\"#\"數據設定為索引值："
      ]
    },
    {
      "cell_type": "code",
      "metadata": {
        "id": "esxaveh3ZSXw",
        "outputId": "8709aa1e-178b-4441-ea7c-fe152c036948",
        "colab": {
          "base_uri": "https://localhost:8080/",
          "height": 235
        }
      },
      "source": [
        "pokemon_df= pokemon_df.set_index(\"#\")  # 將索引設定為'#'列\n",
        "pokemon_df.head()  # 顯示頭5比資料"
      ],
      "execution_count": 8,
      "outputs": [
        {
          "output_type": "execute_result",
          "data": {
            "text/html": [
              "<div>\n",
              "<style scoped>\n",
              "    .dataframe tbody tr th:only-of-type {\n",
              "        vertical-align: middle;\n",
              "    }\n",
              "\n",
              "    .dataframe tbody tr th {\n",
              "        vertical-align: top;\n",
              "    }\n",
              "\n",
              "    .dataframe thead th {\n",
              "        text-align: right;\n",
              "    }\n",
              "</style>\n",
              "<table border=\"1\" class=\"dataframe\">\n",
              "  <thead>\n",
              "    <tr style=\"text-align: right;\">\n",
              "      <th></th>\n",
              "      <th>Name</th>\n",
              "      <th>Type 1</th>\n",
              "      <th>Type 2</th>\n",
              "      <th>HP</th>\n",
              "      <th>Attack</th>\n",
              "      <th>Defense</th>\n",
              "      <th>Sp. Atk</th>\n",
              "      <th>Sp. Def</th>\n",
              "      <th>Speed</th>\n",
              "      <th>Generation</th>\n",
              "      <th>Legendary</th>\n",
              "    </tr>\n",
              "    <tr>\n",
              "      <th>#</th>\n",
              "      <th></th>\n",
              "      <th></th>\n",
              "      <th></th>\n",
              "      <th></th>\n",
              "      <th></th>\n",
              "      <th></th>\n",
              "      <th></th>\n",
              "      <th></th>\n",
              "      <th></th>\n",
              "      <th></th>\n",
              "      <th></th>\n",
              "    </tr>\n",
              "  </thead>\n",
              "  <tbody>\n",
              "    <tr>\n",
              "      <th>1</th>\n",
              "      <td>Bulbasaur</td>\n",
              "      <td>Grass</td>\n",
              "      <td>Poison</td>\n",
              "      <td>45</td>\n",
              "      <td>49</td>\n",
              "      <td>49</td>\n",
              "      <td>65</td>\n",
              "      <td>65</td>\n",
              "      <td>45</td>\n",
              "      <td>1</td>\n",
              "      <td>False</td>\n",
              "    </tr>\n",
              "    <tr>\n",
              "      <th>2</th>\n",
              "      <td>Ivysaur</td>\n",
              "      <td>Grass</td>\n",
              "      <td>Poison</td>\n",
              "      <td>60</td>\n",
              "      <td>62</td>\n",
              "      <td>63</td>\n",
              "      <td>80</td>\n",
              "      <td>80</td>\n",
              "      <td>60</td>\n",
              "      <td>1</td>\n",
              "      <td>False</td>\n",
              "    </tr>\n",
              "    <tr>\n",
              "      <th>3</th>\n",
              "      <td>Venusaur</td>\n",
              "      <td>Grass</td>\n",
              "      <td>Poison</td>\n",
              "      <td>80</td>\n",
              "      <td>82</td>\n",
              "      <td>83</td>\n",
              "      <td>100</td>\n",
              "      <td>100</td>\n",
              "      <td>80</td>\n",
              "      <td>1</td>\n",
              "      <td>False</td>\n",
              "    </tr>\n",
              "    <tr>\n",
              "      <th>4</th>\n",
              "      <td>Mega Venusaur</td>\n",
              "      <td>Grass</td>\n",
              "      <td>Poison</td>\n",
              "      <td>80</td>\n",
              "      <td>100</td>\n",
              "      <td>123</td>\n",
              "      <td>122</td>\n",
              "      <td>120</td>\n",
              "      <td>80</td>\n",
              "      <td>1</td>\n",
              "      <td>False</td>\n",
              "    </tr>\n",
              "    <tr>\n",
              "      <th>5</th>\n",
              "      <td>Charmander</td>\n",
              "      <td>Fire</td>\n",
              "      <td>NaN</td>\n",
              "      <td>39</td>\n",
              "      <td>52</td>\n",
              "      <td>43</td>\n",
              "      <td>60</td>\n",
              "      <td>50</td>\n",
              "      <td>65</td>\n",
              "      <td>1</td>\n",
              "      <td>False</td>\n",
              "    </tr>\n",
              "  </tbody>\n",
              "</table>\n",
              "</div>"
            ],
            "text/plain": [
              "            Name Type 1  Type 2  HP  ...  Sp. Def  Speed  Generation  Legendary\n",
              "#                                    ...                                       \n",
              "1      Bulbasaur  Grass  Poison  45  ...       65     45           1      False\n",
              "2        Ivysaur  Grass  Poison  60  ...       80     60           1      False\n",
              "3       Venusaur  Grass  Poison  80  ...      100     80           1      False\n",
              "4  Mega Venusaur  Grass  Poison  80  ...      120     80           1      False\n",
              "5     Charmander   Fire     NaN  39  ...       50     65           1      False\n",
              "\n",
              "[5 rows x 11 columns]"
            ]
          },
          "metadata": {
            "tags": []
          },
          "execution_count": 8
        }
      ]
    },
    {
      "cell_type": "markdown",
      "metadata": {
        "id": "SxXnnV0TZSX3"
      },
      "source": [
        "讀取寶可夢對戰數據："
      ]
    },
    {
      "cell_type": "code",
      "metadata": {
        "id": "dmQ9vP-hZSX4",
        "outputId": "06288ece-cd15-4ec2-db28-8026b0a85dcd",
        "colab": {
          "base_uri": "https://localhost:8080/",
          "height": 204
        }
      },
      "source": [
        "combats_df = pd.read_csv('/app/pokemon-dataset/combats.csv')  # 讀取對戰數據\n",
        "combats_df.head()  # 顯示頭5比資料"
      ],
      "execution_count": 9,
      "outputs": [
        {
          "output_type": "execute_result",
          "data": {
            "text/html": [
              "<div>\n",
              "<style scoped>\n",
              "    .dataframe tbody tr th:only-of-type {\n",
              "        vertical-align: middle;\n",
              "    }\n",
              "\n",
              "    .dataframe tbody tr th {\n",
              "        vertical-align: top;\n",
              "    }\n",
              "\n",
              "    .dataframe thead th {\n",
              "        text-align: right;\n",
              "    }\n",
              "</style>\n",
              "<table border=\"1\" class=\"dataframe\">\n",
              "  <thead>\n",
              "    <tr style=\"text-align: right;\">\n",
              "      <th></th>\n",
              "      <th>First_pokemon</th>\n",
              "      <th>Second_pokemon</th>\n",
              "      <th>Winner</th>\n",
              "    </tr>\n",
              "  </thead>\n",
              "  <tbody>\n",
              "    <tr>\n",
              "      <th>0</th>\n",
              "      <td>266</td>\n",
              "      <td>298</td>\n",
              "      <td>298</td>\n",
              "    </tr>\n",
              "    <tr>\n",
              "      <th>1</th>\n",
              "      <td>702</td>\n",
              "      <td>701</td>\n",
              "      <td>701</td>\n",
              "    </tr>\n",
              "    <tr>\n",
              "      <th>2</th>\n",
              "      <td>191</td>\n",
              "      <td>668</td>\n",
              "      <td>668</td>\n",
              "    </tr>\n",
              "    <tr>\n",
              "      <th>3</th>\n",
              "      <td>237</td>\n",
              "      <td>683</td>\n",
              "      <td>683</td>\n",
              "    </tr>\n",
              "    <tr>\n",
              "      <th>4</th>\n",
              "      <td>151</td>\n",
              "      <td>231</td>\n",
              "      <td>151</td>\n",
              "    </tr>\n",
              "  </tbody>\n",
              "</table>\n",
              "</div>"
            ],
            "text/plain": [
              "   First_pokemon  Second_pokemon  Winner\n",
              "0            266             298     298\n",
              "1            702             701     701\n",
              "2            191             668     668\n",
              "3            237             683     683\n",
              "4            151             231     151"
            ]
          },
          "metadata": {
            "tags": []
          },
          "execution_count": 9
        }
      ]
    },
    {
      "cell_type": "markdown",
      "metadata": {
        "id": "PagjU61rZSYA"
      },
      "source": [
        "### 補齊缺失 資料"
      ]
    },
    {
      "cell_type": "markdown",
      "metadata": {
        "id": "f40LAtNJZSYB"
      },
      "source": [
        "檢查寶可夢數據是否有缺失資料："
      ]
    },
    {
      "cell_type": "code",
      "metadata": {
        "id": "9J1xErapZSYC",
        "outputId": "7f596927-21c0-40d3-dbff-fa7d1cb30ea1",
        "colab": {
          "base_uri": "https://localhost:8080/",
          "height": 341
        }
      },
      "source": [
        "pokemon_df.info()  # 顯示精靈寶可夢的數據資訊"
      ],
      "execution_count": 10,
      "outputs": [
        {
          "output_type": "stream",
          "text": [
            "<class 'pandas.core.frame.DataFrame'>\n",
            "Int64Index: 800 entries, 1 to 800\n",
            "Data columns (total 11 columns):\n",
            " #   Column      Non-Null Count  Dtype \n",
            "---  ------      --------------  ----- \n",
            " 0   Name        799 non-null    object\n",
            " 1   Type 1      800 non-null    object\n",
            " 2   Type 2      414 non-null    object\n",
            " 3   HP          800 non-null    int64 \n",
            " 4   Attack      800 non-null    int64 \n",
            " 5   Defense     800 non-null    int64 \n",
            " 6   Sp. Atk     800 non-null    int64 \n",
            " 7   Sp. Def     800 non-null    int64 \n",
            " 8   Speed       800 non-null    int64 \n",
            " 9   Generation  800 non-null    int64 \n",
            " 10  Legendary   800 non-null    bool  \n",
            "dtypes: bool(1), int64(7), object(3)\n",
            "memory usage: 69.5+ KB\n"
          ],
          "name": "stdout"
        }
      ]
    },
    {
      "cell_type": "markdown",
      "metadata": {
        "id": "p879yA7gZSYO"
      },
      "source": [
        "查看Type2每個類別的數量：\n",
        "\n",
        "透過傳入參數dropna=False，可以將缺失數據（NaN）也考慮進去，NaN代表寶可夢並沒有第二種屬性。"
      ]
    },
    {
      "cell_type": "code",
      "metadata": {
        "id": "3lbkSEeOZSYP",
        "outputId": "c37edfa8-c73c-420b-f407-50a8b6189912",
        "colab": {
          "base_uri": "https://localhost:8080/",
          "height": 377
        }
      },
      "source": [
        "pokemon_df[\"Type 2\"].value_counts(dropna =False)"
      ],
      "execution_count": 11,
      "outputs": [
        {
          "output_type": "execute_result",
          "data": {
            "text/plain": [
              "NaN         386\n",
              "Flying       97\n",
              "Ground       35\n",
              "Poison       34\n",
              "Psychic      33\n",
              "Fighting     26\n",
              "Grass        25\n",
              "Fairy        23\n",
              "Steel        22\n",
              "Dark         20\n",
              "Dragon       18\n",
              "Water        14\n",
              "Rock         14\n",
              "Ghost        14\n",
              "Ice          14\n",
              "Fire         12\n",
              "Electric      6\n",
              "Normal        4\n",
              "Bug           3\n",
              "Name: Type 2, dtype: int64"
            ]
          },
          "metadata": {
            "tags": []
          },
          "execution_count": 11
        }
      ]
    },
    {
      "cell_type": "markdown",
      "metadata": {
        "id": "B2wbiBDlZSYX"
      },
      "source": [
        "填補缺失數據：使用empty將缺失的欄位填上。"
      ]
    },
    {
      "cell_type": "code",
      "metadata": {
        "id": "ZB0-7Wn4ZSYY",
        "outputId": "5bd1851d-92c5-49dc-a1c6-754df185406f",
        "colab": {
          "base_uri": "https://localhost:8080/",
          "height": 377
        }
      },
      "source": [
        "pokemon_df[\"Type 2\"].fillna('empty',inplace=True)\n",
        "pokemon_df[\"Type 2\"].value_counts()"
      ],
      "execution_count": 12,
      "outputs": [
        {
          "output_type": "execute_result",
          "data": {
            "text/plain": [
              "empty       386\n",
              "Flying       97\n",
              "Ground       35\n",
              "Poison       34\n",
              "Psychic      33\n",
              "Fighting     26\n",
              "Grass        25\n",
              "Fairy        23\n",
              "Steel        22\n",
              "Dark         20\n",
              "Dragon       18\n",
              "Ghost        14\n",
              "Ice          14\n",
              "Water        14\n",
              "Rock         14\n",
              "Fire         12\n",
              "Electric      6\n",
              "Normal        4\n",
              "Bug           3\n",
              "Name: Type 2, dtype: int64"
            ]
          },
          "metadata": {
            "tags": []
          },
          "execution_count": 12
        }
      ]
    },
    {
      "cell_type": "markdown",
      "metadata": {
        "id": "ONa7PUz6ZSYe"
      },
      "source": [
        "### 數據前處理\n",
        "檢查資料型態"
      ]
    },
    {
      "cell_type": "code",
      "metadata": {
        "id": "Eam9uJjLZSYf",
        "outputId": "5790156a-e54d-43c0-d9eb-cd95dc7a8ddc",
        "colab": {
          "base_uri": "https://localhost:8080/",
          "height": 323
        }
      },
      "source": [
        "print(combats_df.dtypes)  # 顯示對戰數據的資料型態\n",
        "print('-' * 30)\n",
        "print(pokemon_df.dtypes)  # 顯示寶可夢數據的資料型態"
      ],
      "execution_count": 13,
      "outputs": [
        {
          "output_type": "stream",
          "text": [
            "First_pokemon     int64\n",
            "Second_pokemon    int64\n",
            "Winner            int64\n",
            "dtype: object\n",
            "------------------------------\n",
            "Name          object\n",
            "Type 1        object\n",
            "Type 2        object\n",
            "HP             int64\n",
            "Attack         int64\n",
            "Defense        int64\n",
            "Sp. Atk        int64\n",
            "Sp. Def        int64\n",
            "Speed          int64\n",
            "Generation     int64\n",
            "Legendary       bool\n",
            "dtype: object\n"
          ],
          "name": "stdout"
        }
      ]
    },
    {
      "cell_type": "markdown",
      "metadata": {
        "id": "Eo5coAfjZSYl"
      },
      "source": [
        "轉換數據格式"
      ]
    },
    {
      "cell_type": "code",
      "metadata": {
        "id": "ZFs6tHRlZSYn",
        "outputId": "8acbfc22-1713-4e2b-ae7e-d1dd6fa168d3",
        "colab": {
          "base_uri": "https://localhost:8080/",
          "height": 233
        }
      },
      "source": [
        "pokemon_df['Type 1'] = pokemon_df['Type 1'].astype('category')  # 將'Type 1'轉成category型態\n",
        "pokemon_df['Type 2'] = pokemon_df['Type 2'].astype('category')  # 將'Type 2'轉成category型態\n",
        "pokemon_df['Legendary'] = pokemon_df['Legendary'].astype('int')  # 將'Legendary'轉成int型態\n",
        "pokemon_df.dtypes  # 顯示目前寶可用數據集資料型態"
      ],
      "execution_count": 14,
      "outputs": [
        {
          "output_type": "execute_result",
          "data": {
            "text/plain": [
              "Name            object\n",
              "Type 1        category\n",
              "Type 2        category\n",
              "HP               int64\n",
              "Attack           int64\n",
              "Defense          int64\n",
              "Sp. Atk          int64\n",
              "Sp. Def          int64\n",
              "Speed            int64\n",
              "Generation       int64\n",
              "Legendary        int64\n",
              "dtype: object"
            ]
          },
          "metadata": {
            "tags": []
          },
          "execution_count": 14
        }
      ]
    },
    {
      "cell_type": "markdown",
      "metadata": {
        "id": "iMtxp8WxZSYt"
      },
      "source": [
        "將寶可夢的Type1和Type2轉為One-hot Encoding表示："
      ]
    },
    {
      "cell_type": "code",
      "metadata": {
        "id": "vpgqPbSEZSYu",
        "outputId": "941e0567-84fa-4a15-e3e7-5a2059f583c7",
        "colab": {
          "base_uri": "https://localhost:8080/",
          "height": 235
        }
      },
      "source": [
        "df_type1_one_hot = pd.get_dummies(pokemon_df['Type 1'])  # 取得'Type 1'數據的One-hot編碼\n",
        "df_type1_one_hot.head()  # 顯示頭5比資料"
      ],
      "execution_count": 15,
      "outputs": [
        {
          "output_type": "execute_result",
          "data": {
            "text/html": [
              "<div>\n",
              "<style scoped>\n",
              "    .dataframe tbody tr th:only-of-type {\n",
              "        vertical-align: middle;\n",
              "    }\n",
              "\n",
              "    .dataframe tbody tr th {\n",
              "        vertical-align: top;\n",
              "    }\n",
              "\n",
              "    .dataframe thead th {\n",
              "        text-align: right;\n",
              "    }\n",
              "</style>\n",
              "<table border=\"1\" class=\"dataframe\">\n",
              "  <thead>\n",
              "    <tr style=\"text-align: right;\">\n",
              "      <th></th>\n",
              "      <th>Bug</th>\n",
              "      <th>Dark</th>\n",
              "      <th>Dragon</th>\n",
              "      <th>Electric</th>\n",
              "      <th>Fairy</th>\n",
              "      <th>Fighting</th>\n",
              "      <th>Fire</th>\n",
              "      <th>Flying</th>\n",
              "      <th>Ghost</th>\n",
              "      <th>Grass</th>\n",
              "      <th>Ground</th>\n",
              "      <th>Ice</th>\n",
              "      <th>Normal</th>\n",
              "      <th>Poison</th>\n",
              "      <th>Psychic</th>\n",
              "      <th>Rock</th>\n",
              "      <th>Steel</th>\n",
              "      <th>Water</th>\n",
              "    </tr>\n",
              "    <tr>\n",
              "      <th>#</th>\n",
              "      <th></th>\n",
              "      <th></th>\n",
              "      <th></th>\n",
              "      <th></th>\n",
              "      <th></th>\n",
              "      <th></th>\n",
              "      <th></th>\n",
              "      <th></th>\n",
              "      <th></th>\n",
              "      <th></th>\n",
              "      <th></th>\n",
              "      <th></th>\n",
              "      <th></th>\n",
              "      <th></th>\n",
              "      <th></th>\n",
              "      <th></th>\n",
              "      <th></th>\n",
              "      <th></th>\n",
              "    </tr>\n",
              "  </thead>\n",
              "  <tbody>\n",
              "    <tr>\n",
              "      <th>1</th>\n",
              "      <td>0</td>\n",
              "      <td>0</td>\n",
              "      <td>0</td>\n",
              "      <td>0</td>\n",
              "      <td>0</td>\n",
              "      <td>0</td>\n",
              "      <td>0</td>\n",
              "      <td>0</td>\n",
              "      <td>0</td>\n",
              "      <td>1</td>\n",
              "      <td>0</td>\n",
              "      <td>0</td>\n",
              "      <td>0</td>\n",
              "      <td>0</td>\n",
              "      <td>0</td>\n",
              "      <td>0</td>\n",
              "      <td>0</td>\n",
              "      <td>0</td>\n",
              "    </tr>\n",
              "    <tr>\n",
              "      <th>2</th>\n",
              "      <td>0</td>\n",
              "      <td>0</td>\n",
              "      <td>0</td>\n",
              "      <td>0</td>\n",
              "      <td>0</td>\n",
              "      <td>0</td>\n",
              "      <td>0</td>\n",
              "      <td>0</td>\n",
              "      <td>0</td>\n",
              "      <td>1</td>\n",
              "      <td>0</td>\n",
              "      <td>0</td>\n",
              "      <td>0</td>\n",
              "      <td>0</td>\n",
              "      <td>0</td>\n",
              "      <td>0</td>\n",
              "      <td>0</td>\n",
              "      <td>0</td>\n",
              "    </tr>\n",
              "    <tr>\n",
              "      <th>3</th>\n",
              "      <td>0</td>\n",
              "      <td>0</td>\n",
              "      <td>0</td>\n",
              "      <td>0</td>\n",
              "      <td>0</td>\n",
              "      <td>0</td>\n",
              "      <td>0</td>\n",
              "      <td>0</td>\n",
              "      <td>0</td>\n",
              "      <td>1</td>\n",
              "      <td>0</td>\n",
              "      <td>0</td>\n",
              "      <td>0</td>\n",
              "      <td>0</td>\n",
              "      <td>0</td>\n",
              "      <td>0</td>\n",
              "      <td>0</td>\n",
              "      <td>0</td>\n",
              "    </tr>\n",
              "    <tr>\n",
              "      <th>4</th>\n",
              "      <td>0</td>\n",
              "      <td>0</td>\n",
              "      <td>0</td>\n",
              "      <td>0</td>\n",
              "      <td>0</td>\n",
              "      <td>0</td>\n",
              "      <td>0</td>\n",
              "      <td>0</td>\n",
              "      <td>0</td>\n",
              "      <td>1</td>\n",
              "      <td>0</td>\n",
              "      <td>0</td>\n",
              "      <td>0</td>\n",
              "      <td>0</td>\n",
              "      <td>0</td>\n",
              "      <td>0</td>\n",
              "      <td>0</td>\n",
              "      <td>0</td>\n",
              "    </tr>\n",
              "    <tr>\n",
              "      <th>5</th>\n",
              "      <td>0</td>\n",
              "      <td>0</td>\n",
              "      <td>0</td>\n",
              "      <td>0</td>\n",
              "      <td>0</td>\n",
              "      <td>0</td>\n",
              "      <td>1</td>\n",
              "      <td>0</td>\n",
              "      <td>0</td>\n",
              "      <td>0</td>\n",
              "      <td>0</td>\n",
              "      <td>0</td>\n",
              "      <td>0</td>\n",
              "      <td>0</td>\n",
              "      <td>0</td>\n",
              "      <td>0</td>\n",
              "      <td>0</td>\n",
              "      <td>0</td>\n",
              "    </tr>\n",
              "  </tbody>\n",
              "</table>\n",
              "</div>"
            ],
            "text/plain": [
              "   Bug  Dark  Dragon  Electric  Fairy  ...  Poison  Psychic  Rock  Steel  Water\n",
              "#                                      ...                                     \n",
              "1    0     0       0         0      0  ...       0        0     0      0      0\n",
              "2    0     0       0         0      0  ...       0        0     0      0      0\n",
              "3    0     0       0         0      0  ...       0        0     0      0      0\n",
              "4    0     0       0         0      0  ...       0        0     0      0      0\n",
              "5    0     0       0         0      0  ...       0        0     0      0      0\n",
              "\n",
              "[5 rows x 18 columns]"
            ]
          },
          "metadata": {
            "tags": []
          },
          "execution_count": 15
        }
      ]
    },
    {
      "cell_type": "markdown",
      "metadata": {
        "id": "rkOoLdSPZSY0"
      },
      "source": [
        "使用Pandas的get_dummies函數，取得Type2（寶可夢第二種屬性）的One-hot Encoding："
      ]
    },
    {
      "cell_type": "code",
      "metadata": {
        "scrolled": true,
        "id": "oM8KLMicZSY1",
        "outputId": "2258e6af-239d-4ac8-9c2b-209040eaa86d",
        "colab": {
          "base_uri": "https://localhost:8080/",
          "height": 235
        }
      },
      "source": [
        "df_type2_one_hot = pd.get_dummies(pokemon_df['Type 2'])  # 取得'Type 2'數據的One-hot編碼\n",
        "df_type2_one_hot.head()  # 顯示頭5比資料"
      ],
      "execution_count": 16,
      "outputs": [
        {
          "output_type": "execute_result",
          "data": {
            "text/html": [
              "<div>\n",
              "<style scoped>\n",
              "    .dataframe tbody tr th:only-of-type {\n",
              "        vertical-align: middle;\n",
              "    }\n",
              "\n",
              "    .dataframe tbody tr th {\n",
              "        vertical-align: top;\n",
              "    }\n",
              "\n",
              "    .dataframe thead th {\n",
              "        text-align: right;\n",
              "    }\n",
              "</style>\n",
              "<table border=\"1\" class=\"dataframe\">\n",
              "  <thead>\n",
              "    <tr style=\"text-align: right;\">\n",
              "      <th></th>\n",
              "      <th>Bug</th>\n",
              "      <th>Dark</th>\n",
              "      <th>Dragon</th>\n",
              "      <th>Electric</th>\n",
              "      <th>Fairy</th>\n",
              "      <th>Fighting</th>\n",
              "      <th>Fire</th>\n",
              "      <th>Flying</th>\n",
              "      <th>Ghost</th>\n",
              "      <th>Grass</th>\n",
              "      <th>Ground</th>\n",
              "      <th>Ice</th>\n",
              "      <th>Normal</th>\n",
              "      <th>Poison</th>\n",
              "      <th>Psychic</th>\n",
              "      <th>Rock</th>\n",
              "      <th>Steel</th>\n",
              "      <th>Water</th>\n",
              "      <th>empty</th>\n",
              "    </tr>\n",
              "    <tr>\n",
              "      <th>#</th>\n",
              "      <th></th>\n",
              "      <th></th>\n",
              "      <th></th>\n",
              "      <th></th>\n",
              "      <th></th>\n",
              "      <th></th>\n",
              "      <th></th>\n",
              "      <th></th>\n",
              "      <th></th>\n",
              "      <th></th>\n",
              "      <th></th>\n",
              "      <th></th>\n",
              "      <th></th>\n",
              "      <th></th>\n",
              "      <th></th>\n",
              "      <th></th>\n",
              "      <th></th>\n",
              "      <th></th>\n",
              "      <th></th>\n",
              "    </tr>\n",
              "  </thead>\n",
              "  <tbody>\n",
              "    <tr>\n",
              "      <th>1</th>\n",
              "      <td>0</td>\n",
              "      <td>0</td>\n",
              "      <td>0</td>\n",
              "      <td>0</td>\n",
              "      <td>0</td>\n",
              "      <td>0</td>\n",
              "      <td>0</td>\n",
              "      <td>0</td>\n",
              "      <td>0</td>\n",
              "      <td>0</td>\n",
              "      <td>0</td>\n",
              "      <td>0</td>\n",
              "      <td>0</td>\n",
              "      <td>1</td>\n",
              "      <td>0</td>\n",
              "      <td>0</td>\n",
              "      <td>0</td>\n",
              "      <td>0</td>\n",
              "      <td>0</td>\n",
              "    </tr>\n",
              "    <tr>\n",
              "      <th>2</th>\n",
              "      <td>0</td>\n",
              "      <td>0</td>\n",
              "      <td>0</td>\n",
              "      <td>0</td>\n",
              "      <td>0</td>\n",
              "      <td>0</td>\n",
              "      <td>0</td>\n",
              "      <td>0</td>\n",
              "      <td>0</td>\n",
              "      <td>0</td>\n",
              "      <td>0</td>\n",
              "      <td>0</td>\n",
              "      <td>0</td>\n",
              "      <td>1</td>\n",
              "      <td>0</td>\n",
              "      <td>0</td>\n",
              "      <td>0</td>\n",
              "      <td>0</td>\n",
              "      <td>0</td>\n",
              "    </tr>\n",
              "    <tr>\n",
              "      <th>3</th>\n",
              "      <td>0</td>\n",
              "      <td>0</td>\n",
              "      <td>0</td>\n",
              "      <td>0</td>\n",
              "      <td>0</td>\n",
              "      <td>0</td>\n",
              "      <td>0</td>\n",
              "      <td>0</td>\n",
              "      <td>0</td>\n",
              "      <td>0</td>\n",
              "      <td>0</td>\n",
              "      <td>0</td>\n",
              "      <td>0</td>\n",
              "      <td>1</td>\n",
              "      <td>0</td>\n",
              "      <td>0</td>\n",
              "      <td>0</td>\n",
              "      <td>0</td>\n",
              "      <td>0</td>\n",
              "    </tr>\n",
              "    <tr>\n",
              "      <th>4</th>\n",
              "      <td>0</td>\n",
              "      <td>0</td>\n",
              "      <td>0</td>\n",
              "      <td>0</td>\n",
              "      <td>0</td>\n",
              "      <td>0</td>\n",
              "      <td>0</td>\n",
              "      <td>0</td>\n",
              "      <td>0</td>\n",
              "      <td>0</td>\n",
              "      <td>0</td>\n",
              "      <td>0</td>\n",
              "      <td>0</td>\n",
              "      <td>1</td>\n",
              "      <td>0</td>\n",
              "      <td>0</td>\n",
              "      <td>0</td>\n",
              "      <td>0</td>\n",
              "      <td>0</td>\n",
              "    </tr>\n",
              "    <tr>\n",
              "      <th>5</th>\n",
              "      <td>0</td>\n",
              "      <td>0</td>\n",
              "      <td>0</td>\n",
              "      <td>0</td>\n",
              "      <td>0</td>\n",
              "      <td>0</td>\n",
              "      <td>0</td>\n",
              "      <td>0</td>\n",
              "      <td>0</td>\n",
              "      <td>0</td>\n",
              "      <td>0</td>\n",
              "      <td>0</td>\n",
              "      <td>0</td>\n",
              "      <td>0</td>\n",
              "      <td>0</td>\n",
              "      <td>0</td>\n",
              "      <td>0</td>\n",
              "      <td>0</td>\n",
              "      <td>1</td>\n",
              "    </tr>\n",
              "  </tbody>\n",
              "</table>\n",
              "</div>"
            ],
            "text/plain": [
              "   Bug  Dark  Dragon  Electric  Fairy  ...  Psychic  Rock  Steel  Water  empty\n",
              "#                                      ...                                    \n",
              "1    0     0       0         0      0  ...        0     0      0      0      0\n",
              "2    0     0       0         0      0  ...        0     0      0      0      0\n",
              "3    0     0       0         0      0  ...        0     0      0      0      0\n",
              "4    0     0       0         0      0  ...        0     0      0      0      0\n",
              "5    0     0       0         0      0  ...        0     0      0      0      1\n",
              "\n",
              "[5 rows x 19 columns]"
            ]
          },
          "metadata": {
            "tags": []
          },
          "execution_count": 16
        }
      ]
    },
    {
      "cell_type": "markdown",
      "metadata": {
        "id": "zzVwxRjAZSY8"
      },
      "source": [
        "將兩組One-hot Encoding合併回數據集："
      ]
    },
    {
      "cell_type": "code",
      "metadata": {
        "scrolled": true,
        "id": "XfJIJZ8PZSY9",
        "outputId": "506d7f8c-c923-4506-bfec-a7d0316e5eae",
        "colab": {
          "base_uri": "https://localhost:8080/",
          "height": 289
        }
      },
      "source": [
        "# 將上方兩個One-hot編碼資料加起來，將缺少的值補0，並轉呈int64型態\n",
        "combine_df_one_hot = df_type1_one_hot.add(df_type2_one_hot, fill_value=0).astype('int64')\n",
        "# 將顯示列數設定為30，不然會有部份資料無法顯示\n",
        "pd.options.display.max_columns = 30\n",
        "# 將One-hot編碼資料加到寶可夢數據中\n",
        "pokemon_df = pokemon_df.join(combine_df_one_hot)\n",
        "pokemon_df.head()  # 顯示頭5比資料"
      ],
      "execution_count": 17,
      "outputs": [
        {
          "output_type": "execute_result",
          "data": {
            "text/html": [
              "<div>\n",
              "<style scoped>\n",
              "    .dataframe tbody tr th:only-of-type {\n",
              "        vertical-align: middle;\n",
              "    }\n",
              "\n",
              "    .dataframe tbody tr th {\n",
              "        vertical-align: top;\n",
              "    }\n",
              "\n",
              "    .dataframe thead th {\n",
              "        text-align: right;\n",
              "    }\n",
              "</style>\n",
              "<table border=\"1\" class=\"dataframe\">\n",
              "  <thead>\n",
              "    <tr style=\"text-align: right;\">\n",
              "      <th></th>\n",
              "      <th>Name</th>\n",
              "      <th>Type 1</th>\n",
              "      <th>Type 2</th>\n",
              "      <th>HP</th>\n",
              "      <th>Attack</th>\n",
              "      <th>Defense</th>\n",
              "      <th>Sp. Atk</th>\n",
              "      <th>Sp. Def</th>\n",
              "      <th>Speed</th>\n",
              "      <th>Generation</th>\n",
              "      <th>Legendary</th>\n",
              "      <th>Bug</th>\n",
              "      <th>Dark</th>\n",
              "      <th>Dragon</th>\n",
              "      <th>Electric</th>\n",
              "      <th>Fairy</th>\n",
              "      <th>Fighting</th>\n",
              "      <th>Fire</th>\n",
              "      <th>Flying</th>\n",
              "      <th>Ghost</th>\n",
              "      <th>Grass</th>\n",
              "      <th>Ground</th>\n",
              "      <th>Ice</th>\n",
              "      <th>Normal</th>\n",
              "      <th>Poison</th>\n",
              "      <th>Psychic</th>\n",
              "      <th>Rock</th>\n",
              "      <th>Steel</th>\n",
              "      <th>Water</th>\n",
              "      <th>empty</th>\n",
              "    </tr>\n",
              "    <tr>\n",
              "      <th>#</th>\n",
              "      <th></th>\n",
              "      <th></th>\n",
              "      <th></th>\n",
              "      <th></th>\n",
              "      <th></th>\n",
              "      <th></th>\n",
              "      <th></th>\n",
              "      <th></th>\n",
              "      <th></th>\n",
              "      <th></th>\n",
              "      <th></th>\n",
              "      <th></th>\n",
              "      <th></th>\n",
              "      <th></th>\n",
              "      <th></th>\n",
              "      <th></th>\n",
              "      <th></th>\n",
              "      <th></th>\n",
              "      <th></th>\n",
              "      <th></th>\n",
              "      <th></th>\n",
              "      <th></th>\n",
              "      <th></th>\n",
              "      <th></th>\n",
              "      <th></th>\n",
              "      <th></th>\n",
              "      <th></th>\n",
              "      <th></th>\n",
              "      <th></th>\n",
              "      <th></th>\n",
              "    </tr>\n",
              "  </thead>\n",
              "  <tbody>\n",
              "    <tr>\n",
              "      <th>1</th>\n",
              "      <td>Bulbasaur</td>\n",
              "      <td>Grass</td>\n",
              "      <td>Poison</td>\n",
              "      <td>45</td>\n",
              "      <td>49</td>\n",
              "      <td>49</td>\n",
              "      <td>65</td>\n",
              "      <td>65</td>\n",
              "      <td>45</td>\n",
              "      <td>1</td>\n",
              "      <td>0</td>\n",
              "      <td>0</td>\n",
              "      <td>0</td>\n",
              "      <td>0</td>\n",
              "      <td>0</td>\n",
              "      <td>0</td>\n",
              "      <td>0</td>\n",
              "      <td>0</td>\n",
              "      <td>0</td>\n",
              "      <td>0</td>\n",
              "      <td>1</td>\n",
              "      <td>0</td>\n",
              "      <td>0</td>\n",
              "      <td>0</td>\n",
              "      <td>1</td>\n",
              "      <td>0</td>\n",
              "      <td>0</td>\n",
              "      <td>0</td>\n",
              "      <td>0</td>\n",
              "      <td>0</td>\n",
              "    </tr>\n",
              "    <tr>\n",
              "      <th>2</th>\n",
              "      <td>Ivysaur</td>\n",
              "      <td>Grass</td>\n",
              "      <td>Poison</td>\n",
              "      <td>60</td>\n",
              "      <td>62</td>\n",
              "      <td>63</td>\n",
              "      <td>80</td>\n",
              "      <td>80</td>\n",
              "      <td>60</td>\n",
              "      <td>1</td>\n",
              "      <td>0</td>\n",
              "      <td>0</td>\n",
              "      <td>0</td>\n",
              "      <td>0</td>\n",
              "      <td>0</td>\n",
              "      <td>0</td>\n",
              "      <td>0</td>\n",
              "      <td>0</td>\n",
              "      <td>0</td>\n",
              "      <td>0</td>\n",
              "      <td>1</td>\n",
              "      <td>0</td>\n",
              "      <td>0</td>\n",
              "      <td>0</td>\n",
              "      <td>1</td>\n",
              "      <td>0</td>\n",
              "      <td>0</td>\n",
              "      <td>0</td>\n",
              "      <td>0</td>\n",
              "      <td>0</td>\n",
              "    </tr>\n",
              "    <tr>\n",
              "      <th>3</th>\n",
              "      <td>Venusaur</td>\n",
              "      <td>Grass</td>\n",
              "      <td>Poison</td>\n",
              "      <td>80</td>\n",
              "      <td>82</td>\n",
              "      <td>83</td>\n",
              "      <td>100</td>\n",
              "      <td>100</td>\n",
              "      <td>80</td>\n",
              "      <td>1</td>\n",
              "      <td>0</td>\n",
              "      <td>0</td>\n",
              "      <td>0</td>\n",
              "      <td>0</td>\n",
              "      <td>0</td>\n",
              "      <td>0</td>\n",
              "      <td>0</td>\n",
              "      <td>0</td>\n",
              "      <td>0</td>\n",
              "      <td>0</td>\n",
              "      <td>1</td>\n",
              "      <td>0</td>\n",
              "      <td>0</td>\n",
              "      <td>0</td>\n",
              "      <td>1</td>\n",
              "      <td>0</td>\n",
              "      <td>0</td>\n",
              "      <td>0</td>\n",
              "      <td>0</td>\n",
              "      <td>0</td>\n",
              "    </tr>\n",
              "    <tr>\n",
              "      <th>4</th>\n",
              "      <td>Mega Venusaur</td>\n",
              "      <td>Grass</td>\n",
              "      <td>Poison</td>\n",
              "      <td>80</td>\n",
              "      <td>100</td>\n",
              "      <td>123</td>\n",
              "      <td>122</td>\n",
              "      <td>120</td>\n",
              "      <td>80</td>\n",
              "      <td>1</td>\n",
              "      <td>0</td>\n",
              "      <td>0</td>\n",
              "      <td>0</td>\n",
              "      <td>0</td>\n",
              "      <td>0</td>\n",
              "      <td>0</td>\n",
              "      <td>0</td>\n",
              "      <td>0</td>\n",
              "      <td>0</td>\n",
              "      <td>0</td>\n",
              "      <td>1</td>\n",
              "      <td>0</td>\n",
              "      <td>0</td>\n",
              "      <td>0</td>\n",
              "      <td>1</td>\n",
              "      <td>0</td>\n",
              "      <td>0</td>\n",
              "      <td>0</td>\n",
              "      <td>0</td>\n",
              "      <td>0</td>\n",
              "    </tr>\n",
              "    <tr>\n",
              "      <th>5</th>\n",
              "      <td>Charmander</td>\n",
              "      <td>Fire</td>\n",
              "      <td>empty</td>\n",
              "      <td>39</td>\n",
              "      <td>52</td>\n",
              "      <td>43</td>\n",
              "      <td>60</td>\n",
              "      <td>50</td>\n",
              "      <td>65</td>\n",
              "      <td>1</td>\n",
              "      <td>0</td>\n",
              "      <td>0</td>\n",
              "      <td>0</td>\n",
              "      <td>0</td>\n",
              "      <td>0</td>\n",
              "      <td>0</td>\n",
              "      <td>0</td>\n",
              "      <td>1</td>\n",
              "      <td>0</td>\n",
              "      <td>0</td>\n",
              "      <td>0</td>\n",
              "      <td>0</td>\n",
              "      <td>0</td>\n",
              "      <td>0</td>\n",
              "      <td>0</td>\n",
              "      <td>0</td>\n",
              "      <td>0</td>\n",
              "      <td>0</td>\n",
              "      <td>0</td>\n",
              "      <td>1</td>\n",
              "    </tr>\n",
              "  </tbody>\n",
              "</table>\n",
              "</div>"
            ],
            "text/plain": [
              "            Name Type 1  Type 2  HP  Attack  Defense  Sp. Atk  Sp. Def  Speed  \\\n",
              "#                                                                               \n",
              "1      Bulbasaur  Grass  Poison  45      49       49       65       65     45   \n",
              "2        Ivysaur  Grass  Poison  60      62       63       80       80     60   \n",
              "3       Venusaur  Grass  Poison  80      82       83      100      100     80   \n",
              "4  Mega Venusaur  Grass  Poison  80     100      123      122      120     80   \n",
              "5     Charmander   Fire   empty  39      52       43       60       50     65   \n",
              "\n",
              "   Generation  Legendary  Bug  Dark  Dragon  Electric  Fairy  Fighting  Fire  \\\n",
              "#                                                                              \n",
              "1           1          0    0     0       0         0      0         0     0   \n",
              "2           1          0    0     0       0         0      0         0     0   \n",
              "3           1          0    0     0       0         0      0         0     0   \n",
              "4           1          0    0     0       0         0      0         0     0   \n",
              "5           1          0    0     0       0         0      0         0     1   \n",
              "\n",
              "   Flying  Ghost  Grass  Ground  Ice  Normal  Poison  Psychic  Rock  Steel  \\\n",
              "#                                                                            \n",
              "1       0      0      1       0    0       0       1        0     0      0   \n",
              "2       0      0      1       0    0       0       1        0     0      0   \n",
              "3       0      0      1       0    0       0       1        0     0      0   \n",
              "4       0      0      1       0    0       0       1        0     0      0   \n",
              "5       0      0      0       0    0       0       0        0     0      0   \n",
              "\n",
              "   Water  empty  \n",
              "#                \n",
              "1      0      0  \n",
              "2      0      0  \n",
              "3      0      0  \n",
              "4      0      0  \n",
              "5      0      1  "
            ]
          },
          "metadata": {
            "tags": []
          },
          "execution_count": 17
        }
      ]
    },
    {
      "cell_type": "markdown",
      "metadata": {
        "id": "wvb8HShjZSZG"
      },
      "source": [
        "將寶可夢屬性轉為數值表示（0, 1, 2, …18）：透過cat.categories查詢類別的標籤。"
      ]
    },
    {
      "cell_type": "code",
      "metadata": {
        "id": "VoHTIHrNZSZH",
        "outputId": "95733ce9-62d9-41a1-eac9-24e5f9561901",
        "colab": {
          "base_uri": "https://localhost:8080/",
          "height": 359
        }
      },
      "source": [
        "dict(enumerate(pokemon_df['Type 2'].cat.categories))"
      ],
      "execution_count": 18,
      "outputs": [
        {
          "output_type": "execute_result",
          "data": {
            "text/plain": [
              "{0: 'Bug',\n",
              " 1: 'Dark',\n",
              " 2: 'Dragon',\n",
              " 3: 'Electric',\n",
              " 4: 'Fairy',\n",
              " 5: 'Fighting',\n",
              " 6: 'Fire',\n",
              " 7: 'Flying',\n",
              " 8: 'Ghost',\n",
              " 9: 'Grass',\n",
              " 10: 'Ground',\n",
              " 11: 'Ice',\n",
              " 12: 'Normal',\n",
              " 13: 'Poison',\n",
              " 14: 'Psychic',\n",
              " 15: 'Rock',\n",
              " 16: 'Steel',\n",
              " 17: 'Water',\n",
              " 18: 'empty'}"
            ]
          },
          "metadata": {
            "tags": []
          },
          "execution_count": 18
        }
      ]
    },
    {
      "cell_type": "markdown",
      "metadata": {
        "id": "b3ErMIweZSZN"
      },
      "source": [
        "透過cat.codes可以取得類別的編碼值。"
      ]
    },
    {
      "cell_type": "code",
      "metadata": {
        "id": "rtWz9eyDZSZO",
        "outputId": "4fa68cd3-2893-4d81-e59c-db0b50ff10f4",
        "colab": {
          "base_uri": "https://localhost:8080/",
          "height": 233
        }
      },
      "source": [
        "pokemon_df['Type 2'].cat.codes.head(10)"
      ],
      "execution_count": 19,
      "outputs": [
        {
          "output_type": "execute_result",
          "data": {
            "text/plain": [
              "#\n",
              "1     13\n",
              "2     13\n",
              "3     13\n",
              "4     13\n",
              "5     18\n",
              "6     18\n",
              "7      7\n",
              "8      2\n",
              "9      7\n",
              "10    18\n",
              "dtype: int8"
            ]
          },
          "metadata": {
            "tags": []
          },
          "execution_count": 19
        }
      ]
    },
    {
      "cell_type": "markdown",
      "metadata": {
        "id": "TIxgAPl_ZSZU"
      },
      "source": [
        "用數值表示（0, 1, 2…18）取代原本的標籤值："
      ]
    },
    {
      "cell_type": "code",
      "metadata": {
        "id": "I3e2wz9nZSZV",
        "outputId": "fec1e286-9b60-4293-b61d-ac877beb237d",
        "colab": {
          "base_uri": "https://localhost:8080/",
          "height": 289
        }
      },
      "source": [
        "pokemon_df['Type 1'] = pokemon_df['Type 1'].cat.codes\n",
        "pokemon_df['Type 2'] = pokemon_df['Type 2'].cat.codes\n",
        "pokemon_df.head()  # 顯示頭5比資料"
      ],
      "execution_count": 20,
      "outputs": [
        {
          "output_type": "execute_result",
          "data": {
            "text/html": [
              "<div>\n",
              "<style scoped>\n",
              "    .dataframe tbody tr th:only-of-type {\n",
              "        vertical-align: middle;\n",
              "    }\n",
              "\n",
              "    .dataframe tbody tr th {\n",
              "        vertical-align: top;\n",
              "    }\n",
              "\n",
              "    .dataframe thead th {\n",
              "        text-align: right;\n",
              "    }\n",
              "</style>\n",
              "<table border=\"1\" class=\"dataframe\">\n",
              "  <thead>\n",
              "    <tr style=\"text-align: right;\">\n",
              "      <th></th>\n",
              "      <th>Name</th>\n",
              "      <th>Type 1</th>\n",
              "      <th>Type 2</th>\n",
              "      <th>HP</th>\n",
              "      <th>Attack</th>\n",
              "      <th>Defense</th>\n",
              "      <th>Sp. Atk</th>\n",
              "      <th>Sp. Def</th>\n",
              "      <th>Speed</th>\n",
              "      <th>Generation</th>\n",
              "      <th>Legendary</th>\n",
              "      <th>Bug</th>\n",
              "      <th>Dark</th>\n",
              "      <th>Dragon</th>\n",
              "      <th>Electric</th>\n",
              "      <th>Fairy</th>\n",
              "      <th>Fighting</th>\n",
              "      <th>Fire</th>\n",
              "      <th>Flying</th>\n",
              "      <th>Ghost</th>\n",
              "      <th>Grass</th>\n",
              "      <th>Ground</th>\n",
              "      <th>Ice</th>\n",
              "      <th>Normal</th>\n",
              "      <th>Poison</th>\n",
              "      <th>Psychic</th>\n",
              "      <th>Rock</th>\n",
              "      <th>Steel</th>\n",
              "      <th>Water</th>\n",
              "      <th>empty</th>\n",
              "    </tr>\n",
              "    <tr>\n",
              "      <th>#</th>\n",
              "      <th></th>\n",
              "      <th></th>\n",
              "      <th></th>\n",
              "      <th></th>\n",
              "      <th></th>\n",
              "      <th></th>\n",
              "      <th></th>\n",
              "      <th></th>\n",
              "      <th></th>\n",
              "      <th></th>\n",
              "      <th></th>\n",
              "      <th></th>\n",
              "      <th></th>\n",
              "      <th></th>\n",
              "      <th></th>\n",
              "      <th></th>\n",
              "      <th></th>\n",
              "      <th></th>\n",
              "      <th></th>\n",
              "      <th></th>\n",
              "      <th></th>\n",
              "      <th></th>\n",
              "      <th></th>\n",
              "      <th></th>\n",
              "      <th></th>\n",
              "      <th></th>\n",
              "      <th></th>\n",
              "      <th></th>\n",
              "      <th></th>\n",
              "      <th></th>\n",
              "    </tr>\n",
              "  </thead>\n",
              "  <tbody>\n",
              "    <tr>\n",
              "      <th>1</th>\n",
              "      <td>Bulbasaur</td>\n",
              "      <td>9</td>\n",
              "      <td>13</td>\n",
              "      <td>45</td>\n",
              "      <td>49</td>\n",
              "      <td>49</td>\n",
              "      <td>65</td>\n",
              "      <td>65</td>\n",
              "      <td>45</td>\n",
              "      <td>1</td>\n",
              "      <td>0</td>\n",
              "      <td>0</td>\n",
              "      <td>0</td>\n",
              "      <td>0</td>\n",
              "      <td>0</td>\n",
              "      <td>0</td>\n",
              "      <td>0</td>\n",
              "      <td>0</td>\n",
              "      <td>0</td>\n",
              "      <td>0</td>\n",
              "      <td>1</td>\n",
              "      <td>0</td>\n",
              "      <td>0</td>\n",
              "      <td>0</td>\n",
              "      <td>1</td>\n",
              "      <td>0</td>\n",
              "      <td>0</td>\n",
              "      <td>0</td>\n",
              "      <td>0</td>\n",
              "      <td>0</td>\n",
              "    </tr>\n",
              "    <tr>\n",
              "      <th>2</th>\n",
              "      <td>Ivysaur</td>\n",
              "      <td>9</td>\n",
              "      <td>13</td>\n",
              "      <td>60</td>\n",
              "      <td>62</td>\n",
              "      <td>63</td>\n",
              "      <td>80</td>\n",
              "      <td>80</td>\n",
              "      <td>60</td>\n",
              "      <td>1</td>\n",
              "      <td>0</td>\n",
              "      <td>0</td>\n",
              "      <td>0</td>\n",
              "      <td>0</td>\n",
              "      <td>0</td>\n",
              "      <td>0</td>\n",
              "      <td>0</td>\n",
              "      <td>0</td>\n",
              "      <td>0</td>\n",
              "      <td>0</td>\n",
              "      <td>1</td>\n",
              "      <td>0</td>\n",
              "      <td>0</td>\n",
              "      <td>0</td>\n",
              "      <td>1</td>\n",
              "      <td>0</td>\n",
              "      <td>0</td>\n",
              "      <td>0</td>\n",
              "      <td>0</td>\n",
              "      <td>0</td>\n",
              "    </tr>\n",
              "    <tr>\n",
              "      <th>3</th>\n",
              "      <td>Venusaur</td>\n",
              "      <td>9</td>\n",
              "      <td>13</td>\n",
              "      <td>80</td>\n",
              "      <td>82</td>\n",
              "      <td>83</td>\n",
              "      <td>100</td>\n",
              "      <td>100</td>\n",
              "      <td>80</td>\n",
              "      <td>1</td>\n",
              "      <td>0</td>\n",
              "      <td>0</td>\n",
              "      <td>0</td>\n",
              "      <td>0</td>\n",
              "      <td>0</td>\n",
              "      <td>0</td>\n",
              "      <td>0</td>\n",
              "      <td>0</td>\n",
              "      <td>0</td>\n",
              "      <td>0</td>\n",
              "      <td>1</td>\n",
              "      <td>0</td>\n",
              "      <td>0</td>\n",
              "      <td>0</td>\n",
              "      <td>1</td>\n",
              "      <td>0</td>\n",
              "      <td>0</td>\n",
              "      <td>0</td>\n",
              "      <td>0</td>\n",
              "      <td>0</td>\n",
              "    </tr>\n",
              "    <tr>\n",
              "      <th>4</th>\n",
              "      <td>Mega Venusaur</td>\n",
              "      <td>9</td>\n",
              "      <td>13</td>\n",
              "      <td>80</td>\n",
              "      <td>100</td>\n",
              "      <td>123</td>\n",
              "      <td>122</td>\n",
              "      <td>120</td>\n",
              "      <td>80</td>\n",
              "      <td>1</td>\n",
              "      <td>0</td>\n",
              "      <td>0</td>\n",
              "      <td>0</td>\n",
              "      <td>0</td>\n",
              "      <td>0</td>\n",
              "      <td>0</td>\n",
              "      <td>0</td>\n",
              "      <td>0</td>\n",
              "      <td>0</td>\n",
              "      <td>0</td>\n",
              "      <td>1</td>\n",
              "      <td>0</td>\n",
              "      <td>0</td>\n",
              "      <td>0</td>\n",
              "      <td>1</td>\n",
              "      <td>0</td>\n",
              "      <td>0</td>\n",
              "      <td>0</td>\n",
              "      <td>0</td>\n",
              "      <td>0</td>\n",
              "    </tr>\n",
              "    <tr>\n",
              "      <th>5</th>\n",
              "      <td>Charmander</td>\n",
              "      <td>6</td>\n",
              "      <td>18</td>\n",
              "      <td>39</td>\n",
              "      <td>52</td>\n",
              "      <td>43</td>\n",
              "      <td>60</td>\n",
              "      <td>50</td>\n",
              "      <td>65</td>\n",
              "      <td>1</td>\n",
              "      <td>0</td>\n",
              "      <td>0</td>\n",
              "      <td>0</td>\n",
              "      <td>0</td>\n",
              "      <td>0</td>\n",
              "      <td>0</td>\n",
              "      <td>0</td>\n",
              "      <td>1</td>\n",
              "      <td>0</td>\n",
              "      <td>0</td>\n",
              "      <td>0</td>\n",
              "      <td>0</td>\n",
              "      <td>0</td>\n",
              "      <td>0</td>\n",
              "      <td>0</td>\n",
              "      <td>0</td>\n",
              "      <td>0</td>\n",
              "      <td>0</td>\n",
              "      <td>0</td>\n",
              "      <td>1</td>\n",
              "    </tr>\n",
              "  </tbody>\n",
              "</table>\n",
              "</div>"
            ],
            "text/plain": [
              "            Name  Type 1  Type 2  HP  Attack  Defense  Sp. Atk  Sp. Def  \\\n",
              "#                                                                         \n",
              "1      Bulbasaur       9      13  45      49       49       65       65   \n",
              "2        Ivysaur       9      13  60      62       63       80       80   \n",
              "3       Venusaur       9      13  80      82       83      100      100   \n",
              "4  Mega Venusaur       9      13  80     100      123      122      120   \n",
              "5     Charmander       6      18  39      52       43       60       50   \n",
              "\n",
              "   Speed  Generation  Legendary  Bug  Dark  Dragon  Electric  Fairy  Fighting  \\\n",
              "#                                                                               \n",
              "1     45           1          0    0     0       0         0      0         0   \n",
              "2     60           1          0    0     0       0         0      0         0   \n",
              "3     80           1          0    0     0       0         0      0         0   \n",
              "4     80           1          0    0     0       0         0      0         0   \n",
              "5     65           1          0    0     0       0         0      0         0   \n",
              "\n",
              "   Fire  Flying  Ghost  Grass  Ground  Ice  Normal  Poison  Psychic  Rock  \\\n",
              "#                                                                           \n",
              "1     0       0      0      1       0    0       0       1        0     0   \n",
              "2     0       0      0      1       0    0       0       1        0     0   \n",
              "3     0       0      0      1       0    0       0       1        0     0   \n",
              "4     0       0      0      1       0    0       0       1        0     0   \n",
              "5     1       0      0      0       0    0       0       0        0     0   \n",
              "\n",
              "   Steel  Water  empty  \n",
              "#                       \n",
              "1      0      0      0  \n",
              "2      0      0      0  \n",
              "3      0      0      0  \n",
              "4      0      0      0  \n",
              "5      0      0      1  "
            ]
          },
          "metadata": {
            "tags": []
          },
          "execution_count": 20
        }
      ]
    },
    {
      "cell_type": "markdown",
      "metadata": {
        "id": "wP4efoEoZSZc"
      },
      "source": [
        "將沒有使用到的資料剔除（name）："
      ]
    },
    {
      "cell_type": "code",
      "metadata": {
        "id": "eU7ih6BcZSZd",
        "outputId": "59d823c8-45bc-4f0b-ee48-db90945a845c",
        "colab": {
          "base_uri": "https://localhost:8080/",
          "height": 272
        }
      },
      "source": [
        "pokemon_df.drop('Name', axis='columns', inplace=True)\n",
        "pokemon_df.head()  # 顯示頭5比資料"
      ],
      "execution_count": 21,
      "outputs": [
        {
          "output_type": "execute_result",
          "data": {
            "text/html": [
              "<div>\n",
              "<style scoped>\n",
              "    .dataframe tbody tr th:only-of-type {\n",
              "        vertical-align: middle;\n",
              "    }\n",
              "\n",
              "    .dataframe tbody tr th {\n",
              "        vertical-align: top;\n",
              "    }\n",
              "\n",
              "    .dataframe thead th {\n",
              "        text-align: right;\n",
              "    }\n",
              "</style>\n",
              "<table border=\"1\" class=\"dataframe\">\n",
              "  <thead>\n",
              "    <tr style=\"text-align: right;\">\n",
              "      <th></th>\n",
              "      <th>Type 1</th>\n",
              "      <th>Type 2</th>\n",
              "      <th>HP</th>\n",
              "      <th>Attack</th>\n",
              "      <th>Defense</th>\n",
              "      <th>Sp. Atk</th>\n",
              "      <th>Sp. Def</th>\n",
              "      <th>Speed</th>\n",
              "      <th>Generation</th>\n",
              "      <th>Legendary</th>\n",
              "      <th>Bug</th>\n",
              "      <th>Dark</th>\n",
              "      <th>Dragon</th>\n",
              "      <th>Electric</th>\n",
              "      <th>Fairy</th>\n",
              "      <th>Fighting</th>\n",
              "      <th>Fire</th>\n",
              "      <th>Flying</th>\n",
              "      <th>Ghost</th>\n",
              "      <th>Grass</th>\n",
              "      <th>Ground</th>\n",
              "      <th>Ice</th>\n",
              "      <th>Normal</th>\n",
              "      <th>Poison</th>\n",
              "      <th>Psychic</th>\n",
              "      <th>Rock</th>\n",
              "      <th>Steel</th>\n",
              "      <th>Water</th>\n",
              "      <th>empty</th>\n",
              "    </tr>\n",
              "    <tr>\n",
              "      <th>#</th>\n",
              "      <th></th>\n",
              "      <th></th>\n",
              "      <th></th>\n",
              "      <th></th>\n",
              "      <th></th>\n",
              "      <th></th>\n",
              "      <th></th>\n",
              "      <th></th>\n",
              "      <th></th>\n",
              "      <th></th>\n",
              "      <th></th>\n",
              "      <th></th>\n",
              "      <th></th>\n",
              "      <th></th>\n",
              "      <th></th>\n",
              "      <th></th>\n",
              "      <th></th>\n",
              "      <th></th>\n",
              "      <th></th>\n",
              "      <th></th>\n",
              "      <th></th>\n",
              "      <th></th>\n",
              "      <th></th>\n",
              "      <th></th>\n",
              "      <th></th>\n",
              "      <th></th>\n",
              "      <th></th>\n",
              "      <th></th>\n",
              "      <th></th>\n",
              "    </tr>\n",
              "  </thead>\n",
              "  <tbody>\n",
              "    <tr>\n",
              "      <th>1</th>\n",
              "      <td>9</td>\n",
              "      <td>13</td>\n",
              "      <td>45</td>\n",
              "      <td>49</td>\n",
              "      <td>49</td>\n",
              "      <td>65</td>\n",
              "      <td>65</td>\n",
              "      <td>45</td>\n",
              "      <td>1</td>\n",
              "      <td>0</td>\n",
              "      <td>0</td>\n",
              "      <td>0</td>\n",
              "      <td>0</td>\n",
              "      <td>0</td>\n",
              "      <td>0</td>\n",
              "      <td>0</td>\n",
              "      <td>0</td>\n",
              "      <td>0</td>\n",
              "      <td>0</td>\n",
              "      <td>1</td>\n",
              "      <td>0</td>\n",
              "      <td>0</td>\n",
              "      <td>0</td>\n",
              "      <td>1</td>\n",
              "      <td>0</td>\n",
              "      <td>0</td>\n",
              "      <td>0</td>\n",
              "      <td>0</td>\n",
              "      <td>0</td>\n",
              "    </tr>\n",
              "    <tr>\n",
              "      <th>2</th>\n",
              "      <td>9</td>\n",
              "      <td>13</td>\n",
              "      <td>60</td>\n",
              "      <td>62</td>\n",
              "      <td>63</td>\n",
              "      <td>80</td>\n",
              "      <td>80</td>\n",
              "      <td>60</td>\n",
              "      <td>1</td>\n",
              "      <td>0</td>\n",
              "      <td>0</td>\n",
              "      <td>0</td>\n",
              "      <td>0</td>\n",
              "      <td>0</td>\n",
              "      <td>0</td>\n",
              "      <td>0</td>\n",
              "      <td>0</td>\n",
              "      <td>0</td>\n",
              "      <td>0</td>\n",
              "      <td>1</td>\n",
              "      <td>0</td>\n",
              "      <td>0</td>\n",
              "      <td>0</td>\n",
              "      <td>1</td>\n",
              "      <td>0</td>\n",
              "      <td>0</td>\n",
              "      <td>0</td>\n",
              "      <td>0</td>\n",
              "      <td>0</td>\n",
              "    </tr>\n",
              "    <tr>\n",
              "      <th>3</th>\n",
              "      <td>9</td>\n",
              "      <td>13</td>\n",
              "      <td>80</td>\n",
              "      <td>82</td>\n",
              "      <td>83</td>\n",
              "      <td>100</td>\n",
              "      <td>100</td>\n",
              "      <td>80</td>\n",
              "      <td>1</td>\n",
              "      <td>0</td>\n",
              "      <td>0</td>\n",
              "      <td>0</td>\n",
              "      <td>0</td>\n",
              "      <td>0</td>\n",
              "      <td>0</td>\n",
              "      <td>0</td>\n",
              "      <td>0</td>\n",
              "      <td>0</td>\n",
              "      <td>0</td>\n",
              "      <td>1</td>\n",
              "      <td>0</td>\n",
              "      <td>0</td>\n",
              "      <td>0</td>\n",
              "      <td>1</td>\n",
              "      <td>0</td>\n",
              "      <td>0</td>\n",
              "      <td>0</td>\n",
              "      <td>0</td>\n",
              "      <td>0</td>\n",
              "    </tr>\n",
              "    <tr>\n",
              "      <th>4</th>\n",
              "      <td>9</td>\n",
              "      <td>13</td>\n",
              "      <td>80</td>\n",
              "      <td>100</td>\n",
              "      <td>123</td>\n",
              "      <td>122</td>\n",
              "      <td>120</td>\n",
              "      <td>80</td>\n",
              "      <td>1</td>\n",
              "      <td>0</td>\n",
              "      <td>0</td>\n",
              "      <td>0</td>\n",
              "      <td>0</td>\n",
              "      <td>0</td>\n",
              "      <td>0</td>\n",
              "      <td>0</td>\n",
              "      <td>0</td>\n",
              "      <td>0</td>\n",
              "      <td>0</td>\n",
              "      <td>1</td>\n",
              "      <td>0</td>\n",
              "      <td>0</td>\n",
              "      <td>0</td>\n",
              "      <td>1</td>\n",
              "      <td>0</td>\n",
              "      <td>0</td>\n",
              "      <td>0</td>\n",
              "      <td>0</td>\n",
              "      <td>0</td>\n",
              "    </tr>\n",
              "    <tr>\n",
              "      <th>5</th>\n",
              "      <td>6</td>\n",
              "      <td>18</td>\n",
              "      <td>39</td>\n",
              "      <td>52</td>\n",
              "      <td>43</td>\n",
              "      <td>60</td>\n",
              "      <td>50</td>\n",
              "      <td>65</td>\n",
              "      <td>1</td>\n",
              "      <td>0</td>\n",
              "      <td>0</td>\n",
              "      <td>0</td>\n",
              "      <td>0</td>\n",
              "      <td>0</td>\n",
              "      <td>0</td>\n",
              "      <td>0</td>\n",
              "      <td>1</td>\n",
              "      <td>0</td>\n",
              "      <td>0</td>\n",
              "      <td>0</td>\n",
              "      <td>0</td>\n",
              "      <td>0</td>\n",
              "      <td>0</td>\n",
              "      <td>0</td>\n",
              "      <td>0</td>\n",
              "      <td>0</td>\n",
              "      <td>0</td>\n",
              "      <td>0</td>\n",
              "      <td>1</td>\n",
              "    </tr>\n",
              "  </tbody>\n",
              "</table>\n",
              "</div>"
            ],
            "text/plain": [
              "   Type 1  Type 2  HP  Attack  Defense  Sp. Atk  Sp. Def  Speed  Generation  \\\n",
              "#                                                                             \n",
              "1       9      13  45      49       49       65       65     45           1   \n",
              "2       9      13  60      62       63       80       80     60           1   \n",
              "3       9      13  80      82       83      100      100     80           1   \n",
              "4       9      13  80     100      123      122      120     80           1   \n",
              "5       6      18  39      52       43       60       50     65           1   \n",
              "\n",
              "   Legendary  Bug  Dark  Dragon  Electric  Fairy  Fighting  Fire  Flying  \\\n",
              "#                                                                          \n",
              "1          0    0     0       0         0      0         0     0       0   \n",
              "2          0    0     0       0         0      0         0     0       0   \n",
              "3          0    0     0       0         0      0         0     0       0   \n",
              "4          0    0     0       0         0      0         0     0       0   \n",
              "5          0    0     0       0         0      0         0     1       0   \n",
              "\n",
              "   Ghost  Grass  Ground  Ice  Normal  Poison  Psychic  Rock  Steel  Water  \\\n",
              "#                                                                           \n",
              "1      0      1       0    0       0       1        0     0      0      0   \n",
              "2      0      1       0    0       0       1        0     0      0      0   \n",
              "3      0      1       0    0       0       1        0     0      0      0   \n",
              "4      0      1       0    0       0       1        0     0      0      0   \n",
              "5      0      0       0    0       0       0        0     0      0      0   \n",
              "\n",
              "   empty  \n",
              "#         \n",
              "1      0  \n",
              "2      0  \n",
              "3      0  \n",
              "4      0  \n",
              "5      1  "
            ]
          },
          "metadata": {
            "tags": []
          },
          "execution_count": 21
        }
      ]
    },
    {
      "cell_type": "markdown",
      "metadata": {
        "id": "gWkGYR3KZSZj"
      },
      "source": [
        "將寶可夢對戰數據中勝利方的表示改為0與1："
      ]
    },
    {
      "cell_type": "code",
      "metadata": {
        "scrolled": false,
        "id": "VPbrbxUPZSZk",
        "outputId": "6778ae47-eeb0-491e-ac3a-8662e3cc27be",
        "colab": {
          "base_uri": "https://localhost:8080/",
          "height": 204
        }
      },
      "source": [
        "# apply方法第一個參數為自訂function,而axis為columns的話會將數據一行一\n",
        "# 行放入function中處理，最後將所有結果組合成一個數據結構返回。\n",
        "combats_df['Winner'] = combats_df.apply(lambda x: 0 \n",
        "                                        if x.Winner == x.First_pokemon else 1, \n",
        "                                        axis='columns')\n",
        "combats_df.head()  # 顯示頭5比資料"
      ],
      "execution_count": 22,
      "outputs": [
        {
          "output_type": "execute_result",
          "data": {
            "text/html": [
              "<div>\n",
              "<style scoped>\n",
              "    .dataframe tbody tr th:only-of-type {\n",
              "        vertical-align: middle;\n",
              "    }\n",
              "\n",
              "    .dataframe tbody tr th {\n",
              "        vertical-align: top;\n",
              "    }\n",
              "\n",
              "    .dataframe thead th {\n",
              "        text-align: right;\n",
              "    }\n",
              "</style>\n",
              "<table border=\"1\" class=\"dataframe\">\n",
              "  <thead>\n",
              "    <tr style=\"text-align: right;\">\n",
              "      <th></th>\n",
              "      <th>First_pokemon</th>\n",
              "      <th>Second_pokemon</th>\n",
              "      <th>Winner</th>\n",
              "    </tr>\n",
              "  </thead>\n",
              "  <tbody>\n",
              "    <tr>\n",
              "      <th>0</th>\n",
              "      <td>266</td>\n",
              "      <td>298</td>\n",
              "      <td>1</td>\n",
              "    </tr>\n",
              "    <tr>\n",
              "      <th>1</th>\n",
              "      <td>702</td>\n",
              "      <td>701</td>\n",
              "      <td>1</td>\n",
              "    </tr>\n",
              "    <tr>\n",
              "      <th>2</th>\n",
              "      <td>191</td>\n",
              "      <td>668</td>\n",
              "      <td>1</td>\n",
              "    </tr>\n",
              "    <tr>\n",
              "      <th>3</th>\n",
              "      <td>237</td>\n",
              "      <td>683</td>\n",
              "      <td>1</td>\n",
              "    </tr>\n",
              "    <tr>\n",
              "      <th>4</th>\n",
              "      <td>151</td>\n",
              "      <td>231</td>\n",
              "      <td>0</td>\n",
              "    </tr>\n",
              "  </tbody>\n",
              "</table>\n",
              "</div>"
            ],
            "text/plain": [
              "   First_pokemon  Second_pokemon  Winner\n",
              "0            266             298       1\n",
              "1            702             701       1\n",
              "2            191             668       1\n",
              "3            237             683       1\n",
              "4            151             231       0"
            ]
          },
          "metadata": {
            "tags": []
          },
          "execution_count": 22
        }
      ]
    },
    {
      "cell_type": "markdown",
      "metadata": {
        "id": "Ak_NHDtOZSZr"
      },
      "source": [
        "### 分割數據集\n",
        "將數據集分為3個部份分別為：\n",
        "\n",
        "- 訓練集\n",
        "- 驗證集\n",
        "- 測試集"
      ]
    },
    {
      "cell_type": "code",
      "metadata": {
        "id": "vzdI-fYQZSZs"
      },
      "source": [
        "data_num = combats_df.shape[0]\n",
        "# 取得一筆與data數量相同的亂數索引，主要目的是用於打散資料\n",
        "indexes = np.random.permutation(data_num)\n",
        "# 並將亂數索引值分為Train、validation和test分為，這裡劃分比例為6:2:2\n",
        "train_indexes = indexes[:int(data_num *0.6)]\n",
        "val_indexes = indexes[int(data_num *0.6):int(data_num *0.8)]\n",
        "test_indexes = indexes[int(data_num *0.8):]\n",
        "# 透過上方的索引值從對戰數據中提取資料\n",
        "train_data = combats_df.loc[train_indexes]\n",
        "val_data = combats_df.loc[val_indexes]\n",
        "test_data = combats_df.loc[test_indexes]"
      ],
      "execution_count": 23,
      "outputs": []
    },
    {
      "cell_type": "markdown",
      "metadata": {
        "id": "XidhZ5HBZSZx"
      },
      "source": [
        "### Normalization 標準化"
      ]
    },
    {
      "cell_type": "markdown",
      "metadata": {
        "id": "vT_5MLBjZSZy"
      },
      "source": [
        "將數值表示的屬性除以19(因為加上empty共有19種屬性)，讓數值縮放置0~1之間。"
      ]
    },
    {
      "cell_type": "code",
      "metadata": {
        "id": "XSMkqqxqZSZz"
      },
      "source": [
        "pokemon_df['Type 1'] = pokemon_df['Type 1'] / 19\n",
        "pokemon_df['Type 2'] = pokemon_df['Type 2'] / 19\n"
      ],
      "execution_count": 24,
      "outputs": []
    },
    {
      "cell_type": "markdown",
      "metadata": {
        "id": "_Wpy-EgXZSZ4"
      },
      "source": [
        "使用Standard Score將生命值、攻擊力和防禦力等數值標準化。"
      ]
    },
    {
      "cell_type": "code",
      "metadata": {
        "scrolled": true,
        "id": "J2vSPfhZZSaA",
        "outputId": "076ab37a-ad89-4815-93e4-23222c3d275a",
        "colab": {
          "base_uri": "https://localhost:8080/",
          "height": 255
        }
      },
      "source": [
        "mean = pokemon_df.loc[:, 'HP':'Generation'].mean()  # 計算平均值\n",
        "std = pokemon_df.loc[:, 'HP':'Generation'].std()  # 計算標準差\n",
        "# 標準化數據\n",
        "pokemon_df.loc[:,'HP':'Generation'] = (pokemon_df.loc[:,'HP':'Generation']-mean)/std\n",
        "pokemon_df.head()"
      ],
      "execution_count": 25,
      "outputs": [
        {
          "output_type": "execute_result",
          "data": {
            "text/html": [
              "<div>\n",
              "<style scoped>\n",
              "    .dataframe tbody tr th:only-of-type {\n",
              "        vertical-align: middle;\n",
              "    }\n",
              "\n",
              "    .dataframe tbody tr th {\n",
              "        vertical-align: top;\n",
              "    }\n",
              "\n",
              "    .dataframe thead th {\n",
              "        text-align: right;\n",
              "    }\n",
              "</style>\n",
              "<table border=\"1\" class=\"dataframe\">\n",
              "  <thead>\n",
              "    <tr style=\"text-align: right;\">\n",
              "      <th></th>\n",
              "      <th>Type 1</th>\n",
              "      <th>Type 2</th>\n",
              "      <th>HP</th>\n",
              "      <th>Attack</th>\n",
              "      <th>Defense</th>\n",
              "      <th>Sp. Atk</th>\n",
              "      <th>Sp. Def</th>\n",
              "      <th>Speed</th>\n",
              "      <th>Generation</th>\n",
              "      <th>Legendary</th>\n",
              "      <th>Bug</th>\n",
              "      <th>Dark</th>\n",
              "      <th>Dragon</th>\n",
              "      <th>Electric</th>\n",
              "      <th>Fairy</th>\n",
              "      <th>Fighting</th>\n",
              "      <th>Fire</th>\n",
              "      <th>Flying</th>\n",
              "      <th>Ghost</th>\n",
              "      <th>Grass</th>\n",
              "      <th>Ground</th>\n",
              "      <th>Ice</th>\n",
              "      <th>Normal</th>\n",
              "      <th>Poison</th>\n",
              "      <th>Psychic</th>\n",
              "      <th>Rock</th>\n",
              "      <th>Steel</th>\n",
              "      <th>Water</th>\n",
              "      <th>empty</th>\n",
              "    </tr>\n",
              "    <tr>\n",
              "      <th>#</th>\n",
              "      <th></th>\n",
              "      <th></th>\n",
              "      <th></th>\n",
              "      <th></th>\n",
              "      <th></th>\n",
              "      <th></th>\n",
              "      <th></th>\n",
              "      <th></th>\n",
              "      <th></th>\n",
              "      <th></th>\n",
              "      <th></th>\n",
              "      <th></th>\n",
              "      <th></th>\n",
              "      <th></th>\n",
              "      <th></th>\n",
              "      <th></th>\n",
              "      <th></th>\n",
              "      <th></th>\n",
              "      <th></th>\n",
              "      <th></th>\n",
              "      <th></th>\n",
              "      <th></th>\n",
              "      <th></th>\n",
              "      <th></th>\n",
              "      <th></th>\n",
              "      <th></th>\n",
              "      <th></th>\n",
              "      <th></th>\n",
              "      <th></th>\n",
              "    </tr>\n",
              "  </thead>\n",
              "  <tbody>\n",
              "    <tr>\n",
              "      <th>1</th>\n",
              "      <td>0.473684</td>\n",
              "      <td>0.684211</td>\n",
              "      <td>-0.950032</td>\n",
              "      <td>-0.924328</td>\n",
              "      <td>-0.796655</td>\n",
              "      <td>-0.238981</td>\n",
              "      <td>-0.248033</td>\n",
              "      <td>-0.801002</td>\n",
              "      <td>-1.398762</td>\n",
              "      <td>0</td>\n",
              "      <td>0</td>\n",
              "      <td>0</td>\n",
              "      <td>0</td>\n",
              "      <td>0</td>\n",
              "      <td>0</td>\n",
              "      <td>0</td>\n",
              "      <td>0</td>\n",
              "      <td>0</td>\n",
              "      <td>0</td>\n",
              "      <td>1</td>\n",
              "      <td>0</td>\n",
              "      <td>0</td>\n",
              "      <td>0</td>\n",
              "      <td>1</td>\n",
              "      <td>0</td>\n",
              "      <td>0</td>\n",
              "      <td>0</td>\n",
              "      <td>0</td>\n",
              "      <td>0</td>\n",
              "    </tr>\n",
              "    <tr>\n",
              "      <th>2</th>\n",
              "      <td>0.473684</td>\n",
              "      <td>0.684211</td>\n",
              "      <td>-0.362595</td>\n",
              "      <td>-0.523803</td>\n",
              "      <td>-0.347700</td>\n",
              "      <td>0.219422</td>\n",
              "      <td>0.290974</td>\n",
              "      <td>-0.284837</td>\n",
              "      <td>-1.398762</td>\n",
              "      <td>0</td>\n",
              "      <td>0</td>\n",
              "      <td>0</td>\n",
              "      <td>0</td>\n",
              "      <td>0</td>\n",
              "      <td>0</td>\n",
              "      <td>0</td>\n",
              "      <td>0</td>\n",
              "      <td>0</td>\n",
              "      <td>0</td>\n",
              "      <td>1</td>\n",
              "      <td>0</td>\n",
              "      <td>0</td>\n",
              "      <td>0</td>\n",
              "      <td>1</td>\n",
              "      <td>0</td>\n",
              "      <td>0</td>\n",
              "      <td>0</td>\n",
              "      <td>0</td>\n",
              "      <td>0</td>\n",
              "    </tr>\n",
              "    <tr>\n",
              "      <th>3</th>\n",
              "      <td>0.473684</td>\n",
              "      <td>0.684211</td>\n",
              "      <td>0.420654</td>\n",
              "      <td>0.092390</td>\n",
              "      <td>0.293665</td>\n",
              "      <td>0.830626</td>\n",
              "      <td>1.009651</td>\n",
              "      <td>0.403383</td>\n",
              "      <td>-1.398762</td>\n",
              "      <td>0</td>\n",
              "      <td>0</td>\n",
              "      <td>0</td>\n",
              "      <td>0</td>\n",
              "      <td>0</td>\n",
              "      <td>0</td>\n",
              "      <td>0</td>\n",
              "      <td>0</td>\n",
              "      <td>0</td>\n",
              "      <td>0</td>\n",
              "      <td>1</td>\n",
              "      <td>0</td>\n",
              "      <td>0</td>\n",
              "      <td>0</td>\n",
              "      <td>1</td>\n",
              "      <td>0</td>\n",
              "      <td>0</td>\n",
              "      <td>0</td>\n",
              "      <td>0</td>\n",
              "      <td>0</td>\n",
              "    </tr>\n",
              "    <tr>\n",
              "      <th>4</th>\n",
              "      <td>0.473684</td>\n",
              "      <td>0.684211</td>\n",
              "      <td>0.420654</td>\n",
              "      <td>0.646964</td>\n",
              "      <td>1.576395</td>\n",
              "      <td>1.502951</td>\n",
              "      <td>1.728328</td>\n",
              "      <td>0.403383</td>\n",
              "      <td>-1.398762</td>\n",
              "      <td>0</td>\n",
              "      <td>0</td>\n",
              "      <td>0</td>\n",
              "      <td>0</td>\n",
              "      <td>0</td>\n",
              "      <td>0</td>\n",
              "      <td>0</td>\n",
              "      <td>0</td>\n",
              "      <td>0</td>\n",
              "      <td>0</td>\n",
              "      <td>1</td>\n",
              "      <td>0</td>\n",
              "      <td>0</td>\n",
              "      <td>0</td>\n",
              "      <td>1</td>\n",
              "      <td>0</td>\n",
              "      <td>0</td>\n",
              "      <td>0</td>\n",
              "      <td>0</td>\n",
              "      <td>0</td>\n",
              "    </tr>\n",
              "    <tr>\n",
              "      <th>5</th>\n",
              "      <td>0.315789</td>\n",
              "      <td>0.947368</td>\n",
              "      <td>-1.185007</td>\n",
              "      <td>-0.831899</td>\n",
              "      <td>-0.989065</td>\n",
              "      <td>-0.391782</td>\n",
              "      <td>-0.787041</td>\n",
              "      <td>-0.112782</td>\n",
              "      <td>-1.398762</td>\n",
              "      <td>0</td>\n",
              "      <td>0</td>\n",
              "      <td>0</td>\n",
              "      <td>0</td>\n",
              "      <td>0</td>\n",
              "      <td>0</td>\n",
              "      <td>0</td>\n",
              "      <td>1</td>\n",
              "      <td>0</td>\n",
              "      <td>0</td>\n",
              "      <td>0</td>\n",
              "      <td>0</td>\n",
              "      <td>0</td>\n",
              "      <td>0</td>\n",
              "      <td>0</td>\n",
              "      <td>0</td>\n",
              "      <td>0</td>\n",
              "      <td>0</td>\n",
              "      <td>0</td>\n",
              "      <td>1</td>\n",
              "    </tr>\n",
              "  </tbody>\n",
              "</table>\n",
              "</div>"
            ],
            "text/plain": [
              "     Type 1    Type 2        HP    Attack   Defense   Sp. Atk   Sp. Def  \\\n",
              "#                                                                         \n",
              "1  0.473684  0.684211 -0.950032 -0.924328 -0.796655 -0.238981 -0.248033   \n",
              "2  0.473684  0.684211 -0.362595 -0.523803 -0.347700  0.219422  0.290974   \n",
              "3  0.473684  0.684211  0.420654  0.092390  0.293665  0.830626  1.009651   \n",
              "4  0.473684  0.684211  0.420654  0.646964  1.576395  1.502951  1.728328   \n",
              "5  0.315789  0.947368 -1.185007 -0.831899 -0.989065 -0.391782 -0.787041   \n",
              "\n",
              "      Speed  Generation  Legendary  Bug  Dark  Dragon  Electric  Fairy  \\\n",
              "#                                                                        \n",
              "1 -0.801002   -1.398762          0    0     0       0         0      0   \n",
              "2 -0.284837   -1.398762          0    0     0       0         0      0   \n",
              "3  0.403383   -1.398762          0    0     0       0         0      0   \n",
              "4  0.403383   -1.398762          0    0     0       0         0      0   \n",
              "5 -0.112782   -1.398762          0    0     0       0         0      0   \n",
              "\n",
              "   Fighting  Fire  Flying  Ghost  Grass  Ground  Ice  Normal  Poison  Psychic  \\\n",
              "#                                                                               \n",
              "1         0     0       0      0      1       0    0       0       1        0   \n",
              "2         0     0       0      0      1       0    0       0       1        0   \n",
              "3         0     0       0      0      1       0    0       0       1        0   \n",
              "4         0     0       0      0      1       0    0       0       1        0   \n",
              "5         0     1       0      0      0       0    0       0       0        0   \n",
              "\n",
              "   Rock  Steel  Water  empty  \n",
              "#                             \n",
              "1     0      0      0      0  \n",
              "2     0      0      0      0  \n",
              "3     0      0      0      0  \n",
              "4     0      0      0      0  \n",
              "5     0      0      0      1  "
            ]
          },
          "metadata": {
            "tags": []
          },
          "execution_count": 25
        }
      ]
    },
    {
      "cell_type": "markdown",
      "metadata": {
        "id": "ACPi_5AVZSaG"
      },
      "source": [
        "### 建立Numpy array格式的訓練數據"
      ]
    },
    {
      "cell_type": "markdown",
      "metadata": {
        "id": "5euCzNYOZSaH"
      },
      "source": [
        "準備對戰數據中每個寶可夢對應能力值的索引。"
      ]
    },
    {
      "cell_type": "code",
      "metadata": {
        "id": "yZO1ELl6ZSaI",
        "outputId": "c3fcb8a9-54ec-4477-8434-3c75e1b9d809",
        "colab": {
          "base_uri": "https://localhost:8080/",
          "height": 143
        }
      },
      "source": [
        "x_train_index = np.array(train_data.drop('Winner', axis='columns'))\n",
        "x_val_index = np.array(val_data.drop('Winner', axis='columns'))\n",
        "x_test_index = np.array(test_data.drop('Winner', axis='columns'))\n",
        "print(x_train_index)"
      ],
      "execution_count": 26,
      "outputs": [
        {
          "output_type": "stream",
          "text": [
            "[[ 37 170]\n",
            " [696  36]\n",
            " [ 51 741]\n",
            " ...\n",
            " [348 193]\n",
            " [285 695]\n",
            " [767 789]]\n"
          ],
          "name": "stdout"
        }
      ]
    },
    {
      "cell_type": "markdown",
      "metadata": {
        "id": "4wLFkzuJZSaQ"
      },
      "source": [
        "準備訓練目標"
      ]
    },
    {
      "cell_type": "code",
      "metadata": {
        "id": "8DaAkvtWZSaQ"
      },
      "source": [
        "y_train = np.array(train_data['Winner'])\n",
        "y_val = np.array(val_data['Winner'])\n",
        "y_test = np.array(test_data['Winner'])"
      ],
      "execution_count": 27,
      "outputs": []
    },
    {
      "cell_type": "markdown",
      "metadata": {
        "id": "41M9wljbZSaV"
      },
      "source": [
        "準備兩種輸入數據：\n",
        "\n",
        "第一種：寶可夢的屬性為數值表示。"
      ]
    },
    {
      "cell_type": "code",
      "metadata": {
        "id": "zmuqMGhRZSaW",
        "outputId": "588dffc0-26ba-45f0-ddec-1a3bd347256b",
        "colab": {
          "base_uri": "https://localhost:8080/",
          "height": 53
        }
      },
      "source": [
        "# 取得寶可夢的能力值\n",
        "pokemon_data_normal = np.array(pokemon_df.loc[:, :'Legendary'])\n",
        "print(pokemon_data_normal.shape)\n",
        "# 透過前面準備的索引產生輸入數據\n",
        "x_train_normal = pokemon_data_normal[x_train_index -1].reshape((-1, 20))\n",
        "x_val_normal = pokemon_data_normal[x_val_index -1].reshape((-1, 20))\n",
        "x_test_normal = pokemon_data_normal[x_test_index -1].reshape((-1, 20))\n",
        "print(x_train_normal.shape)"
      ],
      "execution_count": 28,
      "outputs": [
        {
          "output_type": "stream",
          "text": [
            "(800, 10)\n",
            "(30000, 20)\n"
          ],
          "name": "stdout"
        }
      ]
    },
    {
      "cell_type": "markdown",
      "metadata": {
        "id": "UJY_qh_xZSac"
      },
      "source": [
        "第二種：寶可夢的屬性為One-hot encoding表示。"
      ]
    },
    {
      "cell_type": "code",
      "metadata": {
        "id": "lRWDIpmSZSad",
        "outputId": "3a4ab754-e30e-44c5-a3ed-332bce7a293a",
        "colab": {
          "base_uri": "https://localhost:8080/",
          "height": 53
        }
      },
      "source": [
        "# 取得寶可夢的能力值\n",
        "pokemon_data_one_hot = np.array(pokemon_df.loc[:, 'HP':])\n",
        "print(pokemon_data_one_hot.shape)\n",
        "# 透過前面準備的索引產生輸入數據\n",
        "x_train_one_hot = pokemon_data_one_hot[x_train_index -1].reshape((-1, 54))\n",
        "x_val_one_hot = pokemon_data_one_hot[x_val_index -1].reshape((-1, 54))\n",
        "x_test_one_hot = pokemon_data_one_hot[x_test_index -1].reshape((-1, 54))\n",
        "print(x_train_one_hot.shape)"
      ],
      "execution_count": 29,
      "outputs": [
        {
          "output_type": "stream",
          "text": [
            "(800, 27)\n",
            "(30000, 54)\n"
          ],
          "name": "stdout"
        }
      ]
    },
    {
      "cell_type": "markdown",
      "metadata": {
        "id": "kYhv-X3gZSai"
      },
      "source": [
        "### 使用數值編碼訓練網路（Model 1）"
      ]
    },
    {
      "cell_type": "code",
      "metadata": {
        "id": "2FPZlHEyZSaj",
        "outputId": "dc71dcc5-b43a-4cab-9103-fb57ab7083aa",
        "colab": {
          "base_uri": "https://localhost:8080/",
          "height": 521
        }
      },
      "source": [
        "inputs = keras.Input(shape=(20, ))  # 建立輸入層\n",
        "# 加入全層全連接層，每一層輸出使用ReLU激活函數，並加上Dropout(每次丟棄30%)\n",
        "x = layers.Dense(64, activation='relu')(inputs)\n",
        "x = layers.Dropout(0.3)(x)\n",
        "x = layers.Dense(128, activation='relu')(x)\n",
        "x = layers.Dropout(0.3)(x)\n",
        "x = layers.Dense(64, activation='relu')(x)\n",
        "x = layers.Dropout(0.3)(x)\n",
        "x = layers.Dense(32, activation='relu')(x)\n",
        "x = layers.Dropout(0.3)(x)\n",
        "# 最後一層全連接層，輸出維度類別數量，並且使用sigmoid激活函數\n",
        "# outputs = layers.Dense(1, activation='sigmoid')(x)\n",
        "outputs = layers.Dense(1)(x)\n",
        "\n",
        "\n",
        "# 建立網路模型(將輸入到輸出所有經過的網路層連接起來)\n",
        "model_1 = keras.Model(inputs, outputs, name='model-1')\n",
        "model_1.summary()  # 顯示網路架構"
      ],
      "execution_count": 30,
      "outputs": [
        {
          "output_type": "stream",
          "text": [
            "Model: \"model-1\"\n",
            "_________________________________________________________________\n",
            "Layer (type)                 Output Shape              Param #   \n",
            "=================================================================\n",
            "input_1 (InputLayer)         [(None, 20)]              0         \n",
            "_________________________________________________________________\n",
            "dense (Dense)                (None, 64)                1344      \n",
            "_________________________________________________________________\n",
            "dropout (Dropout)            (None, 64)                0         \n",
            "_________________________________________________________________\n",
            "dense_1 (Dense)              (None, 128)               8320      \n",
            "_________________________________________________________________\n",
            "dropout_1 (Dropout)          (None, 128)               0         \n",
            "_________________________________________________________________\n",
            "dense_2 (Dense)              (None, 64)                8256      \n",
            "_________________________________________________________________\n",
            "dropout_2 (Dropout)          (None, 64)                0         \n",
            "_________________________________________________________________\n",
            "dense_3 (Dense)              (None, 32)                2080      \n",
            "_________________________________________________________________\n",
            "dropout_3 (Dropout)          (None, 32)                0         \n",
            "_________________________________________________________________\n",
            "dense_4 (Dense)              (None, 1)                 33        \n",
            "=================================================================\n",
            "Total params: 20,033\n",
            "Trainable params: 20,033\n",
            "Non-trainable params: 0\n",
            "_________________________________________________________________\n"
          ],
          "name": "stdout"
        }
      ]
    },
    {
      "cell_type": "markdown",
      "metadata": {
        "id": "WUTq72r5ZSas"
      },
      "source": [
        "創建紀錄檔目錄"
      ]
    },
    {
      "cell_type": "code",
      "metadata": {
        "id": "qlPpA_VyZSat"
      },
      "source": [
        "model_dir = '/app/lab3-logs/models'  # 設定儲存權重目錄\n",
        "os.makedirs(model_dir)  # 創建儲存權重目錄"
      ],
      "execution_count": 31,
      "outputs": []
    },
    {
      "cell_type": "markdown",
      "metadata": {
        "id": "3IS8EBBqZSay"
      },
      "source": [
        "建立Callback function："
      ]
    },
    {
      "cell_type": "code",
      "metadata": {
        "id": "RbYrMqeuZSaz"
      },
      "source": [
        "# 儲存訓練記錄檔\n",
        "log_dir = os.path.join('/app/lab3-logs', 'model-1')\n",
        "model_cbk = keras.callbacks.TensorBoard(log_dir=log_dir)\n",
        "# 儲存最好的網路模型權重\n",
        "model_mckp = keras.callbacks.ModelCheckpoint(model_dir + '/Best-model-1.h5', \n",
        "                                             monitor='val_binary_accuracy', \n",
        "                                             save_best_only=True, \n",
        "                                             mode='max')"
      ],
      "execution_count": 32,
      "outputs": []
    },
    {
      "cell_type": "markdown",
      "metadata": {
        "id": "xpBtQHJTZSa6"
      },
      "source": [
        "設定訓練使用的優化器、損失函數和指標函數"
      ]
    },
    {
      "cell_type": "code",
      "metadata": {
        "id": "76GVpuELZSa7"
      },
      "source": [
        "model_1.compile(keras.optimizers.Adam(),\n",
        "               # loss=keras.losses.BinaryCrossentropy(), \n",
        "               loss=keras.losses.BinaryCrossentropy(from_logits=True), \n",
        "               metrics=[keras.metrics.BinaryAccuracy()])"
      ],
      "execution_count": 33,
      "outputs": []
    },
    {
      "cell_type": "markdown",
      "metadata": {
        "id": "hZT8Sg7NZSbA"
      },
      "source": [
        "訓練網路模型"
      ]
    },
    {
      "cell_type": "code",
      "metadata": {
        "scrolled": true,
        "id": "-sca379vZSbB",
        "outputId": "7ee828b1-3698-4d7a-a7be-e27e130d995b",
        "colab": {
          "base_uri": "https://localhost:8080/",
          "height": 1000
        }
      },
      "source": [
        "history_1 = model_1.fit(x_train_normal, y_train, \n",
        "                batch_size=64 ,\n",
        "                epochs=200, \n",
        "                validation_data=(x_val_normal, y_val),\n",
        "                callbacks=[model_cbk, model_mckp])"
      ],
      "execution_count": 34,
      "outputs": [
        {
          "output_type": "stream",
          "text": [
            "Epoch 1/200\n",
            "  1/469 [..............................] - ETA: 0s - loss: 0.7623 - binary_accuracy: 0.4375WARNING:tensorflow:From /usr/local/lib/python3.6/dist-packages/tensorflow/python/ops/summary_ops_v2.py:1277: stop (from tensorflow.python.eager.profiler) is deprecated and will be removed after 2020-07-01.\n",
            "Instructions for updating:\n",
            "use `tf.profiler.experimental.stop` instead.\n",
            "  2/469 [..............................] - ETA: 53s - loss: 0.7175 - binary_accuracy: 0.4453WARNING:tensorflow:Callbacks method `on_train_batch_end` is slow compared to the batch time (batch time: 0.0104s vs `on_train_batch_end` time: 0.2180s). Check your callbacks.\n",
            "469/469 [==============================] - 2s 4ms/step - loss: 0.4278 - binary_accuracy: 0.8122 - val_loss: 0.2999 - val_binary_accuracy: 0.9011\n",
            "Epoch 2/200\n",
            "469/469 [==============================] - 2s 4ms/step - loss: 0.3175 - binary_accuracy: 0.8863 - val_loss: 0.2219 - val_binary_accuracy: 0.9296\n",
            "Epoch 3/200\n",
            "469/469 [==============================] - 2s 4ms/step - loss: 0.2601 - binary_accuracy: 0.9116 - val_loss: 0.1991 - val_binary_accuracy: 0.9300\n",
            "Epoch 4/200\n",
            "469/469 [==============================] - 2s 3ms/step - loss: 0.2372 - binary_accuracy: 0.9192 - val_loss: 0.1876 - val_binary_accuracy: 0.9291\n",
            "Epoch 5/200\n",
            "469/469 [==============================] - 2s 4ms/step - loss: 0.2189 - binary_accuracy: 0.9238 - val_loss: 0.1833 - val_binary_accuracy: 0.9306\n",
            "Epoch 6/200\n",
            "469/469 [==============================] - 2s 4ms/step - loss: 0.2109 - binary_accuracy: 0.9282 - val_loss: 0.1734 - val_binary_accuracy: 0.9392\n",
            "Epoch 7/200\n",
            "469/469 [==============================] - 2s 4ms/step - loss: 0.2034 - binary_accuracy: 0.9315 - val_loss: 0.1741 - val_binary_accuracy: 0.9375\n",
            "Epoch 8/200\n",
            "469/469 [==============================] - 2s 4ms/step - loss: 0.1986 - binary_accuracy: 0.9324 - val_loss: 0.1703 - val_binary_accuracy: 0.9404\n",
            "Epoch 9/200\n",
            "469/469 [==============================] - 2s 4ms/step - loss: 0.1929 - binary_accuracy: 0.9361 - val_loss: 0.1711 - val_binary_accuracy: 0.9385\n",
            "Epoch 10/200\n",
            "469/469 [==============================] - 2s 4ms/step - loss: 0.1929 - binary_accuracy: 0.9354 - val_loss: 0.1678 - val_binary_accuracy: 0.9411\n",
            "Epoch 11/200\n",
            "469/469 [==============================] - 2s 4ms/step - loss: 0.1884 - binary_accuracy: 0.9372 - val_loss: 0.1683 - val_binary_accuracy: 0.9441\n",
            "Epoch 12/200\n",
            "469/469 [==============================] - 2s 3ms/step - loss: 0.1867 - binary_accuracy: 0.9370 - val_loss: 0.1694 - val_binary_accuracy: 0.9436\n",
            "Epoch 13/200\n",
            "469/469 [==============================] - 2s 4ms/step - loss: 0.1833 - binary_accuracy: 0.9385 - val_loss: 0.1684 - val_binary_accuracy: 0.9451\n",
            "Epoch 14/200\n",
            "469/469 [==============================] - 2s 3ms/step - loss: 0.1829 - binary_accuracy: 0.9400 - val_loss: 0.1697 - val_binary_accuracy: 0.9423\n",
            "Epoch 15/200\n",
            "469/469 [==============================] - 2s 3ms/step - loss: 0.1809 - binary_accuracy: 0.9407 - val_loss: 0.1657 - val_binary_accuracy: 0.9469\n",
            "Epoch 16/200\n",
            "469/469 [==============================] - 2s 3ms/step - loss: 0.1796 - binary_accuracy: 0.9400 - val_loss: 0.1626 - val_binary_accuracy: 0.9449\n",
            "Epoch 17/200\n",
            "469/469 [==============================] - 2s 3ms/step - loss: 0.1820 - binary_accuracy: 0.9391 - val_loss: 0.1623 - val_binary_accuracy: 0.9467\n",
            "Epoch 18/200\n",
            "469/469 [==============================] - 2s 4ms/step - loss: 0.1790 - binary_accuracy: 0.9400 - val_loss: 0.1634 - val_binary_accuracy: 0.9475\n",
            "Epoch 19/200\n",
            "469/469 [==============================] - 2s 4ms/step - loss: 0.1799 - binary_accuracy: 0.9408 - val_loss: 0.1678 - val_binary_accuracy: 0.9429\n",
            "Epoch 20/200\n",
            "469/469 [==============================] - 2s 4ms/step - loss: 0.1766 - binary_accuracy: 0.9402 - val_loss: 0.1690 - val_binary_accuracy: 0.9413\n",
            "Epoch 21/200\n",
            "469/469 [==============================] - 2s 4ms/step - loss: 0.1772 - binary_accuracy: 0.9408 - val_loss: 0.1612 - val_binary_accuracy: 0.9490\n",
            "Epoch 22/200\n",
            "469/469 [==============================] - 2s 4ms/step - loss: 0.1767 - binary_accuracy: 0.9405 - val_loss: 0.1669 - val_binary_accuracy: 0.9425\n",
            "Epoch 23/200\n",
            "469/469 [==============================] - 2s 3ms/step - loss: 0.1742 - binary_accuracy: 0.9410 - val_loss: 0.1605 - val_binary_accuracy: 0.9472\n",
            "Epoch 24/200\n",
            "469/469 [==============================] - 2s 3ms/step - loss: 0.1732 - binary_accuracy: 0.9424 - val_loss: 0.1645 - val_binary_accuracy: 0.9444\n",
            "Epoch 25/200\n",
            "469/469 [==============================] - 2s 4ms/step - loss: 0.1710 - binary_accuracy: 0.9437 - val_loss: 0.1608 - val_binary_accuracy: 0.9483\n",
            "Epoch 26/200\n",
            "469/469 [==============================] - 2s 3ms/step - loss: 0.1733 - binary_accuracy: 0.9411 - val_loss: 0.1580 - val_binary_accuracy: 0.9482\n",
            "Epoch 27/200\n",
            "469/469 [==============================] - 2s 3ms/step - loss: 0.1710 - binary_accuracy: 0.9420 - val_loss: 0.1621 - val_binary_accuracy: 0.9435\n",
            "Epoch 28/200\n",
            "469/469 [==============================] - 2s 4ms/step - loss: 0.1682 - binary_accuracy: 0.9435 - val_loss: 0.1589 - val_binary_accuracy: 0.9502\n",
            "Epoch 29/200\n",
            "469/469 [==============================] - 2s 3ms/step - loss: 0.1712 - binary_accuracy: 0.9425 - val_loss: 0.1672 - val_binary_accuracy: 0.9446\n",
            "Epoch 30/200\n",
            "469/469 [==============================] - 2s 4ms/step - loss: 0.1696 - binary_accuracy: 0.9430 - val_loss: 0.1583 - val_binary_accuracy: 0.9479\n",
            "Epoch 31/200\n",
            "469/469 [==============================] - 2s 4ms/step - loss: 0.1685 - binary_accuracy: 0.9443 - val_loss: 0.1613 - val_binary_accuracy: 0.9422\n",
            "Epoch 32/200\n",
            "469/469 [==============================] - 2s 3ms/step - loss: 0.1674 - binary_accuracy: 0.9435 - val_loss: 0.1609 - val_binary_accuracy: 0.9481\n",
            "Epoch 33/200\n",
            "469/469 [==============================] - 2s 3ms/step - loss: 0.1685 - binary_accuracy: 0.9442 - val_loss: 0.1646 - val_binary_accuracy: 0.9412\n",
            "Epoch 34/200\n",
            "469/469 [==============================] - 2s 4ms/step - loss: 0.1666 - binary_accuracy: 0.9437 - val_loss: 0.1614 - val_binary_accuracy: 0.9448\n",
            "Epoch 35/200\n",
            "469/469 [==============================] - 2s 4ms/step - loss: 0.1694 - binary_accuracy: 0.9422 - val_loss: 0.1589 - val_binary_accuracy: 0.9480\n",
            "Epoch 36/200\n",
            "469/469 [==============================] - 2s 4ms/step - loss: 0.1673 - binary_accuracy: 0.9450 - val_loss: 0.1593 - val_binary_accuracy: 0.9491\n",
            "Epoch 37/200\n",
            "469/469 [==============================] - 2s 4ms/step - loss: 0.1665 - binary_accuracy: 0.9439 - val_loss: 0.1626 - val_binary_accuracy: 0.9484\n",
            "Epoch 38/200\n",
            "469/469 [==============================] - 2s 4ms/step - loss: 0.1672 - binary_accuracy: 0.9449 - val_loss: 0.1641 - val_binary_accuracy: 0.9448\n",
            "Epoch 39/200\n",
            "469/469 [==============================] - 2s 4ms/step - loss: 0.1647 - binary_accuracy: 0.9434 - val_loss: 0.1656 - val_binary_accuracy: 0.9416\n",
            "Epoch 40/200\n",
            "469/469 [==============================] - 2s 3ms/step - loss: 0.1644 - binary_accuracy: 0.9437 - val_loss: 0.1613 - val_binary_accuracy: 0.9448\n",
            "Epoch 41/200\n",
            "469/469 [==============================] - 2s 3ms/step - loss: 0.1652 - binary_accuracy: 0.9442 - val_loss: 0.1645 - val_binary_accuracy: 0.9462\n",
            "Epoch 42/200\n",
            "469/469 [==============================] - 2s 3ms/step - loss: 0.1664 - binary_accuracy: 0.9436 - val_loss: 0.1562 - val_binary_accuracy: 0.9502\n",
            "Epoch 43/200\n",
            "469/469 [==============================] - 2s 4ms/step - loss: 0.1651 - binary_accuracy: 0.9441 - val_loss: 0.1607 - val_binary_accuracy: 0.9444\n",
            "Epoch 44/200\n",
            "469/469 [==============================] - 2s 4ms/step - loss: 0.1653 - binary_accuracy: 0.9442 - val_loss: 0.1615 - val_binary_accuracy: 0.9494\n",
            "Epoch 45/200\n",
            "469/469 [==============================] - 2s 4ms/step - loss: 0.1643 - binary_accuracy: 0.9453 - val_loss: 0.1600 - val_binary_accuracy: 0.9489\n",
            "Epoch 46/200\n",
            "469/469 [==============================] - 2s 4ms/step - loss: 0.1649 - binary_accuracy: 0.9441 - val_loss: 0.1561 - val_binary_accuracy: 0.9484\n",
            "Epoch 47/200\n",
            "469/469 [==============================] - 2s 4ms/step - loss: 0.1654 - binary_accuracy: 0.9444 - val_loss: 0.1569 - val_binary_accuracy: 0.9507\n",
            "Epoch 48/200\n",
            "469/469 [==============================] - 2s 3ms/step - loss: 0.1639 - binary_accuracy: 0.9439 - val_loss: 0.1602 - val_binary_accuracy: 0.9457\n",
            "Epoch 49/200\n",
            "469/469 [==============================] - 2s 4ms/step - loss: 0.1611 - binary_accuracy: 0.9450 - val_loss: 0.1647 - val_binary_accuracy: 0.9451\n",
            "Epoch 50/200\n",
            "469/469 [==============================] - 2s 3ms/step - loss: 0.1625 - binary_accuracy: 0.9453 - val_loss: 0.1586 - val_binary_accuracy: 0.9476\n",
            "Epoch 51/200\n",
            "469/469 [==============================] - 2s 4ms/step - loss: 0.1620 - binary_accuracy: 0.9442 - val_loss: 0.1602 - val_binary_accuracy: 0.9460\n",
            "Epoch 52/200\n",
            "469/469 [==============================] - 2s 4ms/step - loss: 0.1634 - binary_accuracy: 0.9454 - val_loss: 0.1595 - val_binary_accuracy: 0.9485\n",
            "Epoch 53/200\n",
            "469/469 [==============================] - 2s 4ms/step - loss: 0.1614 - binary_accuracy: 0.9442 - val_loss: 0.1574 - val_binary_accuracy: 0.9498\n",
            "Epoch 54/200\n",
            "469/469 [==============================] - 2s 4ms/step - loss: 0.1609 - binary_accuracy: 0.9455 - val_loss: 0.1596 - val_binary_accuracy: 0.9478\n",
            "Epoch 55/200\n",
            "469/469 [==============================] - 2s 4ms/step - loss: 0.1615 - binary_accuracy: 0.9446 - val_loss: 0.1612 - val_binary_accuracy: 0.9488\n",
            "Epoch 56/200\n",
            "469/469 [==============================] - 2s 4ms/step - loss: 0.1587 - binary_accuracy: 0.9464 - val_loss: 0.1581 - val_binary_accuracy: 0.9445\n",
            "Epoch 57/200\n",
            "469/469 [==============================] - 2s 3ms/step - loss: 0.1586 - binary_accuracy: 0.9473 - val_loss: 0.1555 - val_binary_accuracy: 0.9500\n",
            "Epoch 58/200\n",
            "469/469 [==============================] - 2s 4ms/step - loss: 0.1632 - binary_accuracy: 0.9453 - val_loss: 0.1596 - val_binary_accuracy: 0.9451\n",
            "Epoch 59/200\n",
            "469/469 [==============================] - 2s 3ms/step - loss: 0.1587 - binary_accuracy: 0.9463 - val_loss: 0.1588 - val_binary_accuracy: 0.9476\n",
            "Epoch 60/200\n",
            "469/469 [==============================] - 2s 4ms/step - loss: 0.1589 - binary_accuracy: 0.9459 - val_loss: 0.1590 - val_binary_accuracy: 0.9454\n",
            "Epoch 61/200\n",
            "469/469 [==============================] - 2s 4ms/step - loss: 0.1589 - binary_accuracy: 0.9461 - val_loss: 0.1675 - val_binary_accuracy: 0.9416\n",
            "Epoch 62/200\n",
            "469/469 [==============================] - 2s 3ms/step - loss: 0.1613 - binary_accuracy: 0.9456 - val_loss: 0.1598 - val_binary_accuracy: 0.9491\n",
            "Epoch 63/200\n",
            "469/469 [==============================] - 2s 3ms/step - loss: 0.1569 - binary_accuracy: 0.9472 - val_loss: 0.1569 - val_binary_accuracy: 0.9473\n",
            "Epoch 64/200\n",
            "469/469 [==============================] - 2s 3ms/step - loss: 0.1586 - binary_accuracy: 0.9471 - val_loss: 0.1570 - val_binary_accuracy: 0.9480\n",
            "Epoch 65/200\n",
            "469/469 [==============================] - 2s 4ms/step - loss: 0.1594 - binary_accuracy: 0.9461 - val_loss: 0.1566 - val_binary_accuracy: 0.9489\n",
            "Epoch 66/200\n",
            "469/469 [==============================] - 2s 4ms/step - loss: 0.1596 - binary_accuracy: 0.9450 - val_loss: 0.1570 - val_binary_accuracy: 0.9472\n",
            "Epoch 67/200\n",
            "469/469 [==============================] - 2s 3ms/step - loss: 0.1581 - binary_accuracy: 0.9454 - val_loss: 0.1600 - val_binary_accuracy: 0.9499\n",
            "Epoch 68/200\n",
            "469/469 [==============================] - 2s 3ms/step - loss: 0.1567 - binary_accuracy: 0.9477 - val_loss: 0.1559 - val_binary_accuracy: 0.9497\n",
            "Epoch 69/200\n",
            "469/469 [==============================] - 2s 4ms/step - loss: 0.1586 - binary_accuracy: 0.9467 - val_loss: 0.1578 - val_binary_accuracy: 0.9495\n",
            "Epoch 70/200\n",
            "469/469 [==============================] - 2s 3ms/step - loss: 0.1569 - binary_accuracy: 0.9472 - val_loss: 0.1642 - val_binary_accuracy: 0.9455\n",
            "Epoch 71/200\n",
            "469/469 [==============================] - 2s 3ms/step - loss: 0.1554 - binary_accuracy: 0.9469 - val_loss: 0.1606 - val_binary_accuracy: 0.9479\n",
            "Epoch 72/200\n",
            "469/469 [==============================] - 2s 3ms/step - loss: 0.1570 - binary_accuracy: 0.9465 - val_loss: 0.1599 - val_binary_accuracy: 0.9446\n",
            "Epoch 73/200\n",
            "469/469 [==============================] - 2s 4ms/step - loss: 0.1569 - binary_accuracy: 0.9483 - val_loss: 0.1565 - val_binary_accuracy: 0.9495\n",
            "Epoch 74/200\n",
            "469/469 [==============================] - 2s 4ms/step - loss: 0.1574 - binary_accuracy: 0.9474 - val_loss: 0.1559 - val_binary_accuracy: 0.9504\n",
            "Epoch 75/200\n",
            "469/469 [==============================] - 2s 4ms/step - loss: 0.1597 - binary_accuracy: 0.9464 - val_loss: 0.1621 - val_binary_accuracy: 0.9453\n",
            "Epoch 76/200\n",
            "469/469 [==============================] - 2s 3ms/step - loss: 0.1573 - binary_accuracy: 0.9467 - val_loss: 0.1568 - val_binary_accuracy: 0.9496\n",
            "Epoch 77/200\n",
            "469/469 [==============================] - 2s 4ms/step - loss: 0.1563 - binary_accuracy: 0.9467 - val_loss: 0.1603 - val_binary_accuracy: 0.9474\n",
            "Epoch 78/200\n",
            "469/469 [==============================] - 2s 4ms/step - loss: 0.1559 - binary_accuracy: 0.9466 - val_loss: 0.1587 - val_binary_accuracy: 0.9500\n",
            "Epoch 79/200\n",
            "469/469 [==============================] - 2s 4ms/step - loss: 0.1555 - binary_accuracy: 0.9479 - val_loss: 0.1599 - val_binary_accuracy: 0.9507\n",
            "Epoch 80/200\n",
            "469/469 [==============================] - 2s 4ms/step - loss: 0.1538 - binary_accuracy: 0.9480 - val_loss: 0.1625 - val_binary_accuracy: 0.9468\n",
            "Epoch 81/200\n",
            "469/469 [==============================] - 2s 3ms/step - loss: 0.1541 - binary_accuracy: 0.9454 - val_loss: 0.1604 - val_binary_accuracy: 0.9472\n",
            "Epoch 82/200\n",
            "469/469 [==============================] - 2s 3ms/step - loss: 0.1555 - binary_accuracy: 0.9471 - val_loss: 0.1605 - val_binary_accuracy: 0.9441\n",
            "Epoch 83/200\n",
            "469/469 [==============================] - 2s 4ms/step - loss: 0.1570 - binary_accuracy: 0.9470 - val_loss: 0.1641 - val_binary_accuracy: 0.9426\n",
            "Epoch 84/200\n",
            "469/469 [==============================] - 2s 4ms/step - loss: 0.1526 - binary_accuracy: 0.9478 - val_loss: 0.1569 - val_binary_accuracy: 0.9481\n",
            "Epoch 85/200\n",
            "469/469 [==============================] - 2s 4ms/step - loss: 0.1561 - binary_accuracy: 0.9469 - val_loss: 0.1618 - val_binary_accuracy: 0.9466\n",
            "Epoch 86/200\n",
            "469/469 [==============================] - 2s 4ms/step - loss: 0.1557 - binary_accuracy: 0.9463 - val_loss: 0.1589 - val_binary_accuracy: 0.9478\n",
            "Epoch 87/200\n",
            "469/469 [==============================] - 2s 4ms/step - loss: 0.1539 - binary_accuracy: 0.9485 - val_loss: 0.1538 - val_binary_accuracy: 0.9497\n",
            "Epoch 88/200\n",
            "469/469 [==============================] - 2s 4ms/step - loss: 0.1515 - binary_accuracy: 0.9494 - val_loss: 0.1559 - val_binary_accuracy: 0.9482\n",
            "Epoch 89/200\n",
            "469/469 [==============================] - 2s 4ms/step - loss: 0.1551 - binary_accuracy: 0.9465 - val_loss: 0.1590 - val_binary_accuracy: 0.9453\n",
            "Epoch 90/200\n",
            "469/469 [==============================] - 2s 5ms/step - loss: 0.1543 - binary_accuracy: 0.9464 - val_loss: 0.1547 - val_binary_accuracy: 0.9510\n",
            "Epoch 91/200\n",
            "469/469 [==============================] - 2s 4ms/step - loss: 0.1536 - binary_accuracy: 0.9474 - val_loss: 0.1556 - val_binary_accuracy: 0.9509\n",
            "Epoch 92/200\n",
            "469/469 [==============================] - 2s 4ms/step - loss: 0.1534 - binary_accuracy: 0.9481 - val_loss: 0.1567 - val_binary_accuracy: 0.9487\n",
            "Epoch 93/200\n",
            "469/469 [==============================] - 2s 4ms/step - loss: 0.1555 - binary_accuracy: 0.9467 - val_loss: 0.1570 - val_binary_accuracy: 0.9465\n",
            "Epoch 94/200\n",
            "469/469 [==============================] - 2s 4ms/step - loss: 0.1524 - binary_accuracy: 0.9479 - val_loss: 0.1586 - val_binary_accuracy: 0.9481\n",
            "Epoch 95/200\n",
            "469/469 [==============================] - 2s 4ms/step - loss: 0.1523 - binary_accuracy: 0.9486 - val_loss: 0.1576 - val_binary_accuracy: 0.9503\n",
            "Epoch 96/200\n",
            "469/469 [==============================] - 2s 4ms/step - loss: 0.1509 - binary_accuracy: 0.9471 - val_loss: 0.1550 - val_binary_accuracy: 0.9472\n",
            "Epoch 97/200\n",
            "469/469 [==============================] - 2s 4ms/step - loss: 0.1533 - binary_accuracy: 0.9466 - val_loss: 0.1552 - val_binary_accuracy: 0.9498\n",
            "Epoch 98/200\n",
            "469/469 [==============================] - 2s 4ms/step - loss: 0.1538 - binary_accuracy: 0.9475 - val_loss: 0.1599 - val_binary_accuracy: 0.9479\n",
            "Epoch 99/200\n",
            "469/469 [==============================] - 2s 4ms/step - loss: 0.1508 - binary_accuracy: 0.9484 - val_loss: 0.1582 - val_binary_accuracy: 0.9495\n",
            "Epoch 100/200\n",
            "469/469 [==============================] - 2s 4ms/step - loss: 0.1511 - binary_accuracy: 0.9479 - val_loss: 0.1546 - val_binary_accuracy: 0.9501\n",
            "Epoch 101/200\n",
            "469/469 [==============================] - 2s 4ms/step - loss: 0.1493 - binary_accuracy: 0.9485 - val_loss: 0.1538 - val_binary_accuracy: 0.9517\n",
            "Epoch 102/200\n",
            "469/469 [==============================] - 2s 3ms/step - loss: 0.1521 - binary_accuracy: 0.9481 - val_loss: 0.1585 - val_binary_accuracy: 0.9456\n",
            "Epoch 103/200\n",
            "469/469 [==============================] - 2s 3ms/step - loss: 0.1546 - binary_accuracy: 0.9462 - val_loss: 0.1547 - val_binary_accuracy: 0.9491\n",
            "Epoch 104/200\n",
            "469/469 [==============================] - 2s 4ms/step - loss: 0.1498 - binary_accuracy: 0.9481 - val_loss: 0.1593 - val_binary_accuracy: 0.9485\n",
            "Epoch 105/200\n",
            "469/469 [==============================] - 2s 3ms/step - loss: 0.1503 - binary_accuracy: 0.9479 - val_loss: 0.1568 - val_binary_accuracy: 0.9498\n",
            "Epoch 106/200\n",
            "469/469 [==============================] - 2s 4ms/step - loss: 0.1527 - binary_accuracy: 0.9477 - val_loss: 0.1608 - val_binary_accuracy: 0.9460\n",
            "Epoch 107/200\n",
            "469/469 [==============================] - 2s 3ms/step - loss: 0.1509 - binary_accuracy: 0.9480 - val_loss: 0.1581 - val_binary_accuracy: 0.9481\n",
            "Epoch 108/200\n",
            "469/469 [==============================] - 2s 4ms/step - loss: 0.1494 - binary_accuracy: 0.9488 - val_loss: 0.1574 - val_binary_accuracy: 0.9470\n",
            "Epoch 109/200\n",
            "469/469 [==============================] - 2s 4ms/step - loss: 0.1512 - binary_accuracy: 0.9473 - val_loss: 0.1582 - val_binary_accuracy: 0.9473\n",
            "Epoch 110/200\n",
            "469/469 [==============================] - 2s 3ms/step - loss: 0.1490 - binary_accuracy: 0.9482 - val_loss: 0.1541 - val_binary_accuracy: 0.9488\n",
            "Epoch 111/200\n",
            "469/469 [==============================] - 2s 3ms/step - loss: 0.1484 - binary_accuracy: 0.9482 - val_loss: 0.1560 - val_binary_accuracy: 0.9461\n",
            "Epoch 112/200\n",
            "469/469 [==============================] - 2s 4ms/step - loss: 0.1524 - binary_accuracy: 0.9473 - val_loss: 0.1562 - val_binary_accuracy: 0.9486\n",
            "Epoch 113/200\n",
            "469/469 [==============================] - 2s 3ms/step - loss: 0.1496 - binary_accuracy: 0.9478 - val_loss: 0.1569 - val_binary_accuracy: 0.9498\n",
            "Epoch 114/200\n",
            "469/469 [==============================] - 2s 4ms/step - loss: 0.1500 - binary_accuracy: 0.9491 - val_loss: 0.1559 - val_binary_accuracy: 0.9498\n",
            "Epoch 115/200\n",
            "469/469 [==============================] - 2s 4ms/step - loss: 0.1504 - binary_accuracy: 0.9479 - val_loss: 0.1578 - val_binary_accuracy: 0.9458\n",
            "Epoch 116/200\n",
            "469/469 [==============================] - 2s 3ms/step - loss: 0.1491 - binary_accuracy: 0.9493 - val_loss: 0.1569 - val_binary_accuracy: 0.9496\n",
            "Epoch 117/200\n",
            "469/469 [==============================] - 2s 3ms/step - loss: 0.1464 - binary_accuracy: 0.9487 - val_loss: 0.1616 - val_binary_accuracy: 0.9458\n",
            "Epoch 118/200\n",
            "469/469 [==============================] - 2s 4ms/step - loss: 0.1489 - binary_accuracy: 0.9481 - val_loss: 0.1573 - val_binary_accuracy: 0.9461\n",
            "Epoch 119/200\n",
            "469/469 [==============================] - 2s 3ms/step - loss: 0.1518 - binary_accuracy: 0.9469 - val_loss: 0.1546 - val_binary_accuracy: 0.9500\n",
            "Epoch 120/200\n",
            "469/469 [==============================] - 2s 3ms/step - loss: 0.1502 - binary_accuracy: 0.9479 - val_loss: 0.1576 - val_binary_accuracy: 0.9487\n",
            "Epoch 121/200\n",
            "469/469 [==============================] - 2s 3ms/step - loss: 0.1486 - binary_accuracy: 0.9483 - val_loss: 0.1750 - val_binary_accuracy: 0.9377\n",
            "Epoch 122/200\n",
            "469/469 [==============================] - 2s 3ms/step - loss: 0.1494 - binary_accuracy: 0.9489 - val_loss: 0.1574 - val_binary_accuracy: 0.9485\n",
            "Epoch 123/200\n",
            "469/469 [==============================] - 2s 4ms/step - loss: 0.1482 - binary_accuracy: 0.9490 - val_loss: 0.1564 - val_binary_accuracy: 0.9496\n",
            "Epoch 124/200\n",
            "469/469 [==============================] - 2s 4ms/step - loss: 0.1481 - binary_accuracy: 0.9477 - val_loss: 0.1588 - val_binary_accuracy: 0.9507\n",
            "Epoch 125/200\n",
            "469/469 [==============================] - 2s 3ms/step - loss: 0.1510 - binary_accuracy: 0.9484 - val_loss: 0.1529 - val_binary_accuracy: 0.9510\n",
            "Epoch 126/200\n",
            "469/469 [==============================] - 2s 3ms/step - loss: 0.1498 - binary_accuracy: 0.9487 - val_loss: 0.1604 - val_binary_accuracy: 0.9488\n",
            "Epoch 127/200\n",
            "469/469 [==============================] - 2s 4ms/step - loss: 0.1475 - binary_accuracy: 0.9492 - val_loss: 0.1570 - val_binary_accuracy: 0.9483\n",
            "Epoch 128/200\n",
            "469/469 [==============================] - 2s 4ms/step - loss: 0.1500 - binary_accuracy: 0.9480 - val_loss: 0.1582 - val_binary_accuracy: 0.9479\n",
            "Epoch 129/200\n",
            "469/469 [==============================] - 2s 4ms/step - loss: 0.1495 - binary_accuracy: 0.9487 - val_loss: 0.1538 - val_binary_accuracy: 0.9502\n",
            "Epoch 130/200\n",
            "469/469 [==============================] - 2s 4ms/step - loss: 0.1474 - binary_accuracy: 0.9501 - val_loss: 0.1569 - val_binary_accuracy: 0.9495\n",
            "Epoch 131/200\n",
            "469/469 [==============================] - 2s 4ms/step - loss: 0.1499 - binary_accuracy: 0.9486 - val_loss: 0.1550 - val_binary_accuracy: 0.9483\n",
            "Epoch 132/200\n",
            "469/469 [==============================] - 2s 4ms/step - loss: 0.1493 - binary_accuracy: 0.9485 - val_loss: 0.1580 - val_binary_accuracy: 0.9462\n",
            "Epoch 133/200\n",
            "469/469 [==============================] - 2s 4ms/step - loss: 0.1476 - binary_accuracy: 0.9493 - val_loss: 0.1555 - val_binary_accuracy: 0.9488\n",
            "Epoch 134/200\n",
            "469/469 [==============================] - 2s 4ms/step - loss: 0.1482 - binary_accuracy: 0.9491 - val_loss: 0.1531 - val_binary_accuracy: 0.9505\n",
            "Epoch 135/200\n",
            "469/469 [==============================] - 2s 4ms/step - loss: 0.1482 - binary_accuracy: 0.9484 - val_loss: 0.1566 - val_binary_accuracy: 0.9497\n",
            "Epoch 136/200\n",
            "469/469 [==============================] - 2s 4ms/step - loss: 0.1510 - binary_accuracy: 0.9487 - val_loss: 0.1567 - val_binary_accuracy: 0.9478\n",
            "Epoch 137/200\n",
            "469/469 [==============================] - 2s 4ms/step - loss: 0.1434 - binary_accuracy: 0.9502 - val_loss: 0.1584 - val_binary_accuracy: 0.9490\n",
            "Epoch 138/200\n",
            "469/469 [==============================] - 2s 4ms/step - loss: 0.1493 - binary_accuracy: 0.9483 - val_loss: 0.1562 - val_binary_accuracy: 0.9496\n",
            "Epoch 139/200\n",
            "469/469 [==============================] - 2s 4ms/step - loss: 0.1464 - binary_accuracy: 0.9502 - val_loss: 0.1548 - val_binary_accuracy: 0.9487\n",
            "Epoch 140/200\n",
            "469/469 [==============================] - 2s 4ms/step - loss: 0.1492 - binary_accuracy: 0.9487 - val_loss: 0.1570 - val_binary_accuracy: 0.9462\n",
            "Epoch 141/200\n",
            "469/469 [==============================] - 2s 3ms/step - loss: 0.1473 - binary_accuracy: 0.9491 - val_loss: 0.1592 - val_binary_accuracy: 0.9455\n",
            "Epoch 142/200\n",
            "469/469 [==============================] - 2s 4ms/step - loss: 0.1477 - binary_accuracy: 0.9489 - val_loss: 0.1531 - val_binary_accuracy: 0.9505\n",
            "Epoch 143/200\n",
            "469/469 [==============================] - 2s 4ms/step - loss: 0.1460 - binary_accuracy: 0.9498 - val_loss: 0.1568 - val_binary_accuracy: 0.9485\n",
            "Epoch 144/200\n",
            "469/469 [==============================] - 2s 4ms/step - loss: 0.1472 - binary_accuracy: 0.9501 - val_loss: 0.1573 - val_binary_accuracy: 0.9491\n",
            "Epoch 145/200\n",
            "469/469 [==============================] - 2s 4ms/step - loss: 0.1470 - binary_accuracy: 0.9490 - val_loss: 0.1578 - val_binary_accuracy: 0.9483\n",
            "Epoch 146/200\n",
            "469/469 [==============================] - 2s 4ms/step - loss: 0.1461 - binary_accuracy: 0.9491 - val_loss: 0.1539 - val_binary_accuracy: 0.9516\n",
            "Epoch 147/200\n",
            "469/469 [==============================] - 2s 4ms/step - loss: 0.1484 - binary_accuracy: 0.9500 - val_loss: 0.1531 - val_binary_accuracy: 0.9496\n",
            "Epoch 148/200\n",
            "469/469 [==============================] - 2s 4ms/step - loss: 0.1459 - binary_accuracy: 0.9483 - val_loss: 0.1571 - val_binary_accuracy: 0.9492\n",
            "Epoch 149/200\n",
            "469/469 [==============================] - 2s 4ms/step - loss: 0.1462 - binary_accuracy: 0.9496 - val_loss: 0.1579 - val_binary_accuracy: 0.9449\n",
            "Epoch 150/200\n",
            "469/469 [==============================] - 2s 4ms/step - loss: 0.1484 - binary_accuracy: 0.9483 - val_loss: 0.1538 - val_binary_accuracy: 0.9505\n",
            "Epoch 151/200\n",
            "469/469 [==============================] - 2s 4ms/step - loss: 0.1504 - binary_accuracy: 0.9479 - val_loss: 0.1544 - val_binary_accuracy: 0.9510\n",
            "Epoch 152/200\n",
            "469/469 [==============================] - 2s 4ms/step - loss: 0.1444 - binary_accuracy: 0.9514 - val_loss: 0.1601 - val_binary_accuracy: 0.9431\n",
            "Epoch 153/200\n",
            "469/469 [==============================] - 2s 4ms/step - loss: 0.1476 - binary_accuracy: 0.9493 - val_loss: 0.1573 - val_binary_accuracy: 0.9464\n",
            "Epoch 154/200\n",
            "469/469 [==============================] - 2s 4ms/step - loss: 0.1479 - binary_accuracy: 0.9495 - val_loss: 0.1557 - val_binary_accuracy: 0.9504\n",
            "Epoch 155/200\n",
            "469/469 [==============================] - 2s 4ms/step - loss: 0.1441 - binary_accuracy: 0.9506 - val_loss: 0.1602 - val_binary_accuracy: 0.9458\n",
            "Epoch 156/200\n",
            "469/469 [==============================] - 2s 4ms/step - loss: 0.1480 - binary_accuracy: 0.9490 - val_loss: 0.1547 - val_binary_accuracy: 0.9494\n",
            "Epoch 157/200\n",
            "469/469 [==============================] - 2s 4ms/step - loss: 0.1450 - binary_accuracy: 0.9496 - val_loss: 0.1559 - val_binary_accuracy: 0.9478\n",
            "Epoch 158/200\n",
            "469/469 [==============================] - 2s 4ms/step - loss: 0.1474 - binary_accuracy: 0.9484 - val_loss: 0.1580 - val_binary_accuracy: 0.9466\n",
            "Epoch 159/200\n",
            "469/469 [==============================] - 2s 4ms/step - loss: 0.1456 - binary_accuracy: 0.9484 - val_loss: 0.1559 - val_binary_accuracy: 0.9486\n",
            "Epoch 160/200\n",
            "469/469 [==============================] - 2s 4ms/step - loss: 0.1463 - binary_accuracy: 0.9510 - val_loss: 0.1576 - val_binary_accuracy: 0.9500\n",
            "Epoch 161/200\n",
            "469/469 [==============================] - 2s 4ms/step - loss: 0.1450 - binary_accuracy: 0.9491 - val_loss: 0.1540 - val_binary_accuracy: 0.9505\n",
            "Epoch 162/200\n",
            "469/469 [==============================] - 2s 4ms/step - loss: 0.1450 - binary_accuracy: 0.9503 - val_loss: 0.1649 - val_binary_accuracy: 0.9460\n",
            "Epoch 163/200\n",
            "469/469 [==============================] - 2s 4ms/step - loss: 0.1495 - binary_accuracy: 0.9475 - val_loss: 0.1546 - val_binary_accuracy: 0.9505\n",
            "Epoch 164/200\n",
            "469/469 [==============================] - 2s 4ms/step - loss: 0.1414 - binary_accuracy: 0.9517 - val_loss: 0.1525 - val_binary_accuracy: 0.9498\n",
            "Epoch 165/200\n",
            "469/469 [==============================] - 2s 3ms/step - loss: 0.1459 - binary_accuracy: 0.9483 - val_loss: 0.1560 - val_binary_accuracy: 0.9467\n",
            "Epoch 166/200\n",
            "469/469 [==============================] - 2s 3ms/step - loss: 0.1437 - binary_accuracy: 0.9495 - val_loss: 0.1568 - val_binary_accuracy: 0.9480\n",
            "Epoch 167/200\n",
            "469/469 [==============================] - 2s 4ms/step - loss: 0.1435 - binary_accuracy: 0.9505 - val_loss: 0.1556 - val_binary_accuracy: 0.9495\n",
            "Epoch 168/200\n",
            "469/469 [==============================] - 2s 4ms/step - loss: 0.1456 - binary_accuracy: 0.9501 - val_loss: 0.1587 - val_binary_accuracy: 0.9487\n",
            "Epoch 169/200\n",
            "469/469 [==============================] - 2s 4ms/step - loss: 0.1456 - binary_accuracy: 0.9501 - val_loss: 0.1524 - val_binary_accuracy: 0.9508\n",
            "Epoch 170/200\n",
            "469/469 [==============================] - 2s 3ms/step - loss: 0.1452 - binary_accuracy: 0.9511 - val_loss: 0.1518 - val_binary_accuracy: 0.9505\n",
            "Epoch 171/200\n",
            "469/469 [==============================] - 2s 4ms/step - loss: 0.1438 - binary_accuracy: 0.9497 - val_loss: 0.1518 - val_binary_accuracy: 0.9510\n",
            "Epoch 172/200\n",
            "469/469 [==============================] - 2s 4ms/step - loss: 0.1421 - binary_accuracy: 0.9508 - val_loss: 0.1558 - val_binary_accuracy: 0.9488\n",
            "Epoch 173/200\n",
            "469/469 [==============================] - 2s 3ms/step - loss: 0.1448 - binary_accuracy: 0.9493 - val_loss: 0.1551 - val_binary_accuracy: 0.9500\n",
            "Epoch 174/200\n",
            "469/469 [==============================] - 2s 4ms/step - loss: 0.1434 - binary_accuracy: 0.9499 - val_loss: 0.1569 - val_binary_accuracy: 0.9495\n",
            "Epoch 175/200\n",
            "469/469 [==============================] - 2s 4ms/step - loss: 0.1427 - binary_accuracy: 0.9493 - val_loss: 0.1589 - val_binary_accuracy: 0.9473\n",
            "Epoch 176/200\n",
            "469/469 [==============================] - 2s 4ms/step - loss: 0.1465 - binary_accuracy: 0.9486 - val_loss: 0.1555 - val_binary_accuracy: 0.9498\n",
            "Epoch 177/200\n",
            "469/469 [==============================] - 2s 4ms/step - loss: 0.1438 - binary_accuracy: 0.9492 - val_loss: 0.1567 - val_binary_accuracy: 0.9489\n",
            "Epoch 178/200\n",
            "469/469 [==============================] - 2s 4ms/step - loss: 0.1434 - binary_accuracy: 0.9507 - val_loss: 0.1543 - val_binary_accuracy: 0.9487\n",
            "Epoch 179/200\n",
            "469/469 [==============================] - 2s 4ms/step - loss: 0.1434 - binary_accuracy: 0.9492 - val_loss: 0.1564 - val_binary_accuracy: 0.9489\n",
            "Epoch 180/200\n",
            "469/469 [==============================] - 2s 4ms/step - loss: 0.1476 - binary_accuracy: 0.9494 - val_loss: 0.1611 - val_binary_accuracy: 0.9470\n",
            "Epoch 181/200\n",
            "469/469 [==============================] - 2s 4ms/step - loss: 0.1431 - binary_accuracy: 0.9497 - val_loss: 0.1553 - val_binary_accuracy: 0.9497\n",
            "Epoch 182/200\n",
            "469/469 [==============================] - 2s 4ms/step - loss: 0.1460 - binary_accuracy: 0.9504 - val_loss: 0.1542 - val_binary_accuracy: 0.9498\n",
            "Epoch 183/200\n",
            "469/469 [==============================] - 2s 4ms/step - loss: 0.1427 - binary_accuracy: 0.9512 - val_loss: 0.1593 - val_binary_accuracy: 0.9497\n",
            "Epoch 184/200\n",
            "469/469 [==============================] - 2s 4ms/step - loss: 0.1484 - binary_accuracy: 0.9491 - val_loss: 0.1554 - val_binary_accuracy: 0.9498\n",
            "Epoch 185/200\n",
            "469/469 [==============================] - 2s 4ms/step - loss: 0.1447 - binary_accuracy: 0.9502 - val_loss: 0.1546 - val_binary_accuracy: 0.9499\n",
            "Epoch 186/200\n",
            "469/469 [==============================] - 2s 4ms/step - loss: 0.1431 - binary_accuracy: 0.9495 - val_loss: 0.1555 - val_binary_accuracy: 0.9467\n",
            "Epoch 187/200\n",
            "469/469 [==============================] - 2s 4ms/step - loss: 0.1459 - binary_accuracy: 0.9502 - val_loss: 0.1572 - val_binary_accuracy: 0.9483\n",
            "Epoch 188/200\n",
            "469/469 [==============================] - 2s 4ms/step - loss: 0.1450 - binary_accuracy: 0.9503 - val_loss: 0.1554 - val_binary_accuracy: 0.9476\n",
            "Epoch 189/200\n",
            "469/469 [==============================] - 2s 4ms/step - loss: 0.1438 - binary_accuracy: 0.9503 - val_loss: 0.1609 - val_binary_accuracy: 0.9438\n",
            "Epoch 190/200\n",
            "469/469 [==============================] - 2s 4ms/step - loss: 0.1444 - binary_accuracy: 0.9480 - val_loss: 0.1526 - val_binary_accuracy: 0.9499\n",
            "Epoch 191/200\n",
            "469/469 [==============================] - 2s 4ms/step - loss: 0.1421 - binary_accuracy: 0.9504 - val_loss: 0.1553 - val_binary_accuracy: 0.9504\n",
            "Epoch 192/200\n",
            "469/469 [==============================] - 2s 4ms/step - loss: 0.1445 - binary_accuracy: 0.9505 - val_loss: 0.1563 - val_binary_accuracy: 0.9497\n",
            "Epoch 193/200\n",
            "469/469 [==============================] - 2s 4ms/step - loss: 0.1428 - binary_accuracy: 0.9503 - val_loss: 0.1611 - val_binary_accuracy: 0.9463\n",
            "Epoch 194/200\n",
            "469/469 [==============================] - 2s 4ms/step - loss: 0.1440 - binary_accuracy: 0.9492 - val_loss: 0.1559 - val_binary_accuracy: 0.9498\n",
            "Epoch 195/200\n",
            "469/469 [==============================] - 2s 3ms/step - loss: 0.1410 - binary_accuracy: 0.9518 - val_loss: 0.1597 - val_binary_accuracy: 0.9479\n",
            "Epoch 196/200\n",
            "469/469 [==============================] - 2s 4ms/step - loss: 0.1433 - binary_accuracy: 0.9511 - val_loss: 0.1574 - val_binary_accuracy: 0.9509\n",
            "Epoch 197/200\n",
            "469/469 [==============================] - 2s 4ms/step - loss: 0.1455 - binary_accuracy: 0.9485 - val_loss: 0.1596 - val_binary_accuracy: 0.9458\n",
            "Epoch 198/200\n",
            "469/469 [==============================] - 2s 4ms/step - loss: 0.1429 - binary_accuracy: 0.9499 - val_loss: 0.1572 - val_binary_accuracy: 0.9507\n",
            "Epoch 199/200\n",
            "469/469 [==============================] - 2s 4ms/step - loss: 0.1402 - binary_accuracy: 0.9517 - val_loss: 0.1540 - val_binary_accuracy: 0.9492\n",
            "Epoch 200/200\n",
            "469/469 [==============================] - 2s 4ms/step - loss: 0.1443 - binary_accuracy: 0.9503 - val_loss: 0.1571 - val_binary_accuracy: 0.9489\n"
          ],
          "name": "stdout"
        }
      ]
    },
    {
      "cell_type": "markdown",
      "metadata": {
        "id": "gAUCm_AdZSbM"
      },
      "source": [
        "### 使用One-hot編碼訓練網路（Model 2）"
      ]
    },
    {
      "cell_type": "code",
      "metadata": {
        "id": "bA5bxRcnZSbN",
        "outputId": "6b6a34d9-6834-4bf8-cfd8-421bfab33cf7",
        "colab": {
          "base_uri": "https://localhost:8080/",
          "height": 521
        }
      },
      "source": [
        "inputs = keras.Input(shape=(54, ))  # 建立輸入層\n",
        "# 加入全層全連接層，每一層輸出使用ReLU激活函數，並加上Dropout(每次丟棄30%)\n",
        "x = layers.Dense(64, activation='relu')(inputs)\n",
        "x = layers.Dropout(0.3)(x)\n",
        "x = layers.Dense(128, activation='relu')(x)\n",
        "x = layers.Dropout(0.3)(x)\n",
        "x = layers.Dense(64, activation='relu')(x)\n",
        "x = layers.Dropout(0.3)(x)\n",
        "x = layers.Dense(32, activation='relu')(x)\n",
        "x = layers.Dropout(0.3)(x)\n",
        "# 最後一層全連接層，輸出維度為類別數量，並且使用sigmoid激活函數\n",
        "outputs = layers.Dense(1)(x)\n",
        "# outputs = layers.Dense(1, activation='sigmoid')(x)\n",
        "\n",
        "# 建立網路模型(將輸入到輸出所有經過的網路層連接起來)\n",
        "model_2 = keras.Model(inputs, outputs, name='model-2')\n",
        "model_2.summary()  # 顯示網路架構"
      ],
      "execution_count": 35,
      "outputs": [
        {
          "output_type": "stream",
          "text": [
            "Model: \"model-2\"\n",
            "_________________________________________________________________\n",
            "Layer (type)                 Output Shape              Param #   \n",
            "=================================================================\n",
            "input_2 (InputLayer)         [(None, 54)]              0         \n",
            "_________________________________________________________________\n",
            "dense_5 (Dense)              (None, 64)                3520      \n",
            "_________________________________________________________________\n",
            "dropout_4 (Dropout)          (None, 64)                0         \n",
            "_________________________________________________________________\n",
            "dense_6 (Dense)              (None, 128)               8320      \n",
            "_________________________________________________________________\n",
            "dropout_5 (Dropout)          (None, 128)               0         \n",
            "_________________________________________________________________\n",
            "dense_7 (Dense)              (None, 64)                8256      \n",
            "_________________________________________________________________\n",
            "dropout_6 (Dropout)          (None, 64)                0         \n",
            "_________________________________________________________________\n",
            "dense_8 (Dense)              (None, 32)                2080      \n",
            "_________________________________________________________________\n",
            "dropout_7 (Dropout)          (None, 32)                0         \n",
            "_________________________________________________________________\n",
            "dense_9 (Dense)              (None, 1)                 33        \n",
            "=================================================================\n",
            "Total params: 22,209\n",
            "Trainable params: 22,209\n",
            "Non-trainable params: 0\n",
            "_________________________________________________________________\n"
          ],
          "name": "stdout"
        }
      ]
    },
    {
      "cell_type": "markdown",
      "metadata": {
        "id": "Apxz3FG4ZSbW"
      },
      "source": [
        "建立Callback function："
      ]
    },
    {
      "cell_type": "code",
      "metadata": {
        "id": "sr2ieegoZSbX"
      },
      "source": [
        "# 儲存訓練記錄檔\n",
        "log_dir = os.path.join('/app/lab3-logs', 'model-2')\n",
        "model_cbk = keras.callbacks.TensorBoard(log_dir=log_dir)\n",
        "# 儲存最好的網路模型權重\n",
        "model_mckp = keras.callbacks.ModelCheckpoint(model_dir + '/Best-model-2.h5', \n",
        "                                         monitor='val_binary_accuracy', \n",
        "                                         save_best_only=True, \n",
        "                                         mode='max')"
      ],
      "execution_count": 36,
      "outputs": []
    },
    {
      "cell_type": "markdown",
      "metadata": {
        "id": "YYIAvtG4ZSbc"
      },
      "source": [
        "設定訓練使用的優化器、損失函數和指標函數"
      ]
    },
    {
      "cell_type": "code",
      "metadata": {
        "id": "BFpBxja-ZSbc"
      },
      "source": [
        "model_2.compile(keras.optimizers.Adam(), \n",
        "               # loss=keras.losses.BinaryCrossentropy(), \n",
        "               loss=keras.losses.BinaryCrossentropy(from_logits=True), \n",
        "               metrics=[keras.metrics.BinaryAccuracy()])"
      ],
      "execution_count": 37,
      "outputs": []
    },
    {
      "cell_type": "markdown",
      "metadata": {
        "id": "fQlh26NGZSbh"
      },
      "source": [
        "訓練網路模型"
      ]
    },
    {
      "cell_type": "code",
      "metadata": {
        "scrolled": true,
        "id": "H15FuQXVZSbi",
        "outputId": "802f0cd1-2a7a-4df1-ff85-0ac4d8c2ec69",
        "colab": {
          "base_uri": "https://localhost:8080/",
          "height": 1000
        }
      },
      "source": [
        "history_2 = model_2.fit(x_train_one_hot, y_train, \n",
        "                    batch_size=64 ,\n",
        "                    epochs=200, \n",
        "                    validation_data=(x_val_one_hot, y_val), \n",
        "                    callbacks=[model_cbk, model_mckp])"
      ],
      "execution_count": 38,
      "outputs": [
        {
          "output_type": "stream",
          "text": [
            "Epoch 1/200\n",
            "  2/469 [..............................] - ETA: 24s - loss: 0.7623 - binary_accuracy: 0.4922WARNING:tensorflow:Callbacks method `on_train_batch_end` is slow compared to the batch time (batch time: 0.0064s vs `on_train_batch_end` time: 0.0992s). Check your callbacks.\n",
            "469/469 [==============================] - 2s 4ms/step - loss: 0.4262 - binary_accuracy: 0.8016 - val_loss: 0.3010 - val_binary_accuracy: 0.8938\n",
            "Epoch 2/200\n",
            "469/469 [==============================] - 2s 4ms/step - loss: 0.3213 - binary_accuracy: 0.8845 - val_loss: 0.2305 - val_binary_accuracy: 0.9220\n",
            "Epoch 3/200\n",
            "469/469 [==============================] - 2s 4ms/step - loss: 0.2680 - binary_accuracy: 0.9029 - val_loss: 0.1969 - val_binary_accuracy: 0.9252\n",
            "Epoch 4/200\n",
            "469/469 [==============================] - 2s 4ms/step - loss: 0.2375 - binary_accuracy: 0.9141 - val_loss: 0.1807 - val_binary_accuracy: 0.9234\n",
            "Epoch 5/200\n",
            "469/469 [==============================] - 2s 4ms/step - loss: 0.2153 - binary_accuracy: 0.9187 - val_loss: 0.1642 - val_binary_accuracy: 0.9346\n",
            "Epoch 6/200\n",
            "469/469 [==============================] - 2s 3ms/step - loss: 0.1998 - binary_accuracy: 0.9243 - val_loss: 0.1625 - val_binary_accuracy: 0.9333\n",
            "Epoch 7/200\n",
            "469/469 [==============================] - 2s 4ms/step - loss: 0.1906 - binary_accuracy: 0.9279 - val_loss: 0.1487 - val_binary_accuracy: 0.9402\n",
            "Epoch 8/200\n",
            "469/469 [==============================] - 2s 4ms/step - loss: 0.1778 - binary_accuracy: 0.9313 - val_loss: 0.1411 - val_binary_accuracy: 0.9453\n",
            "Epoch 9/200\n",
            "469/469 [==============================] - 2s 4ms/step - loss: 0.1707 - binary_accuracy: 0.9339 - val_loss: 0.1430 - val_binary_accuracy: 0.9470\n",
            "Epoch 10/200\n",
            "469/469 [==============================] - 2s 4ms/step - loss: 0.1638 - binary_accuracy: 0.9360 - val_loss: 0.1403 - val_binary_accuracy: 0.9387\n",
            "Epoch 11/200\n",
            "469/469 [==============================] - 2s 4ms/step - loss: 0.1604 - binary_accuracy: 0.9396 - val_loss: 0.1415 - val_binary_accuracy: 0.9415\n",
            "Epoch 12/200\n",
            "469/469 [==============================] - 2s 4ms/step - loss: 0.1549 - binary_accuracy: 0.9397 - val_loss: 0.1315 - val_binary_accuracy: 0.9472\n",
            "Epoch 13/200\n",
            "469/469 [==============================] - 2s 4ms/step - loss: 0.1482 - binary_accuracy: 0.9402 - val_loss: 0.1281 - val_binary_accuracy: 0.9480\n",
            "Epoch 14/200\n",
            "469/469 [==============================] - 2s 4ms/step - loss: 0.1457 - binary_accuracy: 0.9422 - val_loss: 0.1245 - val_binary_accuracy: 0.9477\n",
            "Epoch 15/200\n",
            "469/469 [==============================] - 2s 4ms/step - loss: 0.1397 - binary_accuracy: 0.9455 - val_loss: 0.1231 - val_binary_accuracy: 0.9464\n",
            "Epoch 16/200\n",
            "469/469 [==============================] - 2s 4ms/step - loss: 0.1392 - binary_accuracy: 0.9438 - val_loss: 0.1193 - val_binary_accuracy: 0.9527\n",
            "Epoch 17/200\n",
            "469/469 [==============================] - 2s 4ms/step - loss: 0.1320 - binary_accuracy: 0.9473 - val_loss: 0.1149 - val_binary_accuracy: 0.9531\n",
            "Epoch 18/200\n",
            "469/469 [==============================] - 2s 4ms/step - loss: 0.1293 - binary_accuracy: 0.9484 - val_loss: 0.1120 - val_binary_accuracy: 0.9546\n",
            "Epoch 19/200\n",
            "469/469 [==============================] - 2s 4ms/step - loss: 0.1271 - binary_accuracy: 0.9491 - val_loss: 0.1139 - val_binary_accuracy: 0.9549\n",
            "Epoch 20/200\n",
            "469/469 [==============================] - 2s 4ms/step - loss: 0.1260 - binary_accuracy: 0.9491 - val_loss: 0.1074 - val_binary_accuracy: 0.9566\n",
            "Epoch 21/200\n",
            "469/469 [==============================] - 2s 4ms/step - loss: 0.1213 - binary_accuracy: 0.9521 - val_loss: 0.1120 - val_binary_accuracy: 0.9581\n",
            "Epoch 22/200\n",
            "469/469 [==============================] - 2s 4ms/step - loss: 0.1200 - binary_accuracy: 0.9529 - val_loss: 0.1063 - val_binary_accuracy: 0.9560\n",
            "Epoch 23/200\n",
            "469/469 [==============================] - 2s 4ms/step - loss: 0.1178 - binary_accuracy: 0.9512 - val_loss: 0.1129 - val_binary_accuracy: 0.9540\n",
            "Epoch 24/200\n",
            "469/469 [==============================] - 2s 3ms/step - loss: 0.1164 - binary_accuracy: 0.9532 - val_loss: 0.1072 - val_binary_accuracy: 0.9552\n",
            "Epoch 25/200\n",
            "469/469 [==============================] - 2s 4ms/step - loss: 0.1160 - binary_accuracy: 0.9525 - val_loss: 0.1025 - val_binary_accuracy: 0.9569\n",
            "Epoch 26/200\n",
            "469/469 [==============================] - 2s 4ms/step - loss: 0.1170 - binary_accuracy: 0.9524 - val_loss: 0.1009 - val_binary_accuracy: 0.9619\n",
            "Epoch 27/200\n",
            "469/469 [==============================] - 2s 4ms/step - loss: 0.1113 - binary_accuracy: 0.9553 - val_loss: 0.1039 - val_binary_accuracy: 0.9569\n",
            "Epoch 28/200\n",
            "469/469 [==============================] - 2s 3ms/step - loss: 0.1099 - binary_accuracy: 0.9546 - val_loss: 0.1027 - val_binary_accuracy: 0.9585\n",
            "Epoch 29/200\n",
            "469/469 [==============================] - 2s 4ms/step - loss: 0.1098 - binary_accuracy: 0.9558 - val_loss: 0.1056 - val_binary_accuracy: 0.9586\n",
            "Epoch 30/200\n",
            "469/469 [==============================] - 2s 4ms/step - loss: 0.1108 - binary_accuracy: 0.9540 - val_loss: 0.1021 - val_binary_accuracy: 0.9597\n",
            "Epoch 31/200\n",
            "469/469 [==============================] - 2s 4ms/step - loss: 0.1052 - binary_accuracy: 0.9561 - val_loss: 0.1000 - val_binary_accuracy: 0.9561\n",
            "Epoch 32/200\n",
            "469/469 [==============================] - 2s 4ms/step - loss: 0.1037 - binary_accuracy: 0.9577 - val_loss: 0.0949 - val_binary_accuracy: 0.9617\n",
            "Epoch 33/200\n",
            "469/469 [==============================] - 2s 4ms/step - loss: 0.1065 - binary_accuracy: 0.9547 - val_loss: 0.1007 - val_binary_accuracy: 0.9608\n",
            "Epoch 34/200\n",
            "469/469 [==============================] - 2s 4ms/step - loss: 0.1007 - binary_accuracy: 0.9590 - val_loss: 0.1012 - val_binary_accuracy: 0.9584\n",
            "Epoch 35/200\n",
            "469/469 [==============================] - 2s 4ms/step - loss: 0.1039 - binary_accuracy: 0.9572 - val_loss: 0.0977 - val_binary_accuracy: 0.9584\n",
            "Epoch 36/200\n",
            "469/469 [==============================] - 2s 4ms/step - loss: 0.1020 - binary_accuracy: 0.9580 - val_loss: 0.1025 - val_binary_accuracy: 0.9608\n",
            "Epoch 37/200\n",
            "469/469 [==============================] - 2s 4ms/step - loss: 0.0996 - binary_accuracy: 0.9597 - val_loss: 0.0951 - val_binary_accuracy: 0.9600\n",
            "Epoch 38/200\n",
            "469/469 [==============================] - 2s 4ms/step - loss: 0.0968 - binary_accuracy: 0.9594 - val_loss: 0.0945 - val_binary_accuracy: 0.9598\n",
            "Epoch 39/200\n",
            "469/469 [==============================] - 2s 4ms/step - loss: 0.0981 - binary_accuracy: 0.9610 - val_loss: 0.1009 - val_binary_accuracy: 0.9602\n",
            "Epoch 40/200\n",
            "469/469 [==============================] - 2s 4ms/step - loss: 0.0963 - binary_accuracy: 0.9604 - val_loss: 0.0979 - val_binary_accuracy: 0.9582\n",
            "Epoch 41/200\n",
            "469/469 [==============================] - 2s 4ms/step - loss: 0.0997 - binary_accuracy: 0.9589 - val_loss: 0.0976 - val_binary_accuracy: 0.9617\n",
            "Epoch 42/200\n",
            "469/469 [==============================] - 2s 3ms/step - loss: 0.0996 - binary_accuracy: 0.9595 - val_loss: 0.0945 - val_binary_accuracy: 0.9614\n",
            "Epoch 43/200\n",
            "469/469 [==============================] - 2s 4ms/step - loss: 0.0952 - binary_accuracy: 0.9596 - val_loss: 0.0998 - val_binary_accuracy: 0.9599\n",
            "Epoch 44/200\n",
            "469/469 [==============================] - 2s 4ms/step - loss: 0.0945 - binary_accuracy: 0.9616 - val_loss: 0.0961 - val_binary_accuracy: 0.9625\n",
            "Epoch 45/200\n",
            "469/469 [==============================] - 2s 4ms/step - loss: 0.0947 - binary_accuracy: 0.9615 - val_loss: 0.0965 - val_binary_accuracy: 0.9612\n",
            "Epoch 46/200\n",
            "469/469 [==============================] - 2s 4ms/step - loss: 0.0954 - binary_accuracy: 0.9614 - val_loss: 0.1001 - val_binary_accuracy: 0.9619\n",
            "Epoch 47/200\n",
            "469/469 [==============================] - 2s 3ms/step - loss: 0.0956 - binary_accuracy: 0.9609 - val_loss: 0.1028 - val_binary_accuracy: 0.9582\n",
            "Epoch 48/200\n",
            "469/469 [==============================] - 2s 3ms/step - loss: 0.0951 - binary_accuracy: 0.9622 - val_loss: 0.0948 - val_binary_accuracy: 0.9613\n",
            "Epoch 49/200\n",
            "469/469 [==============================] - 2s 4ms/step - loss: 0.0948 - binary_accuracy: 0.9619 - val_loss: 0.0957 - val_binary_accuracy: 0.9645\n",
            "Epoch 50/200\n",
            "469/469 [==============================] - 2s 4ms/step - loss: 0.0907 - binary_accuracy: 0.9619 - val_loss: 0.0960 - val_binary_accuracy: 0.9620\n",
            "Epoch 51/200\n",
            "469/469 [==============================] - 2s 4ms/step - loss: 0.0909 - binary_accuracy: 0.9624 - val_loss: 0.0956 - val_binary_accuracy: 0.9630\n",
            "Epoch 52/200\n",
            "469/469 [==============================] - 2s 4ms/step - loss: 0.0934 - binary_accuracy: 0.9623 - val_loss: 0.0933 - val_binary_accuracy: 0.9663\n",
            "Epoch 53/200\n",
            "469/469 [==============================] - 2s 4ms/step - loss: 0.0885 - binary_accuracy: 0.9640 - val_loss: 0.0957 - val_binary_accuracy: 0.9614\n",
            "Epoch 54/200\n",
            "469/469 [==============================] - 2s 4ms/step - loss: 0.0895 - binary_accuracy: 0.9641 - val_loss: 0.0946 - val_binary_accuracy: 0.9621\n",
            "Epoch 55/200\n",
            "469/469 [==============================] - 2s 4ms/step - loss: 0.0913 - binary_accuracy: 0.9627 - val_loss: 0.0939 - val_binary_accuracy: 0.9627\n",
            "Epoch 56/200\n",
            "469/469 [==============================] - 2s 3ms/step - loss: 0.0869 - binary_accuracy: 0.9646 - val_loss: 0.0934 - val_binary_accuracy: 0.9630\n",
            "Epoch 57/200\n",
            "469/469 [==============================] - 2s 4ms/step - loss: 0.0921 - binary_accuracy: 0.9628 - val_loss: 0.0910 - val_binary_accuracy: 0.9634\n",
            "Epoch 58/200\n",
            "469/469 [==============================] - 2s 3ms/step - loss: 0.0895 - binary_accuracy: 0.9621 - val_loss: 0.0986 - val_binary_accuracy: 0.9633\n",
            "Epoch 59/200\n",
            "469/469 [==============================] - 2s 4ms/step - loss: 0.0881 - binary_accuracy: 0.9636 - val_loss: 0.0963 - val_binary_accuracy: 0.9638\n",
            "Epoch 60/200\n",
            "469/469 [==============================] - 2s 4ms/step - loss: 0.0880 - binary_accuracy: 0.9643 - val_loss: 0.0926 - val_binary_accuracy: 0.9656\n",
            "Epoch 61/200\n",
            "469/469 [==============================] - 2s 4ms/step - loss: 0.0869 - binary_accuracy: 0.9649 - val_loss: 0.0951 - val_binary_accuracy: 0.9639\n",
            "Epoch 62/200\n",
            "469/469 [==============================] - 2s 4ms/step - loss: 0.0917 - binary_accuracy: 0.9641 - val_loss: 0.0930 - val_binary_accuracy: 0.9639\n",
            "Epoch 63/200\n",
            "469/469 [==============================] - 2s 4ms/step - loss: 0.0853 - binary_accuracy: 0.9655 - val_loss: 0.0968 - val_binary_accuracy: 0.9609\n",
            "Epoch 64/200\n",
            "469/469 [==============================] - 2s 4ms/step - loss: 0.0868 - binary_accuracy: 0.9648 - val_loss: 0.0918 - val_binary_accuracy: 0.9636\n",
            "Epoch 65/200\n",
            "469/469 [==============================] - 2s 4ms/step - loss: 0.0867 - binary_accuracy: 0.9651 - val_loss: 0.0907 - val_binary_accuracy: 0.9645\n",
            "Epoch 66/200\n",
            "469/469 [==============================] - 2s 3ms/step - loss: 0.0855 - binary_accuracy: 0.9657 - val_loss: 0.0910 - val_binary_accuracy: 0.9644\n",
            "Epoch 67/200\n",
            "469/469 [==============================] - 2s 4ms/step - loss: 0.0867 - binary_accuracy: 0.9651 - val_loss: 0.0923 - val_binary_accuracy: 0.9623\n",
            "Epoch 68/200\n",
            "469/469 [==============================] - 2s 4ms/step - loss: 0.0861 - binary_accuracy: 0.9639 - val_loss: 0.0907 - val_binary_accuracy: 0.9633\n",
            "Epoch 69/200\n",
            "469/469 [==============================] - 2s 4ms/step - loss: 0.0854 - binary_accuracy: 0.9652 - val_loss: 0.0943 - val_binary_accuracy: 0.9646\n",
            "Epoch 70/200\n",
            "469/469 [==============================] - 2s 4ms/step - loss: 0.0858 - binary_accuracy: 0.9657 - val_loss: 0.0909 - val_binary_accuracy: 0.9645\n",
            "Epoch 71/200\n",
            "469/469 [==============================] - 2s 4ms/step - loss: 0.0854 - binary_accuracy: 0.9652 - val_loss: 0.0934 - val_binary_accuracy: 0.9624\n",
            "Epoch 72/200\n",
            "469/469 [==============================] - 2s 4ms/step - loss: 0.0851 - binary_accuracy: 0.9660 - val_loss: 0.0948 - val_binary_accuracy: 0.9626\n",
            "Epoch 73/200\n",
            "469/469 [==============================] - 2s 4ms/step - loss: 0.0852 - binary_accuracy: 0.9659 - val_loss: 0.0916 - val_binary_accuracy: 0.9646\n",
            "Epoch 74/200\n",
            "469/469 [==============================] - 2s 4ms/step - loss: 0.0812 - binary_accuracy: 0.9671 - val_loss: 0.0991 - val_binary_accuracy: 0.9646\n",
            "Epoch 75/200\n",
            "469/469 [==============================] - 2s 4ms/step - loss: 0.0835 - binary_accuracy: 0.9660 - val_loss: 0.0909 - val_binary_accuracy: 0.9628\n",
            "Epoch 76/200\n",
            "469/469 [==============================] - 2s 4ms/step - loss: 0.0852 - binary_accuracy: 0.9657 - val_loss: 0.0956 - val_binary_accuracy: 0.9636\n",
            "Epoch 77/200\n",
            "469/469 [==============================] - 2s 3ms/step - loss: 0.0819 - binary_accuracy: 0.9677 - val_loss: 0.0953 - val_binary_accuracy: 0.9638\n",
            "Epoch 78/200\n",
            "469/469 [==============================] - 2s 3ms/step - loss: 0.0823 - binary_accuracy: 0.9667 - val_loss: 0.0886 - val_binary_accuracy: 0.9660\n",
            "Epoch 79/200\n",
            "469/469 [==============================] - 2s 4ms/step - loss: 0.0802 - binary_accuracy: 0.9677 - val_loss: 0.0898 - val_binary_accuracy: 0.9653\n",
            "Epoch 80/200\n",
            "469/469 [==============================] - 2s 4ms/step - loss: 0.0832 - binary_accuracy: 0.9660 - val_loss: 0.1052 - val_binary_accuracy: 0.9590\n",
            "Epoch 81/200\n",
            "469/469 [==============================] - 2s 4ms/step - loss: 0.0782 - binary_accuracy: 0.9665 - val_loss: 0.0967 - val_binary_accuracy: 0.9625\n",
            "Epoch 82/200\n",
            "469/469 [==============================] - 2s 4ms/step - loss: 0.0852 - binary_accuracy: 0.9651 - val_loss: 0.0921 - val_binary_accuracy: 0.9656\n",
            "Epoch 83/200\n",
            "469/469 [==============================] - 2s 4ms/step - loss: 0.0818 - binary_accuracy: 0.9669 - val_loss: 0.0944 - val_binary_accuracy: 0.9623\n",
            "Epoch 84/200\n",
            "469/469 [==============================] - 2s 4ms/step - loss: 0.0806 - binary_accuracy: 0.9666 - val_loss: 0.0959 - val_binary_accuracy: 0.9626\n",
            "Epoch 85/200\n",
            "469/469 [==============================] - 2s 4ms/step - loss: 0.0818 - binary_accuracy: 0.9669 - val_loss: 0.0900 - val_binary_accuracy: 0.9646\n",
            "Epoch 86/200\n",
            "469/469 [==============================] - 2s 3ms/step - loss: 0.0811 - binary_accuracy: 0.9674 - val_loss: 0.0948 - val_binary_accuracy: 0.9629\n",
            "Epoch 87/200\n",
            "469/469 [==============================] - 2s 3ms/step - loss: 0.0857 - binary_accuracy: 0.9652 - val_loss: 0.0953 - val_binary_accuracy: 0.9632\n",
            "Epoch 88/200\n",
            "469/469 [==============================] - 2s 4ms/step - loss: 0.0797 - binary_accuracy: 0.9676 - val_loss: 0.1013 - val_binary_accuracy: 0.9623\n",
            "Epoch 89/200\n",
            "469/469 [==============================] - 2s 3ms/step - loss: 0.0799 - binary_accuracy: 0.9674 - val_loss: 0.0956 - val_binary_accuracy: 0.9643\n",
            "Epoch 90/200\n",
            "469/469 [==============================] - 2s 3ms/step - loss: 0.0813 - binary_accuracy: 0.9684 - val_loss: 0.0941 - val_binary_accuracy: 0.9641\n",
            "Epoch 91/200\n",
            "469/469 [==============================] - 2s 4ms/step - loss: 0.0799 - binary_accuracy: 0.9679 - val_loss: 0.0949 - val_binary_accuracy: 0.9625\n",
            "Epoch 92/200\n",
            "469/469 [==============================] - 2s 3ms/step - loss: 0.0793 - binary_accuracy: 0.9670 - val_loss: 0.1037 - val_binary_accuracy: 0.9640\n",
            "Epoch 93/200\n",
            "469/469 [==============================] - 2s 4ms/step - loss: 0.0788 - binary_accuracy: 0.9679 - val_loss: 0.0919 - val_binary_accuracy: 0.9669\n",
            "Epoch 94/200\n",
            "469/469 [==============================] - 2s 4ms/step - loss: 0.0785 - binary_accuracy: 0.9683 - val_loss: 0.0949 - val_binary_accuracy: 0.9658\n",
            "Epoch 95/200\n",
            "469/469 [==============================] - 2s 3ms/step - loss: 0.0782 - binary_accuracy: 0.9682 - val_loss: 0.0932 - val_binary_accuracy: 0.9646\n",
            "Epoch 96/200\n",
            "469/469 [==============================] - 2s 3ms/step - loss: 0.0787 - binary_accuracy: 0.9678 - val_loss: 0.0987 - val_binary_accuracy: 0.9642\n",
            "Epoch 97/200\n",
            "469/469 [==============================] - 2s 4ms/step - loss: 0.0794 - binary_accuracy: 0.9681 - val_loss: 0.0985 - val_binary_accuracy: 0.9639\n",
            "Epoch 98/200\n",
            "469/469 [==============================] - 2s 4ms/step - loss: 0.0785 - binary_accuracy: 0.9677 - val_loss: 0.0940 - val_binary_accuracy: 0.9636\n",
            "Epoch 99/200\n",
            "469/469 [==============================] - 2s 4ms/step - loss: 0.0797 - binary_accuracy: 0.9678 - val_loss: 0.0943 - val_binary_accuracy: 0.9639\n",
            "Epoch 100/200\n",
            "469/469 [==============================] - 2s 3ms/step - loss: 0.0790 - binary_accuracy: 0.9674 - val_loss: 0.0905 - val_binary_accuracy: 0.9658\n",
            "Epoch 101/200\n",
            "469/469 [==============================] - 2s 4ms/step - loss: 0.0816 - binary_accuracy: 0.9688 - val_loss: 0.0949 - val_binary_accuracy: 0.9640\n",
            "Epoch 102/200\n",
            "469/469 [==============================] - 2s 4ms/step - loss: 0.0765 - binary_accuracy: 0.9686 - val_loss: 0.0956 - val_binary_accuracy: 0.9638\n",
            "Epoch 103/200\n",
            "469/469 [==============================] - 2s 4ms/step - loss: 0.0774 - binary_accuracy: 0.9680 - val_loss: 0.1028 - val_binary_accuracy: 0.9628\n",
            "Epoch 104/200\n",
            "469/469 [==============================] - 2s 4ms/step - loss: 0.0781 - binary_accuracy: 0.9697 - val_loss: 0.0920 - val_binary_accuracy: 0.9653\n",
            "Epoch 105/200\n",
            "469/469 [==============================] - 2s 4ms/step - loss: 0.0735 - binary_accuracy: 0.9706 - val_loss: 0.0968 - val_binary_accuracy: 0.9618\n",
            "Epoch 106/200\n",
            "469/469 [==============================] - 2s 4ms/step - loss: 0.0775 - binary_accuracy: 0.9689 - val_loss: 0.0933 - val_binary_accuracy: 0.9648\n",
            "Epoch 107/200\n",
            "469/469 [==============================] - 2s 4ms/step - loss: 0.0760 - binary_accuracy: 0.9692 - val_loss: 0.0972 - val_binary_accuracy: 0.9621\n",
            "Epoch 108/200\n",
            "469/469 [==============================] - 2s 3ms/step - loss: 0.0765 - binary_accuracy: 0.9700 - val_loss: 0.0983 - val_binary_accuracy: 0.9628\n",
            "Epoch 109/200\n",
            "469/469 [==============================] - 2s 3ms/step - loss: 0.0770 - binary_accuracy: 0.9689 - val_loss: 0.0951 - val_binary_accuracy: 0.9654\n",
            "Epoch 110/200\n",
            "469/469 [==============================] - 2s 4ms/step - loss: 0.0732 - binary_accuracy: 0.9699 - val_loss: 0.0975 - val_binary_accuracy: 0.9642\n",
            "Epoch 111/200\n",
            "469/469 [==============================] - 2s 4ms/step - loss: 0.0775 - binary_accuracy: 0.9693 - val_loss: 0.0968 - val_binary_accuracy: 0.9647\n",
            "Epoch 112/200\n",
            "469/469 [==============================] - 2s 4ms/step - loss: 0.0750 - binary_accuracy: 0.9697 - val_loss: 0.0915 - val_binary_accuracy: 0.9649\n",
            "Epoch 113/200\n",
            "469/469 [==============================] - 2s 3ms/step - loss: 0.0776 - binary_accuracy: 0.9697 - val_loss: 0.0936 - val_binary_accuracy: 0.9627\n",
            "Epoch 114/200\n",
            "469/469 [==============================] - 2s 3ms/step - loss: 0.0719 - binary_accuracy: 0.9723 - val_loss: 0.0926 - val_binary_accuracy: 0.9647\n",
            "Epoch 115/200\n",
            "469/469 [==============================] - 2s 3ms/step - loss: 0.0739 - binary_accuracy: 0.9698 - val_loss: 0.0964 - val_binary_accuracy: 0.9612\n",
            "Epoch 116/200\n",
            "469/469 [==============================] - 2s 3ms/step - loss: 0.0720 - binary_accuracy: 0.9708 - val_loss: 0.0927 - val_binary_accuracy: 0.9662\n",
            "Epoch 117/200\n",
            "469/469 [==============================] - 2s 4ms/step - loss: 0.0735 - binary_accuracy: 0.9718 - val_loss: 0.0921 - val_binary_accuracy: 0.9653\n",
            "Epoch 118/200\n",
            "469/469 [==============================] - 2s 4ms/step - loss: 0.0751 - binary_accuracy: 0.9708 - val_loss: 0.0944 - val_binary_accuracy: 0.9641\n",
            "Epoch 119/200\n",
            "469/469 [==============================] - 2s 4ms/step - loss: 0.0775 - binary_accuracy: 0.9681 - val_loss: 0.0914 - val_binary_accuracy: 0.9658\n",
            "Epoch 120/200\n",
            "469/469 [==============================] - 2s 3ms/step - loss: 0.0737 - binary_accuracy: 0.9713 - val_loss: 0.0965 - val_binary_accuracy: 0.9659\n",
            "Epoch 121/200\n",
            "469/469 [==============================] - 2s 3ms/step - loss: 0.0728 - binary_accuracy: 0.9702 - val_loss: 0.0906 - val_binary_accuracy: 0.9665\n",
            "Epoch 122/200\n",
            "469/469 [==============================] - 2s 3ms/step - loss: 0.0774 - binary_accuracy: 0.9696 - val_loss: 0.0939 - val_binary_accuracy: 0.9652\n",
            "Epoch 123/200\n",
            "469/469 [==============================] - 2s 4ms/step - loss: 0.0752 - binary_accuracy: 0.9703 - val_loss: 0.0942 - val_binary_accuracy: 0.9672\n",
            "Epoch 124/200\n",
            "469/469 [==============================] - 2s 4ms/step - loss: 0.0740 - binary_accuracy: 0.9693 - val_loss: 0.0939 - val_binary_accuracy: 0.9659\n",
            "Epoch 125/200\n",
            "469/469 [==============================] - 2s 4ms/step - loss: 0.0726 - binary_accuracy: 0.9710 - val_loss: 0.0938 - val_binary_accuracy: 0.9632\n",
            "Epoch 126/200\n",
            "469/469 [==============================] - 2s 4ms/step - loss: 0.0724 - binary_accuracy: 0.9713 - val_loss: 0.0947 - val_binary_accuracy: 0.9645\n",
            "Epoch 127/200\n",
            "469/469 [==============================] - 2s 4ms/step - loss: 0.0710 - binary_accuracy: 0.9720 - val_loss: 0.0965 - val_binary_accuracy: 0.9657\n",
            "Epoch 128/200\n",
            "469/469 [==============================] - 2s 4ms/step - loss: 0.0714 - binary_accuracy: 0.9722 - val_loss: 0.0951 - val_binary_accuracy: 0.9670\n",
            "Epoch 129/200\n",
            "469/469 [==============================] - 2s 4ms/step - loss: 0.0729 - binary_accuracy: 0.9717 - val_loss: 0.0980 - val_binary_accuracy: 0.9648\n",
            "Epoch 130/200\n",
            "469/469 [==============================] - 2s 4ms/step - loss: 0.0732 - binary_accuracy: 0.9712 - val_loss: 0.0946 - val_binary_accuracy: 0.9636\n",
            "Epoch 131/200\n",
            "469/469 [==============================] - 2s 4ms/step - loss: 0.0740 - binary_accuracy: 0.9704 - val_loss: 0.0964 - val_binary_accuracy: 0.9641\n",
            "Epoch 132/200\n",
            "469/469 [==============================] - 2s 4ms/step - loss: 0.0733 - binary_accuracy: 0.9711 - val_loss: 0.0935 - val_binary_accuracy: 0.9666\n",
            "Epoch 133/200\n",
            "469/469 [==============================] - 2s 3ms/step - loss: 0.0727 - binary_accuracy: 0.9709 - val_loss: 0.0970 - val_binary_accuracy: 0.9658\n",
            "Epoch 134/200\n",
            "469/469 [==============================] - 2s 4ms/step - loss: 0.0691 - binary_accuracy: 0.9725 - val_loss: 0.0941 - val_binary_accuracy: 0.9678\n",
            "Epoch 135/200\n",
            "469/469 [==============================] - 2s 4ms/step - loss: 0.0704 - binary_accuracy: 0.9726 - val_loss: 0.0921 - val_binary_accuracy: 0.9646\n",
            "Epoch 136/200\n",
            "469/469 [==============================] - 2s 4ms/step - loss: 0.0721 - binary_accuracy: 0.9719 - val_loss: 0.0961 - val_binary_accuracy: 0.9671\n",
            "Epoch 137/200\n",
            "469/469 [==============================] - 2s 4ms/step - loss: 0.0715 - binary_accuracy: 0.9718 - val_loss: 0.0944 - val_binary_accuracy: 0.9660\n",
            "Epoch 138/200\n",
            "469/469 [==============================] - 2s 4ms/step - loss: 0.0727 - binary_accuracy: 0.9710 - val_loss: 0.0926 - val_binary_accuracy: 0.9640\n",
            "Epoch 139/200\n",
            "469/469 [==============================] - 2s 4ms/step - loss: 0.0716 - binary_accuracy: 0.9723 - val_loss: 0.0953 - val_binary_accuracy: 0.9654\n",
            "Epoch 140/200\n",
            "469/469 [==============================] - 2s 4ms/step - loss: 0.0735 - binary_accuracy: 0.9712 - val_loss: 0.0944 - val_binary_accuracy: 0.9666\n",
            "Epoch 141/200\n",
            "469/469 [==============================] - 2s 4ms/step - loss: 0.0708 - binary_accuracy: 0.9717 - val_loss: 0.0955 - val_binary_accuracy: 0.9644\n",
            "Epoch 142/200\n",
            "469/469 [==============================] - 2s 4ms/step - loss: 0.0719 - binary_accuracy: 0.9705 - val_loss: 0.1032 - val_binary_accuracy: 0.9647\n",
            "Epoch 143/200\n",
            "469/469 [==============================] - 2s 4ms/step - loss: 0.0720 - binary_accuracy: 0.9721 - val_loss: 0.0974 - val_binary_accuracy: 0.9649\n",
            "Epoch 144/200\n",
            "469/469 [==============================] - 2s 4ms/step - loss: 0.0726 - binary_accuracy: 0.9707 - val_loss: 0.0949 - val_binary_accuracy: 0.9667\n",
            "Epoch 145/200\n",
            "469/469 [==============================] - 2s 4ms/step - loss: 0.0703 - binary_accuracy: 0.9713 - val_loss: 0.1014 - val_binary_accuracy: 0.9658\n",
            "Epoch 146/200\n",
            "469/469 [==============================] - 2s 4ms/step - loss: 0.0721 - binary_accuracy: 0.9717 - val_loss: 0.0987 - val_binary_accuracy: 0.9670\n",
            "Epoch 147/200\n",
            "469/469 [==============================] - 2s 4ms/step - loss: 0.0731 - binary_accuracy: 0.9728 - val_loss: 0.0929 - val_binary_accuracy: 0.9658\n",
            "Epoch 148/200\n",
            "469/469 [==============================] - 2s 4ms/step - loss: 0.0722 - binary_accuracy: 0.9712 - val_loss: 0.0981 - val_binary_accuracy: 0.9631\n",
            "Epoch 149/200\n",
            "469/469 [==============================] - 2s 4ms/step - loss: 0.0681 - binary_accuracy: 0.9732 - val_loss: 0.0951 - val_binary_accuracy: 0.9640\n",
            "Epoch 150/200\n",
            "469/469 [==============================] - 2s 4ms/step - loss: 0.0695 - binary_accuracy: 0.9717 - val_loss: 0.0949 - val_binary_accuracy: 0.9662\n",
            "Epoch 151/200\n",
            "469/469 [==============================] - 2s 4ms/step - loss: 0.0704 - binary_accuracy: 0.9713 - val_loss: 0.0949 - val_binary_accuracy: 0.9646\n",
            "Epoch 152/200\n",
            "469/469 [==============================] - 2s 4ms/step - loss: 0.0705 - binary_accuracy: 0.9707 - val_loss: 0.0988 - val_binary_accuracy: 0.9660\n",
            "Epoch 153/200\n",
            "469/469 [==============================] - 2s 4ms/step - loss: 0.0703 - binary_accuracy: 0.9716 - val_loss: 0.0963 - val_binary_accuracy: 0.9642\n",
            "Epoch 154/200\n",
            "469/469 [==============================] - 2s 4ms/step - loss: 0.0680 - binary_accuracy: 0.9726 - val_loss: 0.0954 - val_binary_accuracy: 0.9655\n",
            "Epoch 155/200\n",
            "469/469 [==============================] - 2s 5ms/step - loss: 0.0693 - binary_accuracy: 0.9732 - val_loss: 0.0905 - val_binary_accuracy: 0.9681\n",
            "Epoch 156/200\n",
            "469/469 [==============================] - 2s 4ms/step - loss: 0.0669 - binary_accuracy: 0.9726 - val_loss: 0.1009 - val_binary_accuracy: 0.9641\n",
            "Epoch 157/200\n",
            "469/469 [==============================] - 2s 3ms/step - loss: 0.0699 - binary_accuracy: 0.9722 - val_loss: 0.0965 - val_binary_accuracy: 0.9659\n",
            "Epoch 158/200\n",
            "469/469 [==============================] - 2s 4ms/step - loss: 0.0669 - binary_accuracy: 0.9736 - val_loss: 0.0971 - val_binary_accuracy: 0.9654\n",
            "Epoch 159/200\n",
            "469/469 [==============================] - 2s 4ms/step - loss: 0.0686 - binary_accuracy: 0.9726 - val_loss: 0.0978 - val_binary_accuracy: 0.9664\n",
            "Epoch 160/200\n",
            "469/469 [==============================] - 2s 4ms/step - loss: 0.0695 - binary_accuracy: 0.9721 - val_loss: 0.0957 - val_binary_accuracy: 0.9657\n",
            "Epoch 161/200\n",
            "469/469 [==============================] - 2s 4ms/step - loss: 0.0700 - binary_accuracy: 0.9715 - val_loss: 0.1002 - val_binary_accuracy: 0.9644\n",
            "Epoch 162/200\n",
            "469/469 [==============================] - 2s 4ms/step - loss: 0.0723 - binary_accuracy: 0.9722 - val_loss: 0.0997 - val_binary_accuracy: 0.9645\n",
            "Epoch 163/200\n",
            "469/469 [==============================] - 2s 4ms/step - loss: 0.0688 - binary_accuracy: 0.9723 - val_loss: 0.0998 - val_binary_accuracy: 0.9658\n",
            "Epoch 164/200\n",
            "469/469 [==============================] - 2s 4ms/step - loss: 0.0694 - binary_accuracy: 0.9724 - val_loss: 0.0980 - val_binary_accuracy: 0.9649\n",
            "Epoch 165/200\n",
            "469/469 [==============================] - 2s 3ms/step - loss: 0.0695 - binary_accuracy: 0.9723 - val_loss: 0.0985 - val_binary_accuracy: 0.9655\n",
            "Epoch 166/200\n",
            "469/469 [==============================] - 2s 3ms/step - loss: 0.0688 - binary_accuracy: 0.9728 - val_loss: 0.0979 - val_binary_accuracy: 0.9660\n",
            "Epoch 167/200\n",
            "469/469 [==============================] - 2s 4ms/step - loss: 0.0687 - binary_accuracy: 0.9721 - val_loss: 0.1005 - val_binary_accuracy: 0.9660\n",
            "Epoch 168/200\n",
            "469/469 [==============================] - 2s 4ms/step - loss: 0.0672 - binary_accuracy: 0.9727 - val_loss: 0.1042 - val_binary_accuracy: 0.9636\n",
            "Epoch 169/200\n",
            "469/469 [==============================] - 2s 4ms/step - loss: 0.0678 - binary_accuracy: 0.9727 - val_loss: 0.1074 - val_binary_accuracy: 0.9646\n",
            "Epoch 170/200\n",
            "469/469 [==============================] - 2s 3ms/step - loss: 0.0685 - binary_accuracy: 0.9737 - val_loss: 0.1022 - val_binary_accuracy: 0.9645\n",
            "Epoch 171/200\n",
            "469/469 [==============================] - 2s 4ms/step - loss: 0.0667 - binary_accuracy: 0.9738 - val_loss: 0.1011 - val_binary_accuracy: 0.9645\n",
            "Epoch 172/200\n",
            "469/469 [==============================] - 2s 4ms/step - loss: 0.0694 - binary_accuracy: 0.9736 - val_loss: 0.0983 - val_binary_accuracy: 0.9642\n",
            "Epoch 173/200\n",
            "469/469 [==============================] - 2s 4ms/step - loss: 0.0686 - binary_accuracy: 0.9726 - val_loss: 0.0947 - val_binary_accuracy: 0.9663\n",
            "Epoch 174/200\n",
            "469/469 [==============================] - 2s 4ms/step - loss: 0.0644 - binary_accuracy: 0.9746 - val_loss: 0.1012 - val_binary_accuracy: 0.9648\n",
            "Epoch 175/200\n",
            "469/469 [==============================] - 2s 4ms/step - loss: 0.0674 - binary_accuracy: 0.9733 - val_loss: 0.1021 - val_binary_accuracy: 0.9651\n",
            "Epoch 176/200\n",
            "469/469 [==============================] - 2s 4ms/step - loss: 0.0680 - binary_accuracy: 0.9728 - val_loss: 0.0995 - val_binary_accuracy: 0.9642\n",
            "Epoch 177/200\n",
            "469/469 [==============================] - 2s 4ms/step - loss: 0.0655 - binary_accuracy: 0.9731 - val_loss: 0.0972 - val_binary_accuracy: 0.9636\n",
            "Epoch 178/200\n",
            "469/469 [==============================] - 2s 4ms/step - loss: 0.0659 - binary_accuracy: 0.9731 - val_loss: 0.0996 - val_binary_accuracy: 0.9662\n",
            "Epoch 179/200\n",
            "469/469 [==============================] - 2s 4ms/step - loss: 0.0705 - binary_accuracy: 0.9710 - val_loss: 0.0946 - val_binary_accuracy: 0.9663\n",
            "Epoch 180/200\n",
            "469/469 [==============================] - 2s 4ms/step - loss: 0.0650 - binary_accuracy: 0.9739 - val_loss: 0.1012 - val_binary_accuracy: 0.9627\n",
            "Epoch 181/200\n",
            "469/469 [==============================] - 2s 4ms/step - loss: 0.0659 - binary_accuracy: 0.9741 - val_loss: 0.1046 - val_binary_accuracy: 0.9669\n",
            "Epoch 182/200\n",
            "469/469 [==============================] - 2s 3ms/step - loss: 0.0686 - binary_accuracy: 0.9727 - val_loss: 0.1024 - val_binary_accuracy: 0.9652\n",
            "Epoch 183/200\n",
            "469/469 [==============================] - 2s 3ms/step - loss: 0.0665 - binary_accuracy: 0.9739 - val_loss: 0.1050 - val_binary_accuracy: 0.9639\n",
            "Epoch 184/200\n",
            "469/469 [==============================] - 2s 4ms/step - loss: 0.0684 - binary_accuracy: 0.9734 - val_loss: 0.0938 - val_binary_accuracy: 0.9657\n",
            "Epoch 185/200\n",
            "469/469 [==============================] - 2s 3ms/step - loss: 0.0638 - binary_accuracy: 0.9748 - val_loss: 0.1009 - val_binary_accuracy: 0.9667\n",
            "Epoch 186/200\n",
            "469/469 [==============================] - 2s 4ms/step - loss: 0.0694 - binary_accuracy: 0.9738 - val_loss: 0.0948 - val_binary_accuracy: 0.9670\n",
            "Epoch 187/200\n",
            "469/469 [==============================] - 2s 4ms/step - loss: 0.0670 - binary_accuracy: 0.9745 - val_loss: 0.1038 - val_binary_accuracy: 0.9621\n",
            "Epoch 188/200\n",
            "469/469 [==============================] - 2s 3ms/step - loss: 0.0635 - binary_accuracy: 0.9747 - val_loss: 0.1012 - val_binary_accuracy: 0.9652\n",
            "Epoch 189/200\n",
            "469/469 [==============================] - 2s 3ms/step - loss: 0.0684 - binary_accuracy: 0.9729 - val_loss: 0.0982 - val_binary_accuracy: 0.9653\n",
            "Epoch 190/200\n",
            "469/469 [==============================] - 2s 4ms/step - loss: 0.0647 - binary_accuracy: 0.9740 - val_loss: 0.0992 - val_binary_accuracy: 0.9639\n",
            "Epoch 191/200\n",
            "469/469 [==============================] - 2s 4ms/step - loss: 0.0696 - binary_accuracy: 0.9724 - val_loss: 0.0966 - val_binary_accuracy: 0.9659\n",
            "Epoch 192/200\n",
            "469/469 [==============================] - 2s 4ms/step - loss: 0.0689 - binary_accuracy: 0.9744 - val_loss: 0.0964 - val_binary_accuracy: 0.9654\n",
            "Epoch 193/200\n",
            "469/469 [==============================] - 2s 4ms/step - loss: 0.0665 - binary_accuracy: 0.9731 - val_loss: 0.0973 - val_binary_accuracy: 0.9643\n",
            "Epoch 194/200\n",
            "469/469 [==============================] - 2s 4ms/step - loss: 0.0652 - binary_accuracy: 0.9749 - val_loss: 0.1014 - val_binary_accuracy: 0.9650\n",
            "Epoch 195/200\n",
            "469/469 [==============================] - 2s 4ms/step - loss: 0.0644 - binary_accuracy: 0.9748 - val_loss: 0.0994 - val_binary_accuracy: 0.9657\n",
            "Epoch 196/200\n",
            "469/469 [==============================] - 2s 4ms/step - loss: 0.0682 - binary_accuracy: 0.9720 - val_loss: 0.1004 - val_binary_accuracy: 0.9664\n",
            "Epoch 197/200\n",
            "469/469 [==============================] - 2s 4ms/step - loss: 0.0643 - binary_accuracy: 0.9746 - val_loss: 0.1034 - val_binary_accuracy: 0.9640\n",
            "Epoch 198/200\n",
            "469/469 [==============================] - 2s 4ms/step - loss: 0.0652 - binary_accuracy: 0.9749 - val_loss: 0.1025 - val_binary_accuracy: 0.9657\n",
            "Epoch 199/200\n",
            "469/469 [==============================] - 2s 4ms/step - loss: 0.0634 - binary_accuracy: 0.9740 - val_loss: 0.0964 - val_binary_accuracy: 0.9656\n",
            "Epoch 200/200\n",
            "469/469 [==============================] - 2s 4ms/step - loss: 0.0645 - binary_accuracy: 0.9745 - val_loss: 0.0913 - val_binary_accuracy: 0.9654\n"
          ],
          "name": "stdout"
        }
      ]
    },
    {
      "cell_type": "markdown",
      "metadata": {
        "id": "QceQvx4FZSbr"
      },
      "source": [
        "### 比較兩種網路的訓練結果"
      ]
    },
    {
      "cell_type": "code",
      "metadata": {
        "id": "8Bq2V_suZSbu",
        "outputId": "4ad75cbe-12e3-4c14-9a6c-13144d66b309",
        "colab": {
          "base_uri": "https://localhost:8080/",
          "height": 951
        }
      },
      "source": [
        "plt.figure(figsize=(8, 6), dpi=400)\n",
        "plt.plot(history_1.history['loss'], label='model-1-training')\n",
        "plt.plot(history_1.history['val_loss'], label='model-1-validation')\n",
        "plt.plot(history_2.history['loss'], label='model-2-training')\n",
        "plt.plot(history_2.history['val_loss'], label='model-2-validation')\n",
        "plt.ylabel('accuracy')\n",
        "plt.xlabel('epochs')\n",
        "plt.legend()"
      ],
      "execution_count": 39,
      "outputs": [
        {
          "output_type": "execute_result",
          "data": {
            "text/plain": [
              "<matplotlib.legend.Legend at 0x7f1cf66ca9b0>"
            ]
          },
          "metadata": {
            "tags": []
          },
          "execution_count": 39
        },
        {
          "output_type": "display_data",
          "data": {
            "image/png": "[encoded data removed]",
            "text/plain": [
              "<Figure size 3200x2400 with 1 Axes>"
            ]
          },
          "metadata": {
            "tags": [],
            "needs_background": "light"
          }
        }
      ]
    },
    {
      "cell_type": "code",
      "metadata": {
        "id": "vwFcLB1YZSb1",
        "outputId": "8c06fe35-60c2-4840-fd19-80650d12d919",
        "colab": {
          "base_uri": "https://localhost:8080/",
          "height": 406
        }
      },
      "source": [
        "plt.figure(figsize=(8, 6))\n",
        "plt.plot(history_1.history['binary_accuracy'], label='model-1-training')\n",
        "plt.plot(history_1.history['val_binary_accuracy'], label='model-1-validation')\n",
        "plt.plot(history_2.history['binary_accuracy'], label='model-2-training')\n",
        "plt.plot(history_2.history['val_binary_accuracy'], label='model-2-validation')\n",
        "plt.ylabel('accuracy')\n",
        "plt.xlabel('epochs')\n",
        "plt.legend()"
      ],
      "execution_count": 40,
      "outputs": [
        {
          "output_type": "execute_result",
          "data": {
            "text/plain": [
              "<matplotlib.legend.Legend at 0x7f1cf6f834e0>"
            ]
          },
          "metadata": {
            "tags": []
          },
          "execution_count": 40
        },
        {
          "output_type": "display_data",
          "data": {
            "image/png": "[encoded data removed]",
            "text/plain": [
              "<Figure size 576x432 with 1 Axes>"
            ]
          },
          "metadata": {
            "tags": [],
            "needs_background": "light"
          }
        }
      ]
    },
    {
      "cell_type": "markdown",
      "metadata": {
        "id": "5OArCKP6ZSb6"
      },
      "source": [
        "驗證在測試集上"
      ]
    },
    {
      "cell_type": "code",
      "metadata": {
        "id": "HvijtBaSZSb7",
        "outputId": "2711fee2-c8fa-49f2-a806-1dd19bf4aa0a",
        "colab": {
          "base_uri": "https://localhost:8080/",
          "height": 89
        }
      },
      "source": [
        "# 載入Model 1準確率最高的模型權重\n",
        "model_1.load_weights(model_dir + '/Best-model-1.h5')\n",
        "# 載入Model 2準確率最高的模型權重\n",
        "model_2.load_weights(model_dir + '/Best-model-2.h5')\n",
        "loss_1, accuracy_1 = model_1.evaluate(x_test_normal, y_test)\n",
        "loss_2, accuracy_2 = model_2.evaluate(x_test_one_hot, y_test)\n",
        "print(\"Model-1: {}%\\nModel-2: {}%\".format(accuracy_1, accuracy_2))"
      ],
      "execution_count": 41,
      "outputs": [
        {
          "output_type": "stream",
          "text": [
            "313/313 [==============================] - 1s 2ms/step - loss: 0.1533 - binary_accuracy: 0.9507\n",
            "313/313 [==============================] - 1s 2ms/step - loss: 0.0984 - binary_accuracy: 0.9656\n",
            "Model-1: 0.9506999850273132%\n",
            "Model-2: 0.9656000137329102%\n"
          ],
          "name": "stdout"
        }
      ]
    },
    {
      "cell_type": "markdown",
      "metadata": {
        "id": "j9-t1K0DZScD"
      },
      "source": [
        "### 寶可夢PK"
      ]
    },
    {
      "cell_type": "code",
      "metadata": {
        "scrolled": true,
        "id": "1q9tsl_wZScE"
      },
      "source": [
        "venusaur = np.expand_dims(pokemon_data_one_hot[3], axis=0)    # 妙蛙花\n",
        "charizard = np.expand_dims(pokemon_data_one_hot[7], axis=0)   # 噴火龍\n",
        "blastoise = np.expand_dims(pokemon_data_one_hot[12], axis=0)  # 水箭龜"
      ],
      "execution_count": 42,
      "outputs": []
    },
    {
      "cell_type": "code",
      "metadata": {
        "id": "g5_hTmP7ZScJ",
        "outputId": "0b41b07e-04ed-4bf5-a17e-72c12b3a77c8",
        "colab": {
          "base_uri": "https://localhost:8080/",
          "height": 71
        }
      },
      "source": [
        "# 妙蛙花 vs 噴火龍\n",
        "pred = model_2.predict(np.concatenate([venusaur, charizard], axis=-1))\n",
        "winner = '妙蛙花' if pred < 0 else '噴火龍'\n",
        "print(\"pred={}, {} 獲勝\".format(pred, winner))\n",
        "\n",
        "# 噴火龍 vs 水箭龜\n",
        "pred = model_2.predict(np.concatenate([charizard, blastoise], axis=-1))\n",
        "winner = '噴火龍' if pred < 0 else '水箭龜'\n",
        "print(\"pred={}, {} 獲勝\".format(pred, winner))\n",
        "\n",
        "# 水箭龜 vs 妙蛙花\n",
        "pred = model_2.predict(np.concatenate([blastoise, venusaur], axis=-1))\n",
        "winner = '水箭龜' if pred < 0 else '妙蛙花'\n",
        "print(\"pred={}, {} 獲勝\".format(pred, winner))"
      ],
      "execution_count": 43,
      "outputs": [
        {
          "output_type": "stream",
          "text": [
            "pred=[[9.963996]], 噴火龍 獲勝\n",
            "pred=[[-12.357206]], 噴火龍 獲勝\n",
            "pred=[[7.144347]], 妙蛙花 獲勝\n"
          ],
          "name": "stdout"
        }
      ]
    },
    {
      "cell_type": "code",
      "metadata": {
        "id": "4XBNr8hYmLtt",
        "outputId": "88f4a7a8-d0a2-4a90-d774-c31f9425c50e",
        "colab": {
          "base_uri": "https://localhost:8080/",
          "height": 35
        }
      },
      "source": [
        "!curl ipecho.net/plain"
      ],
      "execution_count": 44,
      "outputs": [
        {
          "output_type": "stream",
          "text": [
            "35.230.73.24"
          ],
          "name": "stdout"
        }
      ]
    },
    {
      "cell_type": "code",
      "metadata": {
        "id": "2WsH1SVHmM-C",
        "outputId": "2c59e6ea-08a6-48ba-ceeb-84e605c6c8df",
        "colab": {
          "base_uri": "https://localhost:8080/",
          "height": 395
        }
      },
      "source": [
        "!nvidia-smi -l"
      ],
      "execution_count": 45,
      "outputs": [
        {
          "output_type": "stream",
          "text": [
            "Sat Oct 10 03:58:43 2020       \n",
            "+-----------------------------------------------------------------------------+\n",
            "| NVIDIA-SMI 455.23.05    Driver Version: 418.67       CUDA Version: 10.1     |\n",
            "|-------------------------------+----------------------+----------------------+\n",
            "| GPU  Name        Persistence-M| Bus-Id        Disp.A | Volatile Uncorr. ECC |\n",
            "| Fan  Temp  Perf  Pwr:Usage/Cap|         Memory-Usage | GPU-Util  Compute M. |\n",
            "|                               |                      |               MIG M. |\n",
            "|===============================+======================+======================|\n",
            "|   0  Tesla T4            Off  | 00000000:00:04.0 Off |                    0 |\n",
            "| N/A   76C    P0    35W /  70W |    323MiB / 15079MiB |      0%      Default |\n",
            "|                               |                      |                 ERR! |\n",
            "+-------------------------------+----------------------+----------------------+\n",
            "                                                                               \n",
            "+-----------------------------------------------------------------------------+\n",
            "| Processes:                                                                  |\n",
            "|  GPU   GI   CI        PID   Type   Process name                  GPU Memory |\n",
            "|        ID   ID                                                   Usage      |\n",
            "|=============================================================================|\n",
            "|  No running processes found                                                 |\n",
            "+-----------------------------------------------------------------------------+\n",
            "Error occurred while waiting for the event: Function Not Found\n"
          ],
          "name": "stdout"
        }
      ]
    }
  ]
}